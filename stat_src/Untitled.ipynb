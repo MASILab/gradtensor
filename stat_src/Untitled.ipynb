{
 "cells": [
  {
   "cell_type": "code",
   "execution_count": 5,
   "id": "02aab648",
   "metadata": {},
   "outputs": [
    {
     "name": "stderr",
     "output_type": "stream",
     "text": [
      "/home/local/VANDERBILT/kanakap/miniconda3/envs/gradtensor/lib/python3.7/site-packages/nilearn/datasets/__init__.py:89: FutureWarning: Fetchers from the nilearn.datasets module will be updated in version 0.9 to return python strings instead of bytes and Pandas dataframes instead of Numpy arrays.\n",
      "  \"Numpy arrays.\", FutureWarning)\n"
     ]
    }
   ],
   "source": [
    "import os\n",
    "import tempfile\n",
    "from dipy.segment.mask import median_otsu\n",
    "from dipy.core.gradients import gradient_table\n",
    "from dipy.reconst.shm import CsaOdfModel\n",
    "from dipy.direction import peaks_from_model\n",
    "from dipy.direction import ProbabilisticDirectionGetter\n",
    "from dipy.reconst.csdeconv import ConstrainedSphericalDeconvModel\n",
    "from dipy.direction import peaks_from_model\n",
    "from dipy.tracking import utils\n",
    "from dipy.viz import window, actor\n",
    "from nilearn.plotting import plot_anat, plot_roi, plot_stat_map\n",
    "from nilearn.image import index_img, iter_img, new_img_like, math_img\n",
    "from IPython.display import Image\n",
    "from xvfbwrapper import Xvfb\n",
    "import nibabel as nb\n",
    "import pylab as plt\n",
    "import numpy as np"
   ]
  },
  {
   "cell_type": "code",
   "execution_count": 6,
   "id": "feae0555",
   "metadata": {},
   "outputs": [],
   "source": [
    "# helper function for plotting woth dipy and VTK on a headless system\n",
    "def show_image(actor, size=(1000,1000)):\n",
    "    with tempfile.TemporaryDirectory() as tmp_dir:\n",
    "        temp_filename = os.path.join(tmp_dir, 'tmp.png')\n",
    "        with Xvfb() as xvfb:\n",
    "            ren = window.Renderer()\n",
    "            ren.add(actor)\n",
    "            window.record(ren, n_frames=1, out_path=temp_filename, size=size)\n",
    "            window.clear(ren)\n",
    "        return Image(filename=temp_filename) "
   ]
  },
  {
   "cell_type": "code",
   "execution_count": 8,
   "id": "d7aa2586",
   "metadata": {},
   "outputs": [
    {
     "data": {
      "text/plain": [
       "1"
      ]
     },
     "execution_count": 8,
     "metadata": {},
     "output_type": "execute_result"
    }
   ],
   "source": [
    "img = nb.load('/home/local/VANDERBILT/kanakap/gradtensor_data/10_29_2019_human_repositioned/3tb/posA/OUTPUTS_signal_estimate/posA_3tb_est_sig.nii')\n",
    "\n",
    "data = img.get_fdata()\n",
    "data.shape\n",
    "gtab = gradient_table('/home/local/VANDERBILT/kanakap/gradtensor_data/10_29_2019_human_repositioned/3tb/posA/INPUTS/dwmri.bval', '/home/local/VANDERBILT/kanakap/gradtensor_data/10_29_2019_human_repositioned/3tb/posA/INPUTS/dwmri.bvec')\n",
    "(gtab.bvals == 0).sum()"
   ]
  },
  {
   "cell_type": "code",
   "execution_count": 9,
   "id": "21e0907d",
   "metadata": {},
   "outputs": [
    {
     "data": {
      "text/plain": [
       "(25, 3)"
      ]
     },
     "execution_count": 9,
     "metadata": {},
     "output_type": "execute_result"
    }
   ],
   "source": [
    "gtab.bvecs.shape"
   ]
  },
  {
   "cell_type": "code",
   "execution_count": 14,
   "id": "ce5d9758",
   "metadata": {},
   "outputs": [
    {
     "data": {
      "text/plain": [
       "<nilearn.plotting.displays.OrthoSlicer at 0x7f216c463b10>"
      ]
     },
     "execution_count": 14,
     "metadata": {},
     "output_type": "execute_result"
    },
    {
     "data": {
      "image/png": "[encoded data removed]",
      "text/plain": [
       "<Figure size 1296x288 with 4 Axes>"
      ]
     },
     "metadata": {
      "needs_background": "light"
     },
     "output_type": "display_data"
    }
   ],
   "source": [
    "i = 0\n",
    "cur_img = index_img(img, i)\n",
    "plot_anat(cur_img, cut_coords=(0,0,2), draw_cross=False, figure=plt.figure(figsize=(18,4)), cmap='magma',\n",
    "              vmin=0, vmax=400, title=\"bval = %g, bvec=%s\"%(gtab.bvals[i], str(np.round(gtab.bvecs[i,:],2))))\n"
   ]
  },
  {
   "cell_type": "code",
   "execution_count": 15,
   "id": "29ff59ad",
   "metadata": {},
   "outputs": [
    {
     "data": {
      "text/plain": [
       "(96, 96, 68, 25)"
      ]
     },
     "execution_count": 15,
     "metadata": {},
     "output_type": "execute_result"
    }
   ],
   "source": [
    "img.shape"
   ]
  },
  {
   "cell_type": "code",
   "execution_count": 17,
   "id": "ed28ac41",
   "metadata": {},
   "outputs": [
    {
     "data": {
      "text/plain": [
       "(96, 96, 68)"
      ]
     },
     "execution_count": 17,
     "metadata": {},
     "output_type": "execute_result"
    }
   ],
   "source": [
    "cur_img.shape"
   ]
  },
  {
   "cell_type": "code",
   "execution_count": 25,
   "id": "a89f9eb2",
   "metadata": {},
   "outputs": [
    {
     "data": {
      "text/plain": [
       "memmap([[[ 0.00000000e+00,  0.00000000e+00,  0.00000000e+00, ...,\n",
       "           0.00000000e+00,  0.00000000e+00,  0.00000000e+00],\n",
       "         [ 0.00000000e+00,  0.00000000e+00,  0.00000000e+00, ...,\n",
       "           0.00000000e+00,  0.00000000e+00,  0.00000000e+00],\n",
       "         [ 0.00000000e+00,  0.00000000e+00,  0.00000000e+00, ...,\n",
       "           0.00000000e+00,  0.00000000e+00,  0.00000000e+00],\n",
       "         ...,\n",
       "         [ 0.00000000e+00,  0.00000000e+00,  0.00000000e+00, ...,\n",
       "           0.00000000e+00,  0.00000000e+00,  0.00000000e+00],\n",
       "         [ 0.00000000e+00,  0.00000000e+00,  0.00000000e+00, ...,\n",
       "           0.00000000e+00,  0.00000000e+00,  0.00000000e+00],\n",
       "         [ 0.00000000e+00,  0.00000000e+00,  0.00000000e+00, ...,\n",
       "           0.00000000e+00,  0.00000000e+00,  0.00000000e+00]],\n",
       "\n",
       "        [[ 0.00000000e+00,  0.00000000e+00,  0.00000000e+00, ...,\n",
       "           0.00000000e+00,  0.00000000e+00,  0.00000000e+00],\n",
       "         [ 0.00000000e+00,  0.00000000e+00,  0.00000000e+00, ...,\n",
       "           0.00000000e+00,  0.00000000e+00,  0.00000000e+00],\n",
       "         [ 0.00000000e+00,  0.00000000e+00,  0.00000000e+00, ...,\n",
       "           0.00000000e+00,  0.00000000e+00,  0.00000000e+00],\n",
       "         ...,\n",
       "         [ 0.00000000e+00,  0.00000000e+00,  0.00000000e+00, ...,\n",
       "           1.22207355e-02,  1.92881665e-03,  0.00000000e+00],\n",
       "         [ 0.00000000e+00,  0.00000000e+00,  0.00000000e+00, ...,\n",
       "           4.07223991e-04, -5.01110292e-04,  0.00000000e+00],\n",
       "         [ 0.00000000e+00,  0.00000000e+00,  0.00000000e+00, ...,\n",
       "           3.79954427e-05,  1.11227066e-04,  0.00000000e+00]],\n",
       "\n",
       "        [[ 0.00000000e+00,  1.04414268e-02,  9.96780954e-03, ...,\n",
       "          -2.44992169e-04,  3.27739349e-03,  0.00000000e+00],\n",
       "         [ 0.00000000e+00,  9.87440824e-03,  1.33865742e-02, ...,\n",
       "          -2.65429809e-04,  1.42264426e-03,  0.00000000e+00],\n",
       "         [ 0.00000000e+00,  1.25103142e-02,  1.31375465e-02, ...,\n",
       "           6.41049832e-04, -1.14512045e-03,  0.00000000e+00],\n",
       "         ...,\n",
       "         [ 0.00000000e+00,  0.00000000e+00,  1.45976141e-04, ...,\n",
       "           1.19450119e-02,  2.10338633e-03,  0.00000000e+00],\n",
       "         [ 0.00000000e+00,  0.00000000e+00,  3.14944480e-05, ...,\n",
       "           4.04062079e-04,  3.79139776e-03,  0.00000000e+00],\n",
       "         [ 0.00000000e+00,  0.00000000e+00, -2.49448142e-04, ...,\n",
       "          -1.42642131e-04,  6.19874073e-05,  0.00000000e+00]],\n",
       "\n",
       "        ...,\n",
       "\n",
       "        [[ 0.00000000e+00,  2.88304712e-04,  1.69189389e-04, ...,\n",
       "           7.19222697e-04,  1.36474837e-03,  0.00000000e+00],\n",
       "         [ 0.00000000e+00, -1.41923815e-04,  8.59072755e-04, ...,\n",
       "           3.20699482e-03,  1.15076051e-02,  0.00000000e+00],\n",
       "         [ 0.00000000e+00, -2.37766571e-04,  2.12293548e-03, ...,\n",
       "           8.54176426e-03,  9.30694715e-03,  0.00000000e+00],\n",
       "         ...,\n",
       "         [ 0.00000000e+00,  0.00000000e+00,  1.33406290e-02, ...,\n",
       "          -1.53559307e-04,  9.26725009e-05,  0.00000000e+00],\n",
       "         [ 0.00000000e+00,  0.00000000e+00,  5.30590049e-03, ...,\n",
       "           1.55948838e-05, -3.72657479e-05,  0.00000000e+00],\n",
       "         [ 0.00000000e+00,  0.00000000e+00, -4.90707717e-04, ...,\n",
       "          -1.61765476e-05,  1.05227026e-04,  0.00000000e+00]],\n",
       "\n",
       "        [[ 0.00000000e+00,  7.90950796e-05,  1.06303347e-03, ...,\n",
       "           1.04256605e-03, -1.15111646e-04,  0.00000000e+00],\n",
       "         [ 0.00000000e+00, -3.35992341e-04,  4.88043545e-04, ...,\n",
       "           3.37137830e-03,  8.15289083e-03,  0.00000000e+00],\n",
       "         [ 0.00000000e+00, -4.13940618e-05,  3.45791653e-04, ...,\n",
       "           6.31531309e-03,  3.16228211e-03,  0.00000000e+00],\n",
       "         ...,\n",
       "         [ 0.00000000e+00,  0.00000000e+00,  8.78646294e-03, ...,\n",
       "           5.73543605e-04, -2.55882124e-04,  0.00000000e+00],\n",
       "         [ 0.00000000e+00,  0.00000000e+00,  4.93249726e-03, ...,\n",
       "          -3.63324180e-05,  7.24455604e-06,  0.00000000e+00],\n",
       "         [ 0.00000000e+00,  0.00000000e+00, -4.39809755e-04, ...,\n",
       "          -1.61492649e-05,  8.75553841e-05,  0.00000000e+00]],\n",
       "\n",
       "        [[ 0.00000000e+00,  0.00000000e+00,  0.00000000e+00, ...,\n",
       "           0.00000000e+00,  0.00000000e+00,  0.00000000e+00],\n",
       "         [ 0.00000000e+00,  0.00000000e+00,  0.00000000e+00, ...,\n",
       "           0.00000000e+00,  0.00000000e+00,  0.00000000e+00],\n",
       "         [ 0.00000000e+00,  0.00000000e+00,  0.00000000e+00, ...,\n",
       "           0.00000000e+00,  0.00000000e+00,  0.00000000e+00],\n",
       "         ...,\n",
       "         [ 0.00000000e+00,  0.00000000e+00,  0.00000000e+00, ...,\n",
       "           0.00000000e+00,  0.00000000e+00,  0.00000000e+00],\n",
       "         [ 0.00000000e+00,  0.00000000e+00,  0.00000000e+00, ...,\n",
       "           0.00000000e+00,  0.00000000e+00,  0.00000000e+00],\n",
       "         [ 0.00000000e+00,  0.00000000e+00,  0.00000000e+00, ...,\n",
       "           0.00000000e+00,  0.00000000e+00,  0.00000000e+00]]])"
      ]
     },
     "execution_count": 25,
     "metadata": {},
     "output_type": "execute_result"
    }
   ],
   "source": [
    "data[:,:,:,0]"
   ]
  },
  {
   "cell_type": "code",
   "execution_count": 34,
   "id": "7d7c5cc5",
   "metadata": {},
   "outputs": [
    {
     "name": "stdout",
     "output_type": "stream",
     "text": [
      "(96, 96, 68)\n"
     ]
    },
    {
     "data": {
      "text/plain": [
       "<matplotlib.image.AxesImage at 0x7f20a3bd4d50>"
      ]
     },
     "execution_count": 34,
     "metadata": {},
     "output_type": "execute_result"
    },
    {
     "data": {
      "image/png": "[encoded data removed]",
      "text/plain": [
       "<Figure size 432x288 with 1 Axes>"
      ]
     },
     "metadata": {
      "needs_background": "light"
     },
     "output_type": "display_data"
    }
   ],
   "source": [
    "slice = data[:,:,:,15]\n",
    "print(slice.shape)\n",
    "slice = slice[:,45,:]\n",
    "m = slice.min()\n",
    "M = slice.max()\n",
    "slice = np.flip(np.rot90(slice,3))\n",
    "slice = np.nan_to_num(slice)\n",
    "cmap = plt.get_cmap('gray')\n",
    "plt.imshow(np.abs(slice), vmin=m, vmax=M, cmap=cmap)"
   ]
  },
  {
   "cell_type": "code",
   "execution_count": 29,
   "id": "ded2850e",
   "metadata": {},
   "outputs": [
    {
     "data": {
      "text/plain": [
       "(96, 96, 68)"
      ]
     },
     "execution_count": 29,
     "metadata": {},
     "output_type": "execute_result"
    }
   ],
   "source": [
    "ten_raw = nb.load('/home/local/VANDERBILT/kanakap/gradtensor_data/10_29_2019_human_repositioned/3tb/posA/INPUTS/brainA__fa.nii').get_fdata()\n",
    "ten_raw.shape"
   ]
  },
  {
   "cell_type": "code",
   "execution_count": null,
   "id": "223e49ba",
   "metadata": {},
   "outputs": [],
   "source": []
  }
 ],
 "metadata": {
  "kernelspec": {
   "display_name": "Python 3 (ipykernel)",
   "language": "python",
   "name": "python3"
  },
  "language_info": {
   "codemirror_mode": {
    "name": "ipython",
    "version": 3
   },
   "file_extension": ".py",
   "mimetype": "text/x-python",
   "name": "python",
   "nbconvert_exporter": "python",
   "pygments_lexer": "ipython3",
   "version": "3.7.10"
  }
 },
 "nbformat": 4,
 "nbformat_minor": 5
}
