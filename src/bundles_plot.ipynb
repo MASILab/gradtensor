{
 "cells": [
  {
   "cell_type": "code",
   "execution_count": null,
   "id": "11f6ccbe",
   "metadata": {},
   "outputs": [],
   "source": [
    "import numpy as np\n",
    "import os\n",
    "import glob\n",
    "import json \n",
    "\n",
    "p = []\n",
    "for path in glob.glob('/nfs/masi/kanakap/projects/LR_tract/MASiVar_kids/*/*'):\n",
    "    p.append(path)\n",
    "p.sort()\n",
    "d = {}\n",
    "for i in range(len(p)):\n",
    "    a = [p[i]+'/tracto_op_1_Lest/stats_json/length_stats.json',p[i]+'/tracto_op_2_Lest/stats_json/length_stats.json']\n",
    "    d[i] = a\n",
    "\n",
    "all_len = {}\n",
    "data_len = []\n",
    "data_len1 = []\n",
    "for i in d:\n",
    "\n",
    "    if os.path.exists(d[i][0]):\n",
    "        f = open(d[i][0])\n",
    "        data = json.load(f)\n",
    "\n",
    "    if os.path.exists(d[i][1]):\n",
    "        f = open(d[i][1])\n",
    "        data1 = json.load(f)\n",
    "    \n",
    "    k = list(data.keys())[0] \n",
    "    k1 = list(data1.keys())[0]\n",
    "    if k == k1: \n",
    "        \n",
    "        v = list(data[k].values()) # get the value of the subj dict\n",
    "        v1 = list(data1[k1].values())\n",
    "\n",
    "    \n",
    "        #if len(v) == len(v1): # if the number of bundles generated is same\n",
    "        vlen = []\n",
    "        for j in range(len(v)): # compute pe\n",
    "            #diff = abs ( (v[j]['mean_length'] - v1[j]['mean_length']) / v1[j]['mean_length'] ) * 100\n",
    "            vlen.append(v[j]['mean_length'])\n",
    "        mean = np.mean(vlen)\n",
    "        vlen1 = []\n",
    "        for j in range(len(v1)):\n",
    "            vlen1.append(v1[j]['mean_length'])\n",
    "        mean1 = np.mean(vlen1)\n",
    "\n",
    "#             su += vlen          # sum \n",
    "#             su1 += vlen1\n",
    "            \n",
    "#         mean_diff = su / len(v)  # mean \n",
    "#         mean_diff1 = su1 / len(v1)\n",
    "#         else:\n",
    "#             mean_diff = 0\n",
    "#             mean_diff1 = 0\n",
    "    data_len.append(mean)\n",
    "    data_len1.append(mean1)\n",
    "    all_len[i] = [mean, mean1]\n",
    "\n",
    "# print(all_len)"
   ]
  },
  {
   "cell_type": "code",
   "execution_count": null,
   "id": "7b97e333",
   "metadata": {},
   "outputs": [],
   "source": [
    "import pandas as pd\n",
    "csv_data = pd.read_csv('/nfs/masi/kanakap/kids_sessions.csv')\n",
    "csv_data['sex'].replace(['male','female'],['b','r'],inplace=True)\n",
    "csv_data['age'] = np.where(csv_data['age'].between(5,5.9),1,csv_data['age'])\n",
    "csv_data['age'] = np.where(csv_data['age'].between(6,6.9),2,csv_data['age'])\n",
    "csv_data['age'] = np.where(csv_data['age'].between(7,7.9),3,csv_data['age'])\n",
    "csv_data['age'] = np.where(csv_data['age'].between(8,8.9),4,csv_data['age'])\n",
    "csv_data['age'].replace([1,2,3,4],['o','x','^','+'],inplace=True)\n",
    "csv_data"
   ]
  },
  {
   "cell_type": "code",
   "execution_count": null,
   "id": "279c6a1b",
   "metadata": {},
   "outputs": [],
   "source": [
    "def bland_altman_plot(data1, data2, labels, sym, *args, **kwargs):\n",
    "    data1     = np.asarray(data1)\n",
    "    data2     = np.asarray(data2)\n",
    "    mean      = np.mean([data1, data2], axis=0)\n",
    "    diff      = data1 - data2                   # Difference between data1 and data2\n",
    "    md        = np.mean(diff)                   # Mean of the difference\n",
    "    sd        = np.std(diff, axis=0)            # Standard deviation of the difference\n",
    "    for i in range(len(sym)):\n",
    "        plt.scatter(mean[i], diff[i], c=labels[i], marker=sym[i], s=120, *args, **kwargs)\n",
    "    \n",
    "    legend_element = [Line2D([0],[0], lw=4,color='b',label='Male',markersize=8),\n",
    "                      Line2D([0],[0], lw=4,color='r',label='Female',markersize=8),\n",
    "                     Line2D([],[], marker='o',color='k',label='Age 5 - 5.9',linestyle='None',markersize=10),\n",
    "                     Line2D([],[], marker='x',color='k',label='Age 6 - 6.9',linestyle='None',markersize=10),\n",
    "                     Line2D([],[], marker='^',color='k',label='Age 7 - 7.9',linestyle='None',markersize=10),\n",
    "                     Line2D([],[], marker='+',color='k',label='Age 8 - 8.9',linestyle='None',markersize=10)]\n",
    "    plt.legend(handles=legend_element)\n",
    "    plt.axhline(md,           color='gray', linestyle='--')\n",
    "    plt.axhline(md + 1.96*sd, color='gray', linestyle='--')\n",
    "    plt.axhline(md - 1.96*sd, color='gray', linestyle='--')"
   ]
  },
  {
   "cell_type": "code",
   "execution_count": null,
   "id": "3032b6e4",
   "metadata": {},
   "outputs": [],
   "source": [
    "from matplotlib.lines import Line2D \n",
    "import matplotlib.pyplot as plt\n",
    "plt.figure(figsize=(15,12))\n",
    "bland_altman_plot(data_len,data_len1,list(csv_data['sex']),list(csv_data['age']))\n",
    "plt.title('Bland-Altman for mean length with L(r) corruption',fontsize=25)\n",
    "plt.xlabel('Mean',fontsize=25)\n",
    "plt.ylabel('Difference',fontsize=25)\n",
    "plt.rcParams.update({'font.size':25})"
   ]
  },
  {
   "cell_type": "code",
   "execution_count": null,
   "id": "3b08815b",
   "metadata": {},
   "outputs": [],
   "source": [
    "import numpy as np\n",
    "import os\n",
    "import glob\n",
    "import json \n",
    "\n",
    "p = []\n",
    "for path in glob.glob('/nfs/masi/kanakap/projects/LR_tract/MASiVar_kids/*/*'):\n",
    "    p.append(path)\n",
    "p.sort()\n",
    "d = {}\n",
    "for i in range(len(p)):\n",
    "    a = [p[i]+'/tracto_op_1_Lest/stats_json/volumes.json',p[i]+'/tracto_op_2_Lest/stats_json/volumes.json']\n",
    "    d[i] = a\n",
    "\n",
    "all_vol = {}\n",
    "data_vol = []\n",
    "data_vol1 = []\n",
    "for i in d:\n",
    "    if os.path.exists(d[i][0]):\n",
    "        f = open(d[i][0])\n",
    "        data = json.load(f)\n",
    "\n",
    "    if os.path.exists(d[i][1]):\n",
    "        f = open(d[i][1])\n",
    "        data1 = json.load(f)\n",
    "    \n",
    "    k = list(data.keys())[0]\n",
    "    k1 = list(data1.keys())[0]\n",
    "    if k == k1:\n",
    "        v = list(data[k].values())\n",
    "        v1 = list(data1[k1].values())\n",
    "        vol = []\n",
    "        for j in range(len(v)): # compute pe\n",
    "            #diff = abs ( (v[j]['mean_length'] - v1[j]['mean_length']) / v1[j]['mean_length'] ) * 100\n",
    "            vol.append(v[j]['volume'])\n",
    "        mean = np.mean(vol)\n",
    "        vol1 = []\n",
    "        for j in range(len(v1)):\n",
    "            vol1.append(v1[j]['volume'])\n",
    "        mean1 = np.mean(vol1)\n",
    "#         su = 0 \n",
    "#         su1 = 0\n",
    "#         if len(v) == len(v1):\n",
    "#             for j in range(len(v)):\n",
    "#                 #diff = abs ( ( v[j]['volume'] - v1[j]['volume'] ) / v1[j]['volume'] ) * 100\n",
    "#                 vol = v[j]['volume']\n",
    "#                 vol1 = v1[j]['volume']\n",
    "#                 su += vol\n",
    "#                 su1 += vol1\n",
    "#             mean_diff = su / len(v)\n",
    "#             mean_diff1 = su1 / len(v1)\n",
    "\n",
    "    data_vol.append(mean)\n",
    "    data_vol1.append(mean1)\n",
    "    all_vol[i] = [mean, mean1]"
   ]
  },
  {
   "cell_type": "code",
   "execution_count": null,
   "id": "919cdab9",
   "metadata": {},
   "outputs": [],
   "source": [
    "plt.figure(figsize=(15,12))\n",
    "bland_altman_plot(data_vol,data_vol1,list(csv_data['sex']),list(csv_data['age']))\n",
    "plt.title('Bland-Altman for mean volume with L(r) corruption',fontsize=25)\n",
    "plt.xlabel('Mean',fontsize=25)\n",
    "plt.ylabel('Difference',fontsize=25)\n",
    "plt.rcParams.update({'font.size':25})"
   ]
  },
  {
   "cell_type": "code",
   "execution_count": 9,
   "id": "fde571b1",
   "metadata": {},
   "outputs": [],
   "source": [
    "import numpy as np\n",
    "import os\n",
    "import glob\n",
    "import json \n",
    "\n",
    "p = []\n",
    "for path in glob.glob('/nfs/masi/kanakap/projects/LR_tract/MASiVar_kids/*/*'):\n",
    "    p.append(path)\n",
    "p.sort()\n",
    "d = {}\n",
    "for i in range(len(p)):\n",
    "    a = [p[i]+'/tracto_op_lr_corr_1/stats_json/length_stats.json',p[i]+'/tracto_op_lr_corr_2/stats_json/length_stats.json']\n",
    "    d[i] = a"
   ]
  },
  {
   "cell_type": "code",
   "execution_count": 10,
   "id": "ce4e2a5e",
   "metadata": {
    "scrolled": false
   },
   "outputs": [],
   "source": [
    "count = 0\n",
    "dicts = []\n",
    "for i in d:\n",
    "    \n",
    "    if os.path.exists(d[i][0]) and os.path.exists(d[i][1]):\n",
    "        f = open(d[i][0])\n",
    "        data = json.load(f)\n",
    "        mean_len = {} # make a new dict with mapping bundles and meanlength\n",
    "        k = list(data.keys())[0] \n",
    "        b_key = list(data[k].keys())# get the bundles\n",
    "        v = list(data[k].values())  # get the values\n",
    "        for j in range(len(b_key)): \n",
    "\n",
    "            mean_len[b_key[j]] = v[j]['mean_length'] # assign bundle to mean length\n",
    "\n",
    "\n",
    "        f = open(d[i][1])\n",
    "        data1 = json.load(f)\n",
    "        count = count + 1\n",
    "        mean_len1 = {} # make a new dict with mapping bundles and meanlength\n",
    "\n",
    "        k1 = list(data1.keys())[0] \n",
    "        b_key1 = list(data1[k1].keys())# get the bundles\n",
    "        v1 = list(data1[k1].values())  # get the values\n",
    "        for j in range(len(b_key1)): \n",
    "\n",
    "            mean_len1[b_key1[j]] = v1[j]['mean_length'] # assign bundle to mean length\n",
    "\n",
    "        diff = {}\n",
    "        for key in mean_len: \n",
    "            if key in mean_len1:\n",
    "                c_mean = np.nanmean([mean_len[key] , mean_len1[key]])\n",
    "                c_std = np.nanstd([mean_len[key] , mean_len1[key]])\n",
    "                diff[key] = (c_std / c_mean)  \n",
    "    else:\n",
    "        diff = 'nan'\n",
    "            \n",
    "    dicts.append(diff)\n",
    "   "
   ]
  },
  {
   "cell_type": "code",
   "execution_count": 11,
   "id": "148aaed5",
   "metadata": {},
   "outputs": [],
   "source": [
    "#df = pd.DataFrame(columns=['AC', 'AF_L', 'AF_R', 'CC_Fr_1', 'CC_Fr_2', 'CC_Oc', 'CC_Pa', 'CC_Pr_Po', 'CC_Te', 'CG_L', 'CG_R', 'FAT_L', 'FAT_R', 'FPT_L', 'FPT_R', 'FX_L', 'FX_R', 'IFOF_L', 'IFOF_R', 'ILF_L', 'ILF_R', 'MCP', 'MdLF_L', 'MdLF_R', 'OR_ML_L', 'OR_ML_R', 'POPT_L', 'POPT_R', 'PYT_L', 'PYT_R', 'SCP_L', 'SCP_R', 'SLF_L', 'SLF_R', 'UF_L', 'UF_R'])\n",
    "import pandas as pd\n",
    "len_df = pd.DataFrame()\n",
    "for i in dicts:\n",
    "    if i != 'nan':\n",
    "        for key in i:\n",
    "            #df = df.append({key: i[key]}, ignore_index=True )\n",
    "            new_row = {'0': i[key], 'x':key, lr='corr'}\n",
    "            len_df = len_df.append(new_row, ignore_index=True )\n",
    "            "
   ]
  },
  {
   "cell_type": "code",
   "execution_count": null,
   "id": "4255ffd2",
   "metadata": {},
   "outputs": [],
   "source": [
    "'Accent', 'Accent_r', 'Blues', 'Blues_r', 'BrBG', 'BrBG_r', 'BuGn', 'BuGn_r', 'BuPu', 'BuPu_r', 'CMRmap', 'CMRmap_r', 'Dark2', 'Dark2_r', 'GnBu', 'GnBu_r', 'Greens', 'Greens_r', 'Greys', 'Greys_r', 'OrRd', 'OrRd_r', 'Oranges', 'Oranges_r', 'PRGn', 'PRGn_r', 'Paired', 'Paired_r', 'Pastel1', 'Pastel1_r', 'Pastel2', 'Pastel2_r', 'PiYG', 'PiYG_r', 'PuBu', 'PuBuGn', 'PuBuGn_r', 'PuBu_r', 'PuOr', 'PuOr_r', 'PuRd', 'PuRd_r', 'Purples', 'Purples_r', 'RdBu', 'RdBu_r', 'RdGy', 'RdGy_r', 'RdPu', 'RdPu_r', 'RdYlBu', 'RdYlBu_r', 'RdYlGn', 'RdYlGn_r', 'Reds', 'Reds_r', 'Set1', 'Set1_r', 'Set2', 'Set2_r', 'Set3', 'Set3_r', 'Spectral', 'Spectral_r', 'Wistia', 'Wistia_r', 'YlGn', 'YlGnBu', 'YlGnBu_r', 'YlGn_r', 'YlOrBr', 'YlOrBr_r', 'YlOrRd', 'YlOrRd_r', 'afmhot', 'afmhot_r', 'autumn', 'autumn_r', 'binary', 'binary_r', 'bone', 'bone_r', 'brg', 'brg_r', 'bwr', 'bwr_r', 'cividis', 'cividis_r', 'cool', 'cool_r', 'coolwarm', 'coolwarm_r', 'copper', 'copper_r', 'crest', 'crest_r', 'cubehelix', 'cubehelix_r', 'flag', 'flag_r', 'flare', 'flare_r', 'gist_earth', 'gist_earth_r', 'gist_gray', 'gist_gray_r', 'gist_heat', 'gist_heat_r', 'gist_ncar', 'gist_ncar_r', 'gist_rainbow', 'gist_rainbow_r', 'gist_stern', 'gist_stern_r', 'gist_yarg', 'gist_yarg_r', 'gnuplot', 'gnuplot2', 'gnuplot2_r', 'gnuplot_r', 'gray', 'gray_r', 'hot', 'hot_r', 'hsv', 'hsv_r', 'icefire', 'icefire_r', 'inferno', 'inferno_r', 'jet', 'jet_r', 'magma', 'magma_r', 'mako', 'mako_r', 'nipy_spectral', 'nipy_spectral_r', 'ocean', 'ocean_r', 'pink', 'pink_r', 'plasma', 'plasma_r', 'prism', 'prism_r', 'rainbow', 'rainbow_r', 'rocket', 'rocket_r', 'seismic', 'seismic_r', 'spring', 'spring_r', 'summer', 'summer_r', 'tab10', 'tab10_r', 'tab20', 'tab20_r', 'tab20b', 'tab20b_r', 'tab20c', 'tab20c_r', 'terrain', 'terrain_r', 'turbo', 'turbo_r', 'twilight', 'twilight_r', 'twilight_shifted', 'twilight_shifted_r', 'viridis', 'viridis_r', 'vlag', 'vlag_r', 'winter', 'winter_r'\n"
   ]
  },
  {
   "cell_type": "code",
   "execution_count": 8,
   "id": "f22aaac8",
   "metadata": {},
   "outputs": [
    {
     "data": {
      "image/png": "[encoded data removed]",
      "text/plain": [
       "<Figure size 1224x864 with 1 Axes>"
      ]
     },
     "metadata": {
      "needs_background": "light"
     },
     "output_type": "display_data"
    }
   ],
   "source": [
    "import seaborn as sns\n",
    "import matplotlib.pyplot as plt\n",
    "import warnings\n",
    "%matplotlib inline\n",
    "warnings.filterwarnings('ignore')\n",
    "fig = plt.figure(figsize=(17,12))\n",
    "plt.rcParams.update({'font.size':22})\n",
    "\n",
    "flierprops = dict(markerfacecolor='0.75', markersize=5, marker='.',\n",
    "              linestyle='none')\n",
    "ax = sns.boxplot(x='x',y='0',data=len_df, flierprops=flierprops, width=0.7, palette=\"Spectral\")\n",
    "plt.title('Mean length across bundles with L(r) corruption', fontsize = 25)\n",
    "plt.xlabel('Bundles', fontsize = 25)\n",
    "plt.ylabel('CoV', fontsize = 25)\n",
    "a = ax.set_xticklabels(ax.get_xticklabels(),rotation=90)"
   ]
  },
  {
   "cell_type": "code",
   "execution_count": null,
   "id": "6ae38969",
   "metadata": {},
   "outputs": [],
   "source": [
    "import seaborn as sns\n",
    "import matplotlib.pyplot as plt\n",
    "import warnings\n",
    "\n",
    "warnings.filterwarnings('ignore')\n",
    "plt.figure(figsize=(17,12))\n",
    "plt.rcParams.update({'font.size':22})\n",
    "flierprops = dict(markerfacecolor='0.75', markersize=5, marker='.',\n",
    "              linestyle='none')\n",
    "ax = sns.boxplot(x='x',y='0',data=elen_df, flierprops=flierprops, width=0.7, palette=\"Spectral\")\n",
    "plt.title('Mean length across bundles', fontsize = 25)\n",
    "plt.xlabel('Bundles', fontsize = 25)\n",
    "plt.ylabel('CoV', fontsize = 25)\n",
    "a = ax.set_xticklabels(ax.get_xticklabels(),rotation=90)"
   ]
  },
  {
   "cell_type": "code",
   "execution_count": 14,
   "id": "458e1d50",
   "metadata": {},
   "outputs": [],
   "source": [
    "a  = pd.concat([len_df,elen_df])"
   ]
  },
  {
   "cell_type": "code",
   "execution_count": 15,
   "id": "6c420cd9",
   "metadata": {},
   "outputs": [
    {
     "ename": "ValueError",
     "evalue": "Could not interpret input 'lr'",
     "output_type": "error",
     "traceback": [
      "\u001b[0;31m---------------------------------------------------------------------------\u001b[0m",
      "\u001b[0;31mValueError\u001b[0m                                Traceback (most recent call last)",
      "\u001b[0;32m<ipython-input-15-eb15439a691f>\u001b[0m in \u001b[0;36m<module>\u001b[0;34m\u001b[0m\n\u001b[1;32m      8\u001b[0m flierprops = dict(markerfacecolor='0.75', markersize=5, marker='.',\n\u001b[1;32m      9\u001b[0m               linestyle='none')\n\u001b[0;32m---> 10\u001b[0;31m \u001b[0max\u001b[0m \u001b[0;34m=\u001b[0m \u001b[0msns\u001b[0m\u001b[0;34m.\u001b[0m\u001b[0mboxplot\u001b[0m\u001b[0;34m(\u001b[0m\u001b[0mx\u001b[0m\u001b[0;34m=\u001b[0m\u001b[0;34m'x'\u001b[0m\u001b[0;34m,\u001b[0m\u001b[0my\u001b[0m\u001b[0;34m=\u001b[0m\u001b[0;34m'0'\u001b[0m\u001b[0;34m,\u001b[0m\u001b[0mdata\u001b[0m\u001b[0;34m=\u001b[0m\u001b[0ma\u001b[0m\u001b[0;34m,\u001b[0m \u001b[0mhue\u001b[0m \u001b[0;34m=\u001b[0m \u001b[0;34m'lr'\u001b[0m\u001b[0;34m,\u001b[0m\u001b[0mflierprops\u001b[0m\u001b[0;34m=\u001b[0m\u001b[0mflierprops\u001b[0m\u001b[0;34m,\u001b[0m \u001b[0mwidth\u001b[0m\u001b[0;34m=\u001b[0m\u001b[0;36m0.7\u001b[0m\u001b[0;34m)\u001b[0m\u001b[0;31m#palette=\"Spectral\")\u001b[0m\u001b[0;34m\u001b[0m\u001b[0;34m\u001b[0m\u001b[0m\n\u001b[0m\u001b[1;32m     11\u001b[0m \u001b[0mplt\u001b[0m\u001b[0;34m.\u001b[0m\u001b[0mtitle\u001b[0m\u001b[0;34m(\u001b[0m\u001b[0;34m'Volume across bundles with L(r) correction'\u001b[0m\u001b[0;34m,\u001b[0m \u001b[0mfontsize\u001b[0m \u001b[0;34m=\u001b[0m \u001b[0;36m25\u001b[0m\u001b[0;34m)\u001b[0m\u001b[0;34m\u001b[0m\u001b[0;34m\u001b[0m\u001b[0m\n\u001b[1;32m     12\u001b[0m \u001b[0mplt\u001b[0m\u001b[0;34m.\u001b[0m\u001b[0mxlabel\u001b[0m\u001b[0;34m(\u001b[0m\u001b[0;34m'Bundles'\u001b[0m\u001b[0;34m,\u001b[0m \u001b[0mfontsize\u001b[0m \u001b[0;34m=\u001b[0m \u001b[0;36m25\u001b[0m\u001b[0;34m)\u001b[0m\u001b[0;34m\u001b[0m\u001b[0;34m\u001b[0m\u001b[0m\n",
      "\u001b[0;32m~/miniconda3/envs/gradten/lib/python3.6/site-packages/seaborn/_decorators.py\u001b[0m in \u001b[0;36minner_f\u001b[0;34m(*args, **kwargs)\u001b[0m\n\u001b[1;32m     44\u001b[0m             )\n\u001b[1;32m     45\u001b[0m         \u001b[0mkwargs\u001b[0m\u001b[0;34m.\u001b[0m\u001b[0mupdate\u001b[0m\u001b[0;34m(\u001b[0m\u001b[0;34m{\u001b[0m\u001b[0mk\u001b[0m\u001b[0;34m:\u001b[0m \u001b[0marg\u001b[0m \u001b[0;32mfor\u001b[0m \u001b[0mk\u001b[0m\u001b[0;34m,\u001b[0m \u001b[0marg\u001b[0m \u001b[0;32min\u001b[0m \u001b[0mzip\u001b[0m\u001b[0;34m(\u001b[0m\u001b[0msig\u001b[0m\u001b[0;34m.\u001b[0m\u001b[0mparameters\u001b[0m\u001b[0;34m,\u001b[0m \u001b[0margs\u001b[0m\u001b[0;34m)\u001b[0m\u001b[0;34m}\u001b[0m\u001b[0;34m)\u001b[0m\u001b[0;34m\u001b[0m\u001b[0;34m\u001b[0m\u001b[0m\n\u001b[0;32m---> 46\u001b[0;31m         \u001b[0;32mreturn\u001b[0m \u001b[0mf\u001b[0m\u001b[0;34m(\u001b[0m\u001b[0;34m**\u001b[0m\u001b[0mkwargs\u001b[0m\u001b[0;34m)\u001b[0m\u001b[0;34m\u001b[0m\u001b[0;34m\u001b[0m\u001b[0m\n\u001b[0m\u001b[1;32m     47\u001b[0m     \u001b[0;32mreturn\u001b[0m \u001b[0minner_f\u001b[0m\u001b[0;34m\u001b[0m\u001b[0;34m\u001b[0m\u001b[0m\n\u001b[1;32m     48\u001b[0m \u001b[0;34m\u001b[0m\u001b[0m\n",
      "\u001b[0;32m~/miniconda3/envs/gradten/lib/python3.6/site-packages/seaborn/categorical.py\u001b[0m in \u001b[0;36mboxplot\u001b[0;34m(x, y, hue, data, order, hue_order, orient, color, palette, saturation, width, dodge, fliersize, linewidth, whis, ax, **kwargs)\u001b[0m\n\u001b[1;32m   2243\u001b[0m     plotter = _BoxPlotter(x, y, hue, data, order, hue_order,\n\u001b[1;32m   2244\u001b[0m                           \u001b[0morient\u001b[0m\u001b[0;34m,\u001b[0m \u001b[0mcolor\u001b[0m\u001b[0;34m,\u001b[0m \u001b[0mpalette\u001b[0m\u001b[0;34m,\u001b[0m \u001b[0msaturation\u001b[0m\u001b[0;34m,\u001b[0m\u001b[0;34m\u001b[0m\u001b[0;34m\u001b[0m\u001b[0m\n\u001b[0;32m-> 2245\u001b[0;31m                           width, dodge, fliersize, linewidth)\n\u001b[0m\u001b[1;32m   2246\u001b[0m \u001b[0;34m\u001b[0m\u001b[0m\n\u001b[1;32m   2247\u001b[0m     \u001b[0;32mif\u001b[0m \u001b[0max\u001b[0m \u001b[0;32mis\u001b[0m \u001b[0;32mNone\u001b[0m\u001b[0;34m:\u001b[0m\u001b[0;34m\u001b[0m\u001b[0;34m\u001b[0m\u001b[0m\n",
      "\u001b[0;32m~/miniconda3/envs/gradten/lib/python3.6/site-packages/seaborn/categorical.py\u001b[0m in \u001b[0;36m__init__\u001b[0;34m(self, x, y, hue, data, order, hue_order, orient, color, palette, saturation, width, dodge, fliersize, linewidth)\u001b[0m\n\u001b[1;32m    404\u001b[0m                  width, dodge, fliersize, linewidth):\n\u001b[1;32m    405\u001b[0m \u001b[0;34m\u001b[0m\u001b[0m\n\u001b[0;32m--> 406\u001b[0;31m         \u001b[0mself\u001b[0m\u001b[0;34m.\u001b[0m\u001b[0mestablish_variables\u001b[0m\u001b[0;34m(\u001b[0m\u001b[0mx\u001b[0m\u001b[0;34m,\u001b[0m \u001b[0my\u001b[0m\u001b[0;34m,\u001b[0m \u001b[0mhue\u001b[0m\u001b[0;34m,\u001b[0m \u001b[0mdata\u001b[0m\u001b[0;34m,\u001b[0m \u001b[0morient\u001b[0m\u001b[0;34m,\u001b[0m \u001b[0morder\u001b[0m\u001b[0;34m,\u001b[0m \u001b[0mhue_order\u001b[0m\u001b[0;34m)\u001b[0m\u001b[0;34m\u001b[0m\u001b[0;34m\u001b[0m\u001b[0m\n\u001b[0m\u001b[1;32m    407\u001b[0m         \u001b[0mself\u001b[0m\u001b[0;34m.\u001b[0m\u001b[0mestablish_colors\u001b[0m\u001b[0;34m(\u001b[0m\u001b[0mcolor\u001b[0m\u001b[0;34m,\u001b[0m \u001b[0mpalette\u001b[0m\u001b[0;34m,\u001b[0m \u001b[0msaturation\u001b[0m\u001b[0;34m)\u001b[0m\u001b[0;34m\u001b[0m\u001b[0;34m\u001b[0m\u001b[0m\n\u001b[1;32m    408\u001b[0m \u001b[0;34m\u001b[0m\u001b[0m\n",
      "\u001b[0;32m~/miniconda3/envs/gradten/lib/python3.6/site-packages/seaborn/categorical.py\u001b[0m in \u001b[0;36mestablish_variables\u001b[0;34m(self, x, y, hue, data, orient, order, hue_order, units)\u001b[0m\n\u001b[1;32m    151\u001b[0m                 \u001b[0;32mif\u001b[0m \u001b[0misinstance\u001b[0m\u001b[0;34m(\u001b[0m\u001b[0mvar\u001b[0m\u001b[0;34m,\u001b[0m \u001b[0mstr\u001b[0m\u001b[0;34m)\u001b[0m\u001b[0;34m:\u001b[0m\u001b[0;34m\u001b[0m\u001b[0;34m\u001b[0m\u001b[0m\n\u001b[1;32m    152\u001b[0m                     \u001b[0merr\u001b[0m \u001b[0;34m=\u001b[0m \u001b[0;34m\"Could not interpret input '{}'\"\u001b[0m\u001b[0;34m.\u001b[0m\u001b[0mformat\u001b[0m\u001b[0;34m(\u001b[0m\u001b[0mvar\u001b[0m\u001b[0;34m)\u001b[0m\u001b[0;34m\u001b[0m\u001b[0;34m\u001b[0m\u001b[0m\n\u001b[0;32m--> 153\u001b[0;31m                     \u001b[0;32mraise\u001b[0m \u001b[0mValueError\u001b[0m\u001b[0;34m(\u001b[0m\u001b[0merr\u001b[0m\u001b[0;34m)\u001b[0m\u001b[0;34m\u001b[0m\u001b[0;34m\u001b[0m\u001b[0m\n\u001b[0m\u001b[1;32m    154\u001b[0m \u001b[0;34m\u001b[0m\u001b[0m\n\u001b[1;32m    155\u001b[0m             \u001b[0;31m# Figure out the plotting orientation\u001b[0m\u001b[0;34m\u001b[0m\u001b[0;34m\u001b[0m\u001b[0;34m\u001b[0m\u001b[0m\n",
      "\u001b[0;31mValueError\u001b[0m: Could not interpret input 'lr'"
     ]
    },
    {
     "data": {
      "text/plain": [
       "<Figure size 1224x864 with 0 Axes>"
      ]
     },
     "metadata": {},
     "output_type": "display_data"
    }
   ],
   "source": [
    "import warnings\n",
    "import matplotlib.pyplot as plt\n",
    "import seaborn as sns\n",
    "warnings.filterwarnings('ignore')\n",
    "fig = plt.figure(figsize=(17,12))\n",
    "plt.rcParams.update({'font.size':22})\n",
    "\n",
    "flierprops = dict(markerfacecolor='0.75', markersize=5, marker='.',\n",
    "              linestyle='none')\n",
    "ax = sns.boxplot(x='x',y='0',data=a, hue = 'lr',flierprops=flierprops, width=0.7)#palette=\"Spectral\")\n",
    "plt.title('Volume across bundles with L(r) correction', fontsize = 25)\n",
    "plt.xlabel('Bundles', fontsize = 25)\n",
    "plt.ylabel('CoV', fontsize = 25)\n",
    "a = ax.set_xticklabels(ax.get_xticklabels(),rotation=90)"
   ]
  },
  {
   "cell_type": "code",
   "execution_count": null,
   "id": "e8b68f7d",
   "metadata": {},
   "outputs": [],
   "source": [
    "def cohend(c0,c1):\n",
    "    cohens_d = (np.mean(c0) - np.mean(c1)) / (np.sqrt((np.std(c0) ** 2 + np.std(c1) ** 2) / 2))\n",
    "    return cohens_d"
   ]
  },
  {
   "cell_type": "code",
   "execution_count": null,
   "id": "fe76562a",
   "metadata": {},
   "outputs": [],
   "source": [
    "len_grouped = len_df.groupby(len_df['x'])\n",
    "len_egrouped = elen_df.groupby(elen_df['x'])\n",
    "len_egrouped.get_group(key)['0']"
   ]
  },
  {
   "cell_type": "code",
   "execution_count": null,
   "id": "fa1ee9fe",
   "metadata": {},
   "outputs": [],
   "source": [
    "for key in len_egrouped.groups:\n",
    "    la = cohend(len_egrouped.get_group(key)['0'],len_grouped.get_group(key)['0'])\n",
    "    print(abs(round(la,4)))\n",
    "    #print(key)"
   ]
  },
  {
   "cell_type": "code",
   "execution_count": null,
   "id": "46b50ee6",
   "metadata": {},
   "outputs": [],
   "source": [
    "import numpy as np\n",
    "import os\n",
    "import glob\n",
    "import json \n",
    "\n",
    "p = []\n",
    "for path in glob.glob('/nfs/masi/kanakap/projects/LR_tract/MASiVar_kids/*/*'):\n",
    "    p.append(path)\n",
    "p.sort()\n",
    "d = {}\n",
    "for i in range(len(p)):\n",
    "    a = [p[i]+'/tracto_op_1_est/stats_json/volumes.json',p[i]+'/tracto_op_2_est/stats_json/volumes.json']\n",
    "    d[i] = a"
   ]
  },
  {
   "cell_type": "code",
   "execution_count": null,
   "id": "723a6551",
   "metadata": {},
   "outputs": [],
   "source": [
    "count = 0\n",
    "dictsvol = []\n",
    "for i in d:\n",
    "    \n",
    "    if os.path.exists(d[i][0]) and os.path.exists(d[i][1]):\n",
    "        f = open(d[i][0])\n",
    "        data = json.load(f)\n",
    "        mean_len = {} # make a new dict with mapping bundles and meanlength\n",
    "        k = list(data.keys())[0] \n",
    "        b_key = list(data[k].keys())# get the bundles\n",
    "        v = list(data[k].values())  # get the values\n",
    "        for j in range(len(b_key)): \n",
    "\n",
    "            mean_len[b_key[j]] = v[j]['volume'] # assign bundle to mean length\n",
    "\n",
    "    \n",
    "        f = open(d[i][1])\n",
    "        data1 = json.load(f)\n",
    "        count = count + 1\n",
    "        mean_len1 = {} # make a new dict with mapping bundles and meanlength\n",
    "\n",
    "        k1 = list(data1.keys())[0] \n",
    "        b_key1 = list(data1[k1].keys())# get the bundles\n",
    "        v1 = list(data1[k1].values())  # get the values\n",
    "        for j in range(len(b_key1)): \n",
    "\n",
    "            mean_len1[b_key1[j]] = v1[j]['volume'] # assign bundle to mean length\n",
    "\n",
    "        diff = {}\n",
    "        for key in mean_len: \n",
    "            if key in mean_len1:\n",
    "                c_mean = np.nanmean([mean_len[key] , mean_len1[key]])\n",
    "                c_std = np.nanstd([mean_len[key] , mean_len1[key]])\n",
    "                diff[key] = (c_std / c_mean)  \n",
    "    else:\n",
    "        diff = 'nan'\n",
    "            \n",
    "    dictsvol.append(diff)"
   ]
  },
  {
   "cell_type": "code",
   "execution_count": null,
   "id": "638e95b9",
   "metadata": {},
   "outputs": [],
   "source": [
    "edf = pd.DataFrame()\n",
    "for i in dictsvol:\n",
    "    if i != 'nan':\n",
    "        for key in i:\n",
    "            #df = df.append({key: i[key]}, ignore_index=True )\n",
    "            new_row = {'0': i[key], 'x':key, 'lr': 'corr'}\n",
    "            edf = edf.append(new_row, ignore_index=True )"
   ]
  },
  {
   "cell_type": "code",
   "execution_count": null,
   "id": "8b8a379b",
   "metadata": {},
   "outputs": [],
   "source": [
    "a  = pd.concat([df,edf])"
   ]
  },
  {
   "cell_type": "code",
   "execution_count": null,
   "id": "26b54b02",
   "metadata": {},
   "outputs": [],
   "source": [
    "import warnings\n",
    "import matplotlib.pyplot as plt\n",
    "import seaborn as sns\n",
    "warnings.filterwarnings('ignore')\n",
    "fig = plt.figure(figsize=(17,12))\n",
    "plt.rcParams.update({'font.size':22})\n",
    "\n",
    "flierprops = dict(markerfacecolor='0.75', markersize=5, marker='.',\n",
    "              linestyle='none')\n",
    "ax = sns.boxplot(x='x',y='0',data=a, hue = 'lr',flierprops=flierprops, width=0.7)#palette=\"Spectral\")\n",
    "plt.title('Volume across bundles with L(r) corruption', fontsize = 25)\n",
    "plt.xlabel('Bundles', fontsize = 25)\n",
    "plt.ylabel('CoV', fontsize = 25)\n",
    "a = ax.set_xticklabels(ax.get_xticklabels(),rotation=90)\n",
    "#adjust_box_widths(fig,0.7)"
   ]
  },
  {
   "cell_type": "code",
   "execution_count": null,
   "id": "26b66c2e",
   "metadata": {},
   "outputs": [],
   "source": [
    "warnings.filterwarnings('ignore')\n",
    "plt.figure(figsize=(17,12))\n",
    "plt.rcParams.update({'font.size':22})\n",
    "flierprops = dict(markerfacecolor='0.75', markersize=5, marker='.',\n",
    "              linestyle='none')\n",
    "ax = sns.boxplot(x='x',y='0',data=edf, flierprops=flierprops, width=0.7, palette=\"Spectral\")\n",
    "plt.title('Volume across bundles', fontsize = 25)\n",
    "plt.xlabel('Bundles', fontsize = 25)\n",
    "plt.ylabel('CoV', fontsize = 25)\n",
    "a = ax.set_xticklabels(ax.get_xticklabels(),rotation=90)"
   ]
  },
  {
   "cell_type": "code",
   "execution_count": null,
   "id": "00f8adff",
   "metadata": {},
   "outputs": [],
   "source": [
    "vol_grouped = df.groupby(df['x'])\n",
    "vol_egrouped = edf.groupby(edf['x'])\n",
    "for key in vol_egrouped.groups:\n",
    "    la = cohend(vol_egrouped.get_group(key)['0'],vol_grouped.get_group(key)['0'])\n",
    "    print(abs(round(la,4)))\n",
    "    #print(key)"
   ]
  },
  {
   "cell_type": "code",
   "execution_count": null,
   "id": "159bfcbc",
   "metadata": {},
   "outputs": [],
   "source": [
    "df"
   ]
  },
  {
   "cell_type": "code",
   "execution_count": null,
   "id": "32faf93d",
   "metadata": {},
   "outputs": [],
   "source": []
  }
 ],
 "metadata": {
  "kernelspec": {
   "display_name": "Python 3 (ipykernel)",
   "language": "python",
   "name": "python3"
  },
  "language_info": {
   "codemirror_mode": {
    "name": "ipython",
    "version": 3
   },
   "file_extension": ".py",
   "mimetype": "text/x-python",
   "name": "python",
   "nbconvert_exporter": "python",
   "pygments_lexer": "ipython3",
   "version": "3.6.13"
  }
 },
 "nbformat": 4,
 "nbformat_minor": 5
}
