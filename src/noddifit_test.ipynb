{
 "cells": [
  {
   "cell_type": "code",
   "execution_count": null,
   "metadata": {},
   "outputs": [],
   "source": [
    "from time import time\n",
    "import numpy as np\n",
    "import nibabel as nib\n",
    "from dipy.core.gradients import gradient_table\n",
    "from dipy.data import get_data\n",
    "import dipy.reconst.NODDIx as NODDIx\n",
    "from scipy.linalg import get_blas_funcs"
   ]
  },
  {
   "cell_type": "code",
   "execution_count": null,
   "metadata": {},
   "outputs": [],
   "source": [
    "fname, fscanner = get_data('NODDIx_example')\n",
    "params = np.loadtxt(fscanner)\n",
    "img = nib.load(fname)\n",
    "data = img.get_data()\n",
    "affine = img.affine"
   ]
  },
  {
   "cell_type": "code",
   "execution_count": null,
   "metadata": {},
   "outputs": [],
   "source": [
    "bvecs = params[:, 0:3]\n",
    "G = params[:, 3] / 10 ** 6  # gradient strength\n",
    "big_delta = params[:, 4]\n",
    "small_delta = params[:, 5]\n",
    "gamma = 2.675987 * 10 ** 8\n",
    "bvals = gamma ** 2 * G ** 2 * small_delta ** 2 * (big_delta - small_delta / 3.)\n",
    "gtab = gradient_table(bvals, bvecs, big_delta=big_delta,\n",
    "                      small_delta=small_delta,\n",
    "                      b0_threshold=0, atol=1e-2)"
   ]
  },
  {
   "cell_type": "code",
   "execution_count": null,
   "metadata": {},
   "outputs": [],
   "source": [
    "def norm_meas_HCP(ydatam, b):\n",
    "\n",
    "    \"\"\"\n",
    "    calculates std of the b0 measurements and normalizes all ydatam\n",
    "    \"\"\"\n",
    "    b1 = np.where(b > 1e-5)\n",
    "    b2 = range(b.shape[0])\n",
    "    C = np.setdiff1d(b2, b1)\n",
    "    b_zero_all = ydatam[C]\n",
    "    b_zero_norm = sum(b_zero_all) / C.shape[0]\n",
    "    y = ydatam / b_zero_norm\n",
    "    b_zero_all1 = y[C]\n",
    "    return y"
   ]
  },
  {
   "cell_type": "code",
   "execution_count": null,
   "metadata": {},
   "outputs": [],
   "source": [
    "fit_method = 'MIX'\n",
    "NODDIx_model = NODDIx.NODDIxModel(gtab, params,\n",
    "                                  fit_method=fit_method)\n",
    "NODDIx_fit = np.zeros((data.shape[0], data.shape[1], data.shape[2], 11))"
   ]
  },
  {
   "cell_type": "code",
   "execution_count": null,
   "metadata": {},
   "outputs": [],
   "source": [
    "t1 = time()\n",
    "for i in range(1,2):  # range(data.shape[0]):\n",
    "    for j in range(1):  # range(data.shape[1]):\n",
    "        for k in range(data.shape[2]):  # in range(1):\n",
    "#            if mask[i, j, k] > 0:\n",
    "            signal = np.array(data[i, j, k])\n",
    "            signal = norm_meas_HCP(signal, bvals)\n",
    "#            signal = np.float64(signal)\n",
    "#               signal_n = add_noise(signal, snr=20, noise_type='rician')\n",
    "            NODDIx_fit[i, j, k, :] = NODDIx_model.fit(signal)\n",
    "            print(i)\n",
    "t2 = time()\n",
    "fast_time = t2 - t1\n",
    "print(fast_time)"
   ]
  },
  {
   "cell_type": "code",
   "execution_count": null,
   "metadata": {},
   "outputs": [],
   "source": [
    "affine = img.affine.copy()\n",
    "nib.save(nib.Nifti1Image(NODDIx_fit[:, :, :, 0], affine),\n",
    "         'f11_HCP_NODDIx.nii.gz')\n",
    "nib.save(nib.Nifti1Image(NODDIx_fit[:, :, :, 1], affine),\n",
    "         'f21_HCP_NODDIx.nii.gz')\n",
    "nib.save(nib.Nifti1Image(NODDIx_fit[:, :, :, 2], affine),\n",
    "         'f12_HCP_NODDIx.nii.gz')\n",
    "nib.save(nib.Nifti1Image(NODDIx_fit[:, :, :, 3], affine),\n",
    "         'f22_HCP_NODDIx.nii.gz')\n",
    "nib.save(nib.Nifti1Image(NODDIx_fit[:, :, :, 4], affine),\n",
    "         'f3_HCP_NODDIx.nii.gz')\n",
    "nib.save(nib.Nifti1Image(NODDIx_fit[:, :, :, 5], affine),\n",
    "         'OD1_HCP_NODDIx.nii.gz')\n",
    "nib.save(nib.Nifti1Image(NODDIx_fit[:, :, :, 6], affine),\n",
    "         'theta1_HCP_NODDIx.nii.gz')\n",
    "nib.save(nib.Nifti1Image(NODDIx_fit[:, :, :, 7], affine),\n",
    "         'phi1_HCP_NODDIx.nii.gz')\n",
    "nib.save(nib.Nifti1Image(NODDIx_fit[:, :, :, 8], affine),\n",
    "         'OD2_HCP_NODDIx.nii.gz')\n",
    "nib.save(nib.Nifti1Image(NODDIx_fit[:, :, :, 9], affine),\n",
    "         'theta2_HCP_NODDIx.nii.gz')\n",
    "nib.save(nib.Nifti1Image(NODDIx_fit[:, :, :, 10], affine),\n",
    "         'phi2_HCP_NODDIx.nii.gz')"
   ]
  }
 ],
 "metadata": {
  "kernelspec": {
   "display_name": "Python 3.9.13 ('dipynoddi')",
   "language": "python",
   "name": "python3"
  },
  "language_info": {
   "codemirror_mode": {
    "name": "ipython",
    "version": 3
   },
   "file_extension": ".py",
   "mimetype": "text/x-python",
   "name": "python",
   "nbconvert_exporter": "python",
   "pygments_lexer": "ipython3",
   "version": "3.9.13"
  },
  "orig_nbformat": 4,
  "vscode": {
   "interpreter": {
    "hash": "9902f5b8e3384f75caf118416e3360e78d2cd2877d65357e87e32283920f2276"
   }
  }
 },
 "nbformat": 4,
 "nbformat_minor": 2
}
