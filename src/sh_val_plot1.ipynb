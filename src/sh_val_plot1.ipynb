{
 "cells": [
  {
   "cell_type": "code",
   "execution_count": null,
   "metadata": {},
   "outputs": [],
   "source": [
    "import os\n",
    "import scipy\n",
    "import logging\n",
    "import tempfile\n",
    "import numpy as np\n",
    "import nibabel as nib\n",
    "import multiprocessing\n",
    "from dipy.data import get_sphere\n",
    "from dipy.io import read_bvals_bvecs\n",
    "from joblib import Parallel, delayed\n",
    "from scilpy.reconst.sh import compute_rish\n",
    "from dipy.core.sphere import Sphere\n",
    "from dipy.reconst.shm import sf_to_sh\n",
    "from dipy.core.gradients import gradient_table_from_bvals_bvecs\n",
    "from scilpy.reconst.multi_processes import fit_from_model, convert_sh_basis\n",
    "from scilpy.reconst.raw_signal import compute_sh_coefficients\n",
    "from dipy.reconst.csdeconv import ConstrainedSphericalDeconvModel\n",
    "from dipy.reconst.shm import real_sh_descoteaux_from_index, sh_to_sf\n",
    "from scilpy.utils.bvec_bval_tools import (DEFAULT_B0_THRESHOLD,\n",
    "                                          check_b0_threshold, identify_shells,\n",
    "                                          is_normalized_bvecs, normalize_bvecs)\n",
    "from scilpy.utils.bvec_bval_tools import fsl2mrtrix, identify_shells"
   ]
  },
  {
   "cell_type": "code",
   "execution_count": null,
   "metadata": {},
   "outputs": [],
   "source": [
    "n = nib.load('/nfs/masi/kanakap/projects/LR_tract/MASiVar_kids/sub-cIVs001/ses-s1Bx2/prequal_dwi_cat/sub-cIVs001_ses-s1Bx2_acq-b1000b2000n96r21x21x22peAPP_run-1_dwi.nii.gz').get_fdata()\n",
    "vol = nib.load('/nfs/masi/kanakap/projects/LR_tract/MASiVar_kids/sub-cIVs001/ses-s1Bx2/prequal_dwi_cat/sub-cIVs001_ses-s1Bx2_acq-b1000b2000n96r21x21x22peAPP_run-1_dwi.nii.gz')\n",
    "og_file = '/nfs/masi/kanakap/projects/LR_tract/MASiVar_kids/sub-cIVs001/ses-s1Bx2/prequal_dwi_cat/sub-cIVs001_ses-s1Bx2_acq-b1000b2000n96r21x21x22peAPP_run-1_dwi.bvec'\n",
    "ob_file = '/nfs/masi/kanakap/projects/LR_tract/MASiVar_kids/sub-cIVs001/ses-s1Bx2/prequal_dwi_cat/sub-cIVs001_ses-s1Bx2_acq-b1000b2000n96r21x21x22peAPP_run-1_dwi.bval'\n",
    "vec_folder = '/nfs/masi/kanakap/projects/LR_tract/MASiVar_kids/sub-cIVs001/ses-s1Bx2/tracto_ip_lr_corr_1/Lemp/emp_Lcorrected_bvec'\n",
    "val_folder = '/nfs/masi/kanakap/projects/LR_tract/MASiVar_kids/sub-cIVs001/ses-s1Bx2/tracto_ip_lr_corr_1/Lemp/emp_Lcorrected_bval'\n",
    "pk_corr_dwi1 = nib.load('/nfs/masi/kanakap/projects/LR_tract/MASiVar_kids/sub-cIVs001/ses-s1Bx2/tracto_ip_lr_corr_1/emp_Lcorrected_sig.nii.gz').get_fdata()\n",
    "mask = nib.load('/nfs/masi/kanakap/projects/LR_tract/MASiVar_kids/sub-cIVs001/ses-s1Bx2/prequal_dwi_cat/mrtrix_mask.nii').get_fdata()"
   ]
  },
  {
   "cell_type": "code",
   "execution_count": null,
   "metadata": {},
   "outputs": [],
   "source": [
    "tmp_scheme_filename = os.path.join('gradients.scheme')\n",
    "tmp_bval_filename = os.path.join('bval')\n",
    "bvals, _ = read_bvals_bvecs(ob_file, og_file)\n",
    "shells_centroids, indices_shells = identify_shells(bvals,\n",
    "                                                    roundCentroids=True)\n",
    "np.savetxt(tmp_bval_filename, shells_centroids[indices_shells],\n",
    "            newline=' ', fmt='%i')\n",
    "fsl2mrtrix(tmp_bval_filename, og_file, tmp_scheme_filename)"
   ]
  },
  {
   "cell_type": "code",
   "execution_count": null,
   "metadata": {},
   "outputs": [],
   "source": [
    "def compute_dwi_attenuation(dwi_weights: np.ndarray, b0: np.ndarray):\n",
    "    \"\"\" Compute signal attenuation by dividing the dwi signal with the b0.\n",
    "    Parameters:\n",
    "    -----------\n",
    "    dwi_weights : np.ndarray of shape (X, Y, Z, #gradients)\n",
    "        Diffusion weighted images.\n",
    "    b0 : np.ndarray of shape (X, Y, Z)\n",
    "        B0 image.\n",
    "    Returns\n",
    "    -------\n",
    "    dwi_attenuation : np.ndarray\n",
    "        Signal attenuation (Diffusion weights normalized by the B0).\n",
    "    \"\"\"\n",
    "    b0 = b0[..., None]  # Easier to work if it is a 4D array.\n",
    "\n",
    "    # Make sure that, in every voxels, weights are lower in the b0. Should\n",
    "    # always be the case, but with the noise we never know!\n",
    "    erroneous_voxels = np.any(dwi_weights > b0, axis=3)\n",
    "    nb_erroneous_voxels = np.sum(erroneous_voxels)\n",
    "    if nb_erroneous_voxels != 0:\n",
    "        logging.info(\"# of voxels where `dwi_signal > b0` in any direction: \"\n",
    "                     \"{}\".format(nb_erroneous_voxels))\n",
    "        dwi_weights = np.minimum(dwi_weights, b0)\n",
    "\n",
    "    # Compute attenuation\n",
    "    dwi_attenuation = dwi_weights / b0\n",
    "\n",
    "    # Make sure we didn't divide by 0.\n",
    "    dwi_attenuation[np.logical_not(np.isfinite(dwi_attenuation))] = 0.\n",
    "\n",
    "    return dwi_attenuation"
   ]
  },
  {
   "cell_type": "code",
   "execution_count": null,
   "metadata": {},
   "outputs": [],
   "source": [
    "def val_emp(i,j,k,n,og_bval,bvec_stack,bval_stack,emp_sh,sh_order):\n",
    "        dwi = n[i][j][k]\n",
    "        vec = bvec_stack[i,j,k,:,:]\n",
    "        val = bval_stack[i,j,k,:]\n",
    "        gradient_table = gradient_table_from_bvals_bvecs(val, vec)\n",
    "        sh_order=sh_order\n",
    "        basis_type='tournier07'\n",
    "        smooth=0.00\n",
    "        use_attenuation=True\n",
    "        force_b0_threshold=False\n",
    "        mask=None\n",
    "        sphere=None\n",
    "\n",
    "        # Extracting infos\n",
    "        b0_mask = gradient_table.b0s_mask\n",
    "        bvecs = gradient_table.bvecs\n",
    "        bvals = gradient_table.bvals\n",
    "        \n",
    "        dwi = np.reshape(dwi,[1,1,1,bvals.shape[0]])\n",
    "\n",
    "        if not is_normalized_bvecs(bvecs):\n",
    "                logging.warning(\"Your b-vectors do not seem normalized...\")\n",
    "                bvecs = normalize_bvecs(bvecs)\n",
    "\n",
    "        b0_threshold = check_b0_threshold(force_b0_threshold, bvals.min())\n",
    "\n",
    "        # Ensure that this is on a single shell.\n",
    "        shell_values, _ = identify_shells(bvals)\n",
    "        shell_values.sort()\n",
    "        # if shell_values.shape[0] != 2 or shell_values[0] > b0_threshold:\n",
    "        #     raise ValueError(\"Can only work on single shell signals.\")\n",
    "\n",
    "        # Keeping b0-based infos\n",
    "        bvecs = bvecs[np.logical_not(b0_mask)]\n",
    "        weights = dwi[..., np.logical_not(b0_mask)]\n",
    "\n",
    "        b0 = dwi[..., b0_mask].mean(axis=3)\n",
    "        norm_gg = np.divide(bvals[np.logical_not(b0_mask)] , og_bval[np.logical_not(b0_mask)])\n",
    "        weights_scaled = b0 * np.exp (np.divide( (np.log (np.divide(weights,b0)) ) , norm_gg))\n",
    "\n",
    "        # Compute attenuation using the b0.\n",
    "        if use_attenuation:\n",
    "                weights_scaled = compute_dwi_attenuation(weights_scaled, b0)\n",
    "\n",
    "        # # Get cartesian coords from bvecs # from here cut debugging\n",
    "        sphere = Sphere(xyz=bvecs)\n",
    "\n",
    "        # SF TO SH\n",
    "        # Fit SH\n",
    "        sh = sf_to_sh(weights_scaled, sphere, sh_order, basis_type, smooth=smooth)\n",
    "        emp_sh[i,j,k,:] = sh\n"
   ]
  },
  {
   "cell_type": "code",
   "execution_count": null,
   "metadata": {},
   "outputs": [],
   "source": [
    "def val_pk(dwi1,og_bval,og_bvec,sh_order):\n",
    "    og_gradient_table = gradient_table_from_bvals_bvecs(og_bval, og_bvec)\n",
    "    pk_sh = compute_sh_coefficients(dwi1,og_gradient_table,sh_order=sh_order,basis_type='tournier07',use_attenuation=True,smooth=0.00)\n",
    "    return pk_sh"
   ]
  },
  {
   "cell_type": "code",
   "execution_count": null,
   "metadata": {},
   "outputs": [],
   "source": [
    "og_bval, og_bvec = read_bvals_bvecs(ob_file,og_file)\n",
    "ind_1000 = np.where(og_bval == 1000)\n",
    "ind_2000 = np.where(og_bval == 2000)\n",
    "ind_b0 = np.nonzero(og_bval==0)\n",
    "ind_b0 = np.squeeze(ind_b0)\n",
    "ind_0_1000 = np.where((og_bval == 0) | (og_bval == 1000))\n",
    "ind_0_2000 = np.where((og_bval == 0) | (og_bval == 2000))\n",
    "\n",
    "# for 1000\n",
    "len1 = ind_0_1000[0]\n",
    "sh_order = 6\n",
    "pk_sh1000 = val_pk(pk_corr_dwi1[:,:,:,len1],og_bval[len1],og_bvec[len1],sh_order)\n",
    "# for 2000\n",
    "len2 = ind_0_2000[0]\n",
    "sh_order = 8\n",
    "pk_sh2000 = val_pk(pk_corr_dwi1[:,:,:,len2],og_bval[len2],og_bvec[len2,:],sh_order)"
   ]
  },
  {
   "cell_type": "code",
   "execution_count": null,
   "metadata": {},
   "outputs": [],
   "source": [
    "bvec_vols = []\n",
    "for i in sorted(os.listdir(vec_folder)):\n",
    "    if i.endswith('.nii.gz'):\n",
    "        bvec_vol = nib.load(vec_folder + '/' + i).get_fdata()\n",
    "        bvec_vol = np.expand_dims(bvec_vol,4)\n",
    "        bvec_vol = np.transpose(bvec_vol,(0,1,2,4,3))\n",
    "        bvec_vols.append(bvec_vol)\n",
    "bvec_stack = np.stack(bvec_vols,3)\n",
    "bvec_stack = bvec_stack.squeeze()\n",
    "\n",
    "bval_vols = []\n",
    "for i in sorted(os.listdir(val_folder)):\n",
    "    if i.endswith('.nii.gz'):\n",
    "        bval_vol = nib.load(val_folder + '/' + i).get_fdata()\n",
    "        bval_vols.append(bval_vol)\n",
    "bval_stack = np.stack(bval_vols,3)"
   ]
  },
  {
   "cell_type": "code",
   "execution_count": null,
   "metadata": {},
   "outputs": [],
   "source": [
    "num_cores = 10\n",
    "path = tempfile.mkdtemp()\n",
    "xaxis = range(n.shape[0])\n",
    "yaxis = range(n.shape[1])\n",
    "zaxis = range(n.shape[2]) \n",
    "\n",
    "# for dwi with 0 1000\n",
    "len1 = ind_0_1000[0]\n",
    "dwi_hat_path1 = os.path.join(path,'emp_sh1000.mmap')\n",
    "emp_sh1000 = np.memmap(dwi_hat_path1, dtype=float, shape=(n.shape[0],n.shape[1],n.shape[2],28), mode='w+')\n",
    "data = n[:,:,:,len1]\n",
    "org_bval = og_bval[len1]\n",
    "corr_bvec = bvec_stack[:,:,:,len1,:]\n",
    "corr_bval = bval_stack[:,:,:,len1]\n",
    "sh_order=6\n",
    "results = Parallel(n_jobs=num_cores)(delayed(val_emp)(i,j,k,data,org_bval,corr_bvec,corr_bval,emp_sh1000,sh_order) for k in zaxis for j in yaxis for i in xaxis)"
   ]
  },
  {
   "cell_type": "code",
   "execution_count": null,
   "metadata": {},
   "outputs": [],
   "source": [
    "\n",
    "num_cores = 10\n",
    "path = tempfile.mkdtemp()\n",
    "xaxis = range(n.shape[0])\n",
    "yaxis = range(n.shape[1])\n",
    "zaxis = range(n.shape[2]) \n",
    "\n",
    "len2 = ind_0_2000[0]\n",
    "dwi_hat_path2 = os.path.join(path,'emp_sh2000.mmap')\n",
    "emp_sh2000 = np.memmap(dwi_hat_path2, dtype=float, shape=(n.shape[0],n.shape[1],n.shape[2],45), mode='w+')\n",
    "data = n[:,:,:,len2]\n",
    "org_bval = og_bval[len2]\n",
    "corr_bvec = bvec_stack[:,:,:,len2,:]\n",
    "corr_bval = bval_stack[:,:,:,len2]\n",
    "sh_order=8\n",
    "\n",
    "results = Parallel(n_jobs=num_cores)(delayed(val_emp)(i,j,k,data,org_bval,corr_bvec,corr_bval,emp_sh2000,sh_order) for k in zaxis for j in yaxis for i in xaxis)"
   ]
  },
  {
   "cell_type": "code",
   "execution_count": null,
   "metadata": {},
   "outputs": [],
   "source": [
    "emp.shape"
   ]
  },
  {
   "cell_type": "code",
   "execution_count": null,
   "metadata": {},
   "outputs": [],
   "source": [
    "pk_sh1000.shape "
   ]
  },
  {
   "cell_type": "code",
   "execution_count": null,
   "metadata": {},
   "outputs": [],
   "source": [
    "pk_sh2000.shape"
   ]
  },
  {
   "cell_type": "code",
   "execution_count": null,
   "metadata": {},
   "outputs": [],
   "source": [
    "emp_sh2000[45][45][30][45]"
   ]
  },
  {
   "cell_type": "code",
   "execution_count": null,
   "metadata": {},
   "outputs": [],
   "source": [
    "pk_sh2000[45][45][30][45]"
   ]
  },
  {
   "cell_type": "code",
   "execution_count": null,
   "metadata": {},
   "outputs": [],
   "source": [
    "import numpy as np\n",
    "import torch\n",
    "\n",
    "def angularCorrCoeff(p_v, q_v):\n",
    "\n",
    "    p = p_v.shape[-1]\n",
    "    q = q_v.shape[-1]\n",
    "    nCoeffs = min([p, q])\n",
    "\n",
    "    p_v = p_v[..., 0:nCoeffs]\n",
    "    q_v = q_v[..., 0:nCoeffs]\n",
    "\n",
    "    zmp_v = p_v[..., 1:nCoeffs]\n",
    "    zmq_v = q_v[..., 1:nCoeffs]\n",
    "\n",
    "    np_v = np.rollaxis(zmp_v, -1)/ (np.sqrt(np.sum(zmp_v * np.conj(zmp_v), axis=-1)))\n",
    "    nq_v = np.rollaxis(zmq_v, -1)/ (np.sqrt(np.sum(zmq_v * np.conj(zmq_v), axis=-1)))\n",
    "    \n",
    "    np_v = np.rollaxis(np_v,0,len(np_v.shape))\n",
    "    nq_v = np.rollaxis(nq_v,0,len(nq_v.shape))\n",
    "\n",
    "    acc = np.sum(np_v * np.conj(nq_v), axis=-1)\n",
    "\n",
    "    return acc"
   ]
  },
  {
   "cell_type": "code",
   "execution_count": null,
   "metadata": {},
   "outputs": [],
   "source": []
  },
  {
   "cell_type": "code",
   "execution_count": null,
   "metadata": {},
   "outputs": [],
   "source": [
    "acc1 = angularCorrCoeff(emp_sh1000,pk_sh1000)"
   ]
  },
  {
   "cell_type": "code",
   "execution_count": null,
   "metadata": {},
   "outputs": [],
   "source": [
    "np.nanmean(np.nanmean(acc1))"
   ]
  },
  {
   "cell_type": "code",
   "execution_count": null,
   "metadata": {},
   "outputs": [],
   "source": [
    "acc1 = acc1[mask == 1]"
   ]
  },
  {
   "cell_type": "code",
   "execution_count": null,
   "metadata": {},
   "outputs": [],
   "source": [
    "acc1 = angularCorrCoeff(emp,pk)"
   ]
  },
  {
   "cell_type": "code",
   "execution_count": null,
   "metadata": {},
   "outputs": [],
   "source": [
    "np.nanmean(np.nanmean(acc1))"
   ]
  },
  {
   "cell_type": "code",
   "execution_count": null,
   "metadata": {},
   "outputs": [],
   "source": [
    "from scilpy.reconst.sh import compute_rish"
   ]
  },
  {
   "cell_type": "code",
   "execution_count": null,
   "metadata": {},
   "outputs": [],
   "source": [
    "mask = nib.load('/nfs/masi/kanakap/projects/LR_tract/MASiVar_kids/sub-cIVs001/ses-s1Bx2/prequal_dwi_cat/mrtrix_mask.nii').get_fdata()"
   ]
  },
  {
   "cell_type": "code",
   "execution_count": null,
   "metadata": {},
   "outputs": [],
   "source": [
    "mask = nib.load('/nfs/masi/kanakap/projects/LR_tract/MASiVar_kids/sub-cIVs001/ses-s1Bx2/prequal_dwi_cat/mrtrix_mask.nii').get_fdata()\n",
    "mask = mask.astype(int)\n",
    "from scipy import ndimage\n",
    "mask = ndimage.binary_dilation(mask, iterations=1).astype(mask.dtype)"
   ]
  },
  {
   "cell_type": "code",
   "execution_count": null,
   "metadata": {},
   "outputs": [],
   "source": [
    "pk_rish1000, final_orders = compute_rish(pk_sh1000,mask=mask)\n",
    "emp_rish1000, final_orders = compute_rish(emp_sh1000,mask=mask)"
   ]
  },
  {
   "cell_type": "code",
   "execution_count": null,
   "metadata": {},
   "outputs": [],
   "source": [
    "emp_rish2000, final_orders = compute_rish(emp_sh2000,mask=mask)\n",
    "pk_rish2000, final_orders = compute_rish(pk_sh2000,mask=mask)"
   ]
  },
  {
   "cell_type": "code",
   "execution_count": null,
   "metadata": {},
   "outputs": [],
   "source": [
    "emp_rish2000.shape"
   ]
  },
  {
   "cell_type": "code",
   "execution_count": null,
   "metadata": {},
   "outputs": [],
   "source": [
    "acc2 = angularCorrCoeff(emp_rish1000[:,:,:,3],pk_rish1000[:,:,:,3])"
   ]
  },
  {
   "cell_type": "code",
   "execution_count": null,
   "metadata": {},
   "outputs": [],
   "source": [
    "np.nanmean(np.nanmean(acc2))"
   ]
  },
  {
   "cell_type": "code",
   "execution_count": null,
   "metadata": {},
   "outputs": [],
   "source": [
    "ind_0_1000 = np.where((og_bval == 0) | (og_bval == 1000))"
   ]
  },
  {
   "cell_type": "code",
   "execution_count": null,
   "metadata": {},
   "outputs": [],
   "source": [
    "ind_0_1000"
   ]
  },
  {
   "cell_type": "code",
   "execution_count": null,
   "metadata": {},
   "outputs": [],
   "source": [
    "pk_sh1000 = val_pk(pk_corr_dwi1[:,:,:,len1],og_bval[len1],og_bvec[len1,:])"
   ]
  },
  {
   "cell_type": "code",
   "execution_count": null,
   "metadata": {},
   "outputs": [],
   "source": [
    "len1"
   ]
  },
  {
   "cell_type": "code",
   "execution_count": null,
   "metadata": {},
   "outputs": [],
   "source": [
    "acc1000 = [0.8282973981832714, 0.8228604762732795,0.7930699216711522, 0.7983260829709444,0.804515810053933]"
   ]
  },
  {
   "cell_type": "code",
   "execution_count": null,
   "metadata": {},
   "outputs": [],
   "source": [
    "acc2000 = [0.8326090974203082,0.8164530412158586,0.7901226112354409,0.8070315817082493,0.8000860330690326]"
   ]
  },
  {
   "cell_type": "code",
   "execution_count": null,
   "metadata": {},
   "outputs": [],
   "source": [
    "acc1000 = [0.9770712734354825,0.9795263449200603,0.9757020790440663,0.9828990069525622,0.9643193990910122]\n",
    "acc2000 = [0.972894914151945,0.9737851234494219,0.9740020420001775,0.9789930151456134,0.9615602517669753]"
   ]
  },
  {
   "cell_type": "code",
   "execution_count": null,
   "metadata": {},
   "outputs": [],
   "source": [
    "acc1000 = [0.9999998440744354,0.9999981801423755,0.9999999934912266,0.9999998190844,0.9999999874208663]\n",
    "acc2000 = [0.9999999736513395,0.9999993648525107,0.9999999885010696,0.9999999494809747,0.9999999971191664]"
   ]
  },
  {
   "cell_type": "code",
   "execution_count": null,
   "metadata": {},
   "outputs": [],
   "source": [
    "import matplotlib.pyplot as plt\n",
    "from mpl_toolkits.axes_grid1 import make_axes_locatable"
   ]
  },
  {
   "cell_type": "code",
   "execution_count": null,
   "metadata": {},
   "outputs": [],
   "source": [
    "plt.rcParams.update({'font.size':15})\n",
    "fig, ax = plt.subplots(figsize=(8,5)) \n",
    "plt.scatter(range(5),acc1000,40,label='b1000')\n",
    "plt.scatter(range(5),acc2000,40,label='b2000')\n",
    "plt.legend()\n",
    "plt.ylim((0.98,1.02))\n",
    "plt.xticks([0,1,2,3,4],[1,2,3,4,5])\n",
    "plt.xlabel('Subjects')\n",
    "plt.ylabel('Mean ACC')\n",
    "# plt.ylabel('ACC between SH of signal reconst. \\n and SH of emp. voxelwise')"
   ]
  },
  {
   "cell_type": "code",
   "execution_count": null,
   "metadata": {},
   "outputs": [],
   "source": [
    "acc1000 = [0.9904828919394973,0.987087871556337,0.9908236392712096,0.9875183958383225,0.9891097518815941]\n",
    "acc2000 = [0.9792517992862245,0.9658582417455683,0.9883785019510217,0.9826812535794488,0.9804747002887525]"
   ]
  },
  {
   "cell_type": "code",
   "execution_count": null,
   "metadata": {},
   "outputs": [],
   "source": [
    "plt.rcParams.update({'font.size':15})\n",
    "fig, ax = plt.subplots(figsize=(8,5)) \n",
    "plt.scatter(range(5),acc1000,40,label='b1000')\n",
    "plt.scatter(range(5),acc2000,40,label='b2000')\n",
    "plt.legend(loc='lower right')\n",
    "plt.ylim((0.96,1))\n",
    "plt.xticks([0,1,2,3,4],[1,2,3,4,5])\n",
    "plt.xlabel('Subjects')\n",
    "plt.ylabel('Mean ACC')"
   ]
  },
  {
   "cell_type": "code",
   "execution_count": null,
   "metadata": {},
   "outputs": [],
   "source": [
    "mask = nib.load('/nfs/masi/kanakap/projects/LR_tract/MASiVar_kids/sub-cIVs001/ses-s1Bx2/prequal_dwi_cat/mrtrix_mask.nii').get_fdata()\n",
    "mask = mask.astype(int)\n",
    "from scipy import ndimage\n",
    "mask = ndimage.binary_dilation(mask, iterations=1).astype(mask.dtype)"
   ]
  },
  {
   "cell_type": "code",
   "execution_count": null,
   "metadata": {},
   "outputs": [],
   "source": [
    "mask = nib.load('/nfs/masi/kanakap/projects/LR_tract/MASiVar_kids/sub-cIVs001/ses-s1Bx2/prequal_dwi_cat/mrtrix_mask.nii').get_fdata()\n"
   ]
  },
  {
   "cell_type": "code",
   "execution_count": null,
   "metadata": {},
   "outputs": [],
   "source": [
    "mask = nib.load('/nfs/masi/kanakap/projects/LR_tract/MASiVar_kids/sub-cIVs001/ses-s1Bx2/prequal_dwi_cat/brain_mask_dil.nii.gz').get_fdata()"
   ]
  },
  {
   "cell_type": "code",
   "execution_count": null,
   "metadata": {},
   "outputs": [],
   "source": [
    "pk_rish1000, final_orders = compute_rish(pk_sh1000,mask=mask)\n",
    "emp_rish1000, final_orders = compute_rish(emp_sh1000,mask=mask)\n",
    "\n"
   ]
  },
  {
   "cell_type": "code",
   "execution_count": null,
   "metadata": {},
   "outputs": [],
   "source": [
    "emp_rish2000, final_orders = compute_rish(emp_sh2000,mask=mask)\n",
    "pk_rish2000, final_orders = compute_rish(pk_sh2000,mask=mask)"
   ]
  },
  {
   "cell_type": "code",
   "execution_count": null,
   "metadata": {},
   "outputs": [],
   "source": [
    "nib.save(nib.Nifti1Image(pk_rish1000.astype(np.float32),vol.affine),\"pk_rish1000.nii\" )\n",
    "nib.save(nib.Nifti1Image(pk_rish2000.astype(np.float32),vol.affine),\"pk_rish2000.nii\" )\n",
    "nib.save(nib.Nifti1Image(emp_rish1000.astype(np.float32),vol.affine),\"emp_rish1000.nii\" )\n",
    "nib.save(nib.Nifti1Image(emp_rish2000.astype(np.float32),vol.affine),\"emp_rish2000.nii\" )"
   ]
  },
  {
   "cell_type": "code",
   "execution_count": null,
   "metadata": {},
   "outputs": [],
   "source": [
    "import math\n",
    "MSE = np.square(pk_rish2000[:,:,:,0] / pk_rish2000[:,:,:,0].max() ,emp_rish2000[:,:,:,0] / emp_rish2000[:,:,:,0].max()).mean() \n",
    "RMSE = math.sqrt(MSE)"
   ]
  },
  {
   "cell_type": "code",
   "execution_count": null,
   "metadata": {},
   "outputs": [],
   "source": [
    "RMSE"
   ]
  },
  {
   "cell_type": "code",
   "execution_count": null,
   "metadata": {},
   "outputs": [],
   "source": [
    "import math\n",
    "MSE = np.square(np.subtract(pk_rish2000[:,:,:,0] ,emp_rish2000[:,:,:,0])).mean() \n",
    "RMSE = math.sqrt(MSE) "
   ]
  },
  {
   "cell_type": "code",
   "execution_count": null,
   "metadata": {},
   "outputs": [],
   "source": [
    "MSE = np.square(np.subtract(pk_rish1000[:,:,:,0] ,emp_rish1000[:,:,:,0])).mean()\n",
    "RMSE = math.sqrt(MSE) #/ np.mean(emp_rish1000[:,:,:,0]) "
   ]
  },
  {
   "cell_type": "code",
   "execution_count": null,
   "metadata": {},
   "outputs": [],
   "source": [
    "RMSE"
   ]
  },
  {
   "cell_type": "code",
   "execution_count": null,
   "metadata": {},
   "outputs": [],
   "source": [
    "MSE = np.square(np.std(pk_rish1000[:,:,:,0]) ,emp_rish1000[:,:,:,0]).mean()\n",
    "RMSE = math.sqrt(MSE) / (np.mean(emp_rish1000[:,:,:,0]) )"
   ]
  },
  {
   "cell_type": "code",
   "execution_count": null,
   "metadata": {},
   "outputs": [],
   "source": [
    "RMSE"
   ]
  },
  {
   "cell_type": "code",
   "execution_count": null,
   "metadata": {},
   "outputs": [],
   "source": [
    "import nibabel as nib"
   ]
  },
  {
   "cell_type": "code",
   "execution_count": null,
   "metadata": {},
   "outputs": [],
   "source": [
    "mask = nib.load('/nfs/masi/kanakap/projects/LR_tract/MASiVar_kids/sub-cIVs001/ses-s1Bx2/prequal_dwi_cat/brain_mask_dil.nii.gz').get_fdata()\n",
    "# mask = mask.astype(int)\n",
    "# from scipy import ndimage\n",
    "# mask = ndimage.binary_dilation(mask, iterations=1).astype(mask.dtype)"
   ]
  },
  {
   "cell_type": "code",
   "execution_count": null,
   "metadata": {},
   "outputs": [],
   "source": [
    "mask = nib.load('/nfs/masi/kanakap/projects/LR_tract/MASiVar_kids/sub-cIVs001/ses-s1Bx2/prequal_dwi_cat/mrtrix_mask.nii').get_fdata()\n",
    "mask = mask.astype(int)"
   ]
  },
  {
   "cell_type": "code",
   "execution_count": null,
   "metadata": {},
   "outputs": [],
   "source": [
    "mask = nib.load('/nfs/masi/kanakap/projects/LR_tract/MASiVar_kids/sub-cIVs001/ses-s1Bx2/prequal_dwi_cat/mrtrix_mask.nii').get_fdata()\n",
    "mask = mask.astype(int)\n",
    "from scipy import ndimage\n",
    "mask = ndimage.binary_dilation(mask, iterations=1).astype(mask.dtype)"
   ]
  },
  {
   "cell_type": "code",
   "execution_count": null,
   "metadata": {},
   "outputs": [],
   "source": [
    "import numpy as np\n",
    "import nibabel as nib "
   ]
  },
  {
   "cell_type": "code",
   "execution_count": null,
   "metadata": {},
   "outputs": [],
   "source": [
    "data = nib.load('/nfs/masi/kanakap/projects/LR_tract/MASiVar_kids/sub-cIVs001/ses-s1Bx2/prequal_dwi_cat/sub-cIVs001_ses-s1Bx2_acq-b1000b2000n96r21x21x22peAPP_run-1_dwi.nii.gz')\n",
    "\n",
    "img = data.get_fdata()\n",
    "\n",
    "corr = nib.load('/nfs/masi/kanakap/projects/LR_tract/MASiVar_kids/sub-cIVs001/ses-s1Bx2/tracto_ip_lr_corr_1/emp_Lcorrected_sig.nii.gz').get_fdata()\n",
    "\n",
    "diff = data - corr\n",
    "\n",
    "nib.save(nib.Nifti1Image(diff, data.affine), 'LR_diff.nii.gz')\n"
   ]
  },
  {
   "cell_type": "code",
   "execution_count": null,
   "metadata": {},
   "outputs": [],
   "source": [
    "slice_idx = 60\n",
    "\n",
    "slice = mask[slice_idx, :,:]\n",
    "slice = np.flip(np.rot90(slice,3))\n",
    "slice = np.nan_to_num(slice)\n",
    "plt.subplot(1,2,2)\n",
    "plt.axis('off')\n",
    "cmap = plt.get_cmap('viridis')\n",
    "m = 0\n",
    "M = 1\n",
    "im = plt.imshow(np.abs(slice), vmin=m, vmax=M, cmap=cmap)\n",
    "#im = plt.imshow(np.abs(slice),cmap=cmap)\n",
    "divider = make_axes_locatable(plt.gca())\n",
    "ax = divider.append_axes(\"right\", size=\"5%\", pad=0.05)\n",
    "a = plt.colorbar(im, cax=ax)"
   ]
  },
  {
   "cell_type": "code",
   "execution_count": null,
   "metadata": {},
   "outputs": [],
   "source": [
    "slice_idx = 60\n",
    "\n",
    "slice = mask[slice_idx, :,:]\n",
    "slice = np.flip(np.rot90(slice,3))\n",
    "slice = np.nan_to_num(slice)\n",
    "plt.subplot(1,2,2)\n",
    "plt.axis('off')\n",
    "cmap = plt.get_cmap('viridis')\n",
    "m = 0\n",
    "M = 1\n",
    "im = plt.imshow(np.abs(slice), vmin=m, vmax=M, cmap=cmap)\n",
    "#im = plt.imshow(np.abs(slice),cmap=cmap)\n",
    "divider = make_axes_locatable(plt.gca())\n",
    "ax = divider.append_axes(\"right\", size=\"5%\", pad=0.05)\n",
    "a = plt.colorbar(im, cax=ax)"
   ]
  },
  {
   "cell_type": "code",
   "execution_count": null,
   "metadata": {},
   "outputs": [],
   "source": [
    "plt.rcParams.update({'font.size':15})\n",
    "fig, ax = plt.subplots(figsize=(15,5))\n",
    "slice_idx = 60\n",
    "slice = pk_rish2000[:,:,:,0] - emp_rish2000[:,:,:,0]\n",
    "slice = slice[slice_idx, :,:]\n",
    "slice = np.flip(np.rot90(slice,3))\n",
    "slice = np.nan_to_num(slice)\n",
    "# m = 0\n",
    "# M = 1\n",
    "plt.subplot(1,3,1)\n",
    "plt.axis('off')\n",
    "cmap = plt.get_cmap('viridis')\n",
    "im = plt.imshow(np.abs(slice), cmap=cmap)\n",
    "divider = make_axes_locatable(plt.gca())\n",
    "ax = divider.append_axes(\"right\", size=\"5%\", pad=0.05)\n",
    "a = plt.colorbar(im, cax=ax)\n",
    "\n",
    "slice = mask[slice_idx, :,:]\n",
    "slice = np.flip(np.rot90(slice,3))\n",
    "slice = np.nan_to_num(slice)\n",
    "plt.subplot(1,3,2)\n",
    "plt.axis('off')\n",
    "cmap = plt.get_cmap('viridis')\n",
    "m = 0\n",
    "M = 1\n",
    "im = plt.imshow(np.abs(slice), vmin=m, vmax=M, cmap=cmap)\n",
    "#im = plt.imshow(np.abs(slice),cmap=cmap)\n",
    "divider = make_axes_locatable(plt.gca())\n",
    "ax = divider.append_axes(\"right\", size=\"5%\", pad=0.05)\n",
    "a = plt.colorbar(im, cax=ax)\n",
    "\n",
    "slice = pk_rish2000[:,:,:,2] \n",
    "slice = slice[slice_idx, :,:]\n",
    "slice = np.flip(np.rot90(slice,3))\n",
    "slice = np.nan_to_num(slice)\n",
    "\n",
    "plt.subplot(1,3,3)\n",
    "plt.axis('off')\n",
    "cmap = plt.get_cmap('viridis')\n",
    "im = plt.imshow(np.abs(slice), cmap=cmap)\n",
    "divider = make_axes_locatable(plt.gca())\n",
    "ax = divider.append_axes(\"right\", size=\"5%\", pad=0.05)\n",
    "a = plt.colorbar(im, cax=ax)\n"
   ]
  },
  {
   "cell_type": "code",
   "execution_count": null,
   "metadata": {},
   "outputs": [],
   "source": [
    "def plot_rish(features, ax, row, col):\n",
    "    slice_idx = 60\n",
    "    slice = features\n",
    "    slice = slice[slice_idx, :,:]\n",
    "    slice = np.flip(np.rot90(slice,3))\n",
    "    slice = np.nan_to_num(slice)\n",
    "    # plt.subplot(row,3,number)\n",
    "    ax[row,col].axis('off')\n",
    "    cmap = plt.get_cmap('viridis')\n",
    "    m = 0\n",
    "    M = 5\n",
    "    im = ax[row,col].imshow(np.abs(slice), vmin=m, vmax=M, cmap=cmap)\n",
    "    divider = make_axes_locatable(ax[row,col])\n",
    "    ax = divider.append_axes(\"right\", size=\"5%\", pad=0.05)\n",
    "    a = plt.colorbar(im, cax=ax)\n",
    "\n",
    "plt.rcParams.update({'font.size':12})\n",
    "fig, ax = plt.subplots(2,3,figsize=(10,3))\n",
    "plot_rish(emp_rish1000[:,:,:,0] , ax, 0,0)\n",
    "plot_rish(pk_rish1000[:,:,:,0] , ax, 0,1)\n",
    "plot_rish((emp_rish1000[:,:,:,0] - pk_rish1000[:,:,:,0]), ax, 0,2)\n",
    "\n",
    "plot_rish(emp_rish2000[:,:,:,0] , ax,1,0)\n",
    "plot_rish(pk_rish2000[:,:,:,0] , ax,1,1)\n",
    "plot_rish((emp_rish2000[:,:,:,0] - pk_rish2000[:,:,:,0]),ax, 1,2)\n",
    "\n",
    "plt.show()"
   ]
  },
  {
   "cell_type": "code",
   "execution_count": null,
   "metadata": {},
   "outputs": [],
   "source": [
    "def ape(predict,true):\n",
    "    err_fa = predict - true\n",
    "    pe_fa = (err_fa / true) * 100\n",
    "    ape_fa = np.abs(pe_fa)\n",
    "    return np.mean(ape_fa)"
   ]
  },
  {
   "cell_type": "code",
   "execution_count": null,
   "metadata": {},
   "outputs": [],
   "source": [
    "ape(emp_rish1000[:,:,:,0],emp_rish1000[:,:,:,0])"
   ]
  },
  {
   "cell_type": "code",
   "execution_count": null,
   "metadata": {},
   "outputs": [],
   "source": [
    "np.max(emp_rish1000[:,:,:,0]) - np.min(emp_rish1000[:,:,:,0]) "
   ]
  },
  {
   "cell_type": "code",
   "execution_count": null,
   "metadata": {},
   "outputs": [],
   "source": [
    "np.min(emp_rish1000[:,:,:,3])"
   ]
  },
  {
   "cell_type": "code",
   "execution_count": null,
   "metadata": {},
   "outputs": [],
   "source": [
    "RMSE"
   ]
  },
  {
   "cell_type": "code",
   "execution_count": null,
   "metadata": {},
   "outputs": [],
   "source": [
    "dist = np.abs(np.subtract(pk_rish2000[:,:,:,0] / pk_rish2000[:,:,:,0].max() ,emp_rish2000[:,:,:,0] / emp_rish2000[:,:,:,0].max()))"
   ]
  },
  {
   "cell_type": "code",
   "execution_count": null,
   "metadata": {},
   "outputs": [],
   "source": [
    "np.mean(dist)"
   ]
  },
  {
   "cell_type": "code",
   "execution_count": null,
   "metadata": {},
   "outputs": [],
   "source": [
    "MSE = np.square(np.subtract(pk_rish2000[50][50][30] /pk_rish2000[50][50][30] ,emp_rish2000[50][50][30])).mean() \n",
    "RMSE = math.sqrt(MSE)"
   ]
  },
  {
   "cell_type": "code",
   "execution_count": null,
   "metadata": {},
   "outputs": [],
   "source": []
  },
  {
   "cell_type": "code",
   "execution_count": null,
   "metadata": {},
   "outputs": [],
   "source": [
    "emp_rish2000[50][50][30]"
   ]
  },
  {
   "cell_type": "code",
   "execution_count": null,
   "metadata": {},
   "outputs": [],
   "source": [
    "print(RMSE)"
   ]
  },
  {
   "cell_type": "code",
   "execution_count": null,
   "metadata": {},
   "outputs": [],
   "source": [
    "def mae(y_true, predictions):\n",
    "    y_true, predictions = np.array(y_true), np.array(predictions)\n",
    "    return np.mean(np.abs(y_true - predictions))"
   ]
  },
  {
   "cell_type": "code",
   "execution_count": null,
   "metadata": {},
   "outputs": [],
   "source": [
    "s = np.square(np.subtract(pk_rish1000[:,:,:,0],emp_rish1000[:,:,:,0]))"
   ]
  },
  {
   "cell_type": "code",
   "execution_count": null,
   "metadata": {},
   "outputs": [],
   "source": [
    "math.sqrt(np.nanmean(s))"
   ]
  },
  {
   "cell_type": "code",
   "execution_count": null,
   "metadata": {},
   "outputs": [],
   "source": [
    "mask = nib.load('/nfs/masi/kanakap/projects/LR_tract/MASiVar_kids/sub-cIVs001/ses-s1Bx2/prequal_dwi_cat/mrtrix_mask.nii').get_fdata()\n",
    "mask = mask.astype(int)"
   ]
  },
  {
   "cell_type": "code",
   "execution_count": null,
   "metadata": {},
   "outputs": [],
   "source": [
    "pk_rish1000.shape"
   ]
  },
  {
   "cell_type": "code",
   "execution_count": null,
   "metadata": {},
   "outputs": [],
   "source": [
    "# calculate the Pearson's correlation between two variables\n",
    "from numpy.random import randn\n",
    "from numpy.random import seed\n",
    "from scipy.stats import pearsonr\n",
    "# seed random number generator\n",
    "# seed(1)\n",
    "# # prepare data\n",
    "# data1 = 20 * randn(1000) + 100\n",
    "# data2 = data1 + (10 * randn(1000) + 50)\n",
    "# calculate Pearson's correlation\n",
    "# corr, _ = pearsonr(pk_rish1000[:,:,:,0],emp_rish1000[:,:,:,0])\n",
    "corr, _ = pearsonr(a,b)\n",
    "print('Pearsons correlation: %.3f' % corr)"
   ]
  },
  {
   "cell_type": "code",
   "execution_count": null,
   "metadata": {},
   "outputs": [],
   "source": [
    "(np.std(emp_rish1000[:,:,:,0]) * np.std(pk_rish1000[:,:,:,0]))"
   ]
  },
  {
   "cell_type": "code",
   "execution_count": null,
   "metadata": {},
   "outputs": [],
   "source": [
    "1 / 2.235647193631204e-16"
   ]
  },
  {
   "cell_type": "code",
   "execution_count": null,
   "metadata": {},
   "outputs": [],
   "source": [
    "from numpy import cov\n",
    "\n",
    "covariance = np.cov(emp_rish1000[:,:,:,0],pk_rish1000[:,:,:,0])\n",
    "print(covariance)"
   ]
  },
  {
   "cell_type": "code",
   "execution_count": null,
   "metadata": {},
   "outputs": [],
   "source": [
    "np.max(pk_rish1000[:,:,:,0],)"
   ]
  },
  {
   "cell_type": "code",
   "execution_count": null,
   "metadata": {},
   "outputs": [],
   "source": [
    "from scipy import stats"
   ]
  },
  {
   "cell_type": "code",
   "execution_count": null,
   "metadata": {},
   "outputs": [],
   "source": [
    "a = pk_rish1000[:,:,:,0].flatten()\n",
    "b = emp_rish1000[:,:,:,0].flatten()"
   ]
  },
  {
   "cell_type": "code",
   "execution_count": null,
   "metadata": {},
   "outputs": [],
   "source": [
    "# pcpl = stats.wilcoxon(pk_rish1000[:,:,:,0],emp_rish1000[:,:,:,0])\n",
    "pcpl = stats.wilcoxon(a,b)\n",
    "print(pcpl.pvalue)"
   ]
  },
  {
   "cell_type": "code",
   "execution_count": null,
   "metadata": {},
   "outputs": [],
   "source": [
    "stats.ranksums(pk_rish1000[:,:,:,0],emp_rish1000[:,:,:,0])"
   ]
  },
  {
   "cell_type": "code",
   "execution_count": null,
   "metadata": {},
   "outputs": [],
   "source": [
    "print(pmod,pge,pcpl)\n",
    "praw = [pmod.pvalue,pge.pvalue,pcpl.pvalue]"
   ]
  },
  {
   "cell_type": "code",
   "execution_count": null,
   "metadata": {},
   "outputs": [],
   "source": [
    "def cohend(c0,c1):\n",
    "    cohens_d = (np.nanmean(c0) - np.nanmean(c1)) / (np.sqrt((np.nanstd(c0) ** 2 + np.nanstd(c1) ** 2) / 2))\n",
    "    return cohens_d"
   ]
  },
  {
   "cell_type": "code",
   "execution_count": null,
   "metadata": {},
   "outputs": [],
   "source": [
    "dmod = cohend(pk_rish1000[:,:,:,0],emp_rish1000[:,:,:,0])"
   ]
  },
  {
   "cell_type": "code",
   "execution_count": null,
   "metadata": {},
   "outputs": [],
   "source": [
    "dmod"
   ]
  },
  {
   "cell_type": "code",
   "execution_count": 1,
   "metadata": {},
   "outputs": [],
   "source": [
    "import nibabel as nib\n",
    "from mpl_toolkits.axes_grid1 import make_axes_locatable\n",
    "from matplotlib.ticker import FormatStrFormatter\n",
    "import seaborn as sns\n",
    "import numpy as np\n",
    "import matplotlib.pyplot as plt\n",
    "import pandas as pd\n",
    "import math\n",
    "import sys"
   ]
  },
  {
   "cell_type": "code",
   "execution_count": null,
   "metadata": {},
   "outputs": [],
   "source": [
    "scalar_file = 'fiso.nii'\n",
    "root = '/home/local/VANDERBILT/kanakap/gradtensor/src/noddi'\n",
    "mask_root = '/nfs/masi/kanakap/projects/LR_tract/MASiVar_kids/'"
   ]
  },
  {
   "cell_type": "code",
   "execution_count": 132,
   "metadata": {},
   "outputs": [],
   "source": [
    "bammer1 = nib.load(root + '/noddi_output_corr1/noddi_' + scalar_file).get_fdata()\n",
    "mask1 = nib.load(mask_root + 'sub-cIVs001/ses-s1Bx2/fast_reg1/LABELS_IN_DWI.nii.gz').get_fdata()\n",
    "# mask1 = nib.load(mask_root + 'sub-cIVs001/ses-s1Bx2/slant_reg1/whole_brain_mask.nii').get_fdata()\n",
    "bammer1[bammer1 == 0] = 'nan'\n",
    "bammer1 = np.where(mask1==1,bammer1, np.nan) # csf\n",
    "# bammer1 = np.where(mask1,bammer1, np.nan) # csf"
   ]
  },
  {
   "cell_type": "code",
   "execution_count": null,
   "metadata": {},
   "outputs": [],
   "source": [
    "np.unique(bammer1)"
   ]
  },
  {
   "cell_type": "code",
   "execution_count": null,
   "metadata": {},
   "outputs": [],
   "source": [
    "np.nanmedian(bammer1)"
   ]
  },
  {
   "cell_type": "code",
   "execution_count": 133,
   "metadata": {},
   "outputs": [
    {
     "data": {
      "image/png": "[encoded data removed]",
      "text/plain": [
       "<Figure size 640x480 with 1 Axes>"
      ]
     },
     "metadata": {},
     "output_type": "display_data"
    }
   ],
   "source": [
    "slice_idx = 60\n",
    "image = bammer1\n",
    "image = np.where(mask1, image,np.nan)\n",
    "slice = image[slice_idx, :,:]\n",
    "slice = np.flip(np.rot90(slice,3))\n",
    "slice = np.nan_to_num(slice)\n",
    "# plt.subplot(5,3,i)\n",
    "plt.axis('off')\n",
    "cmap = plt.get_cmap('gray')\n",
    "m = 0\n",
    "M = 1\n",
    "im = plt.imshow(slice, vmin=m, vmax=M, cmap=cmap)"
   ]
  },
  {
   "cell_type": "code",
   "execution_count": 5,
   "metadata": {},
   "outputs": [],
   "source": [
    "def med_scalar(whole_brain):\n",
    "    m = np.nanmedian(whole_brain)\n",
    "    return m"
   ]
  },
  {
   "cell_type": "code",
   "execution_count": 2,
   "metadata": {},
   "outputs": [],
   "source": [
    "def get_data(scalar_file):\n",
    "    root = '/home/local/VANDERBILT/kanakap/gradtensor/src/noddi'\n",
    "    mask_root = '/nfs/masi/kanakap/projects/LR_tract/MASiVar_kids/'\n",
    "\n",
    "    uncorr1 = nib.load(root + '/noddi_output_uncorr1/noddi_' + scalar_file).get_fdata()\n",
    "    uncorr2 = nib.load(root + '/noddi_output_uncorr2/noddi_' + scalar_file).get_fdata()\n",
    "    uncorr3 = nib.load(root + '/noddi_output_uncorr3/noddi_' + scalar_file).get_fdata()\n",
    "    uncorr4 = nib.load(root + '/noddi_output_uncorr4/noddi_' + scalar_file).get_fdata()\n",
    "    uncorr5 = nib.load(root + '/noddi_output_uncorr5/noddi_' + scalar_file).get_fdata()\n",
    "\n",
    "    bammer1 = nib.load(root + '/noddi_output_corr1/noddi_' + scalar_file).get_fdata()\n",
    "    bammer2 = nib.load(root + '/noddi_output_corr2/noddi_' + scalar_file).get_fdata()\n",
    "    bammer3 = nib.load(root + '/noddi_output_corr3/noddi_' + scalar_file).get_fdata()\n",
    "    bammer4 = nib.load(root + '/noddi_output_corr4/noddi_' + scalar_file).get_fdata()\n",
    "    bammer5 = nib.load(root + '/noddi_output_corr5/noddi_' + scalar_file).get_fdata()\n",
    "\n",
    "    prop1 = nib.load(root + '/noddi_output_proposed1/noddi_' + scalar_file).get_fdata()\n",
    "    prop2 = nib.load(root + '/noddi_output_proposed2/noddi_' + scalar_file).get_fdata()\n",
    "    prop3 = nib.load(root + '/noddi_output_proposed3/noddi_' + scalar_file).get_fdata()\n",
    "    prop4 = nib.load(root + '/noddi_output_proposed4/noddi_' + scalar_file).get_fdata()\n",
    "    prop5 = nib.load(root + '/noddi_output_proposed5/noddi_' + scalar_file).get_fdata()\n",
    "\n",
    "    uncorr1[uncorr1 == 0] = 'nan'\n",
    "    uncorr2[uncorr2 == 0] = 'nan'\n",
    "    uncorr3[uncorr3 == 0] = 'nan'\n",
    "    uncorr4[uncorr4 == 0] = 'nan'\n",
    "    uncorr5[uncorr5 == 0] = 'nan'\n",
    "    bammer1[bammer1 == 0] = 'nan'\n",
    "    bammer2[bammer2 == 0] = 'nan'\n",
    "    bammer3[bammer3 == 0] = 'nan'\n",
    "    bammer4[bammer4 == 0] = 'nan'\n",
    "    bammer5[bammer5 == 0] = 'nan'\n",
    "    prop1[prop1 == 0] = 'nan'\n",
    "    prop2[prop2 == 0] = 'nan'\n",
    "    prop3[prop3 == 0] = 'nan'\n",
    "    prop4[prop4 == 0] = 'nan'\n",
    "    prop5[prop5 == 0] = 'nan'\n",
    "\n",
    "    mask1 = nib.load(mask_root + 'sub-cIVs001/ses-s1Bx2/fast_reg1/LABELS_IN_DWI.nii.gz').get_fdata()\n",
    "    mask2 = nib.load(mask_root + 'sub-cIVs002/ses-s1Bx2/fast_reg1/LABELS_IN_DWI.nii.gz').get_fdata()\n",
    "    mask3 = nib.load(mask_root + 'sub-cIVs006/ses-s1Bx2/fast_reg1/LABELS_IN_DWI.nii.gz').get_fdata()\n",
    "    mask4 = nib.load(mask_root + 'sub-cIVs007/ses-s1Bx2/fast_reg1/LABELS_IN_DWI.nii.gz').get_fdata()\n",
    "    mask5 = nib.load(mask_root + 'sub-cIVs005/ses-s1Bx3/fast_reg1/LABELS_IN_DWI.nii.gz').get_fdata()\n",
    "\n",
    "    if scalar_file != 'fiso.nii':\n",
    "        uncorr1 = np.where(mask1 != 1.0, uncorr1,np.nan)\n",
    "        uncorr2 = np.where(mask2 != 1.0, uncorr2,np.nan)\n",
    "        uncorr3 = np.where(mask3 != 1.0, uncorr3,np.nan)\n",
    "        uncorr4 = np.where(mask4 != 1.0, uncorr4,np.nan)\n",
    "        uncorr5 = np.where(mask5 != 1.0, uncorr5,np.nan)\n",
    "\n",
    "        uncorr1 = np.where(mask1,uncorr1, np.nan)\n",
    "        uncorr2 = np.where(mask2,uncorr2, np.nan)\n",
    "        uncorr3 = np.where(mask3,uncorr3, np.nan)\n",
    "        uncorr4 = np.where(mask4,uncorr4, np.nan)\n",
    "        uncorr5 = np.where(mask5,uncorr5, np.nan)\n",
    "\n",
    "        bammer1 = np.where(mask1 != 1.0, bammer1,np.nan)\n",
    "        bammer2 = np.where(mask2 != 1.0, bammer2,np.nan)\n",
    "        bammer3 = np.where(mask3 != 1.0, bammer3,np.nan)\n",
    "        bammer4 = np.where(mask4 != 1.0, bammer4,np.nan)\n",
    "        bammer5 = np.where(mask5 != 1.0, bammer5,np.nan)\n",
    "\n",
    "        bammer1 = np.where(mask1,bammer1, np.nan)\n",
    "        bammer2 = np.where(mask2,bammer2, np.nan)\n",
    "        bammer3 = np.where(mask3,bammer3, np.nan)\n",
    "        bammer4 = np.where(mask4,bammer4, np.nan)\n",
    "        bammer5 = np.where(mask5,bammer5, np.nan)\n",
    "\n",
    "        prop1 = np.where(mask1 != 1.0, prop1,np.nan)\n",
    "        prop2 = np.where(mask2 != 1.0, prop2,np.nan)\n",
    "        prop3 = np.where(mask3 != 1.0, prop3,np.nan)\n",
    "        prop4 = np.where(mask4 != 1.0, prop4,np.nan)\n",
    "        prop5 = np.where(mask5 != 1.0, prop5,np.nan)\n",
    "\n",
    "        prop1 = np.where(mask1,prop1, np.nan)\n",
    "        prop2 = np.where(mask2,prop2, np.nan)\n",
    "        prop3 = np.where(mask3,prop3, np.nan)\n",
    "        prop4 = np.where(mask4,prop4, np.nan)\n",
    "        prop5 = np.where(mask5,prop5, np.nan)\n",
    "    else:\n",
    "        uncorr1 = np.where(mask1 == 1.0, uncorr1,np.nan)\n",
    "        uncorr2 = np.where(mask2 == 1.0, uncorr2,np.nan)\n",
    "        uncorr3 = np.where(mask3 == 1.0, uncorr3,np.nan)\n",
    "        uncorr4 = np.where(mask4 == 1.0, uncorr4,np.nan)\n",
    "        uncorr5 = np.where(mask5 == 1.0, uncorr5,np.nan)\n",
    "\n",
    "        uncorr1 = np.where(mask1,uncorr1, np.nan)\n",
    "        uncorr2 = np.where(mask2,uncorr2, np.nan)\n",
    "        uncorr3 = np.where(mask3,uncorr3, np.nan)\n",
    "        uncorr4 = np.where(mask4,uncorr4, np.nan)\n",
    "        uncorr5 = np.where(mask5,uncorr5, np.nan)\n",
    "\n",
    "        bammer1 = np.where(mask1 == 1.0, bammer1,np.nan) # csf\n",
    "        bammer2 = np.where(mask2 == 1.0, bammer2,np.nan)\n",
    "        bammer3 = np.where(mask3 == 1.0, bammer3,np.nan)\n",
    "        bammer4 = np.where(mask4 == 1.0, bammer4,np.nan)\n",
    "        bammer5 = np.where(mask5 == 1.0, bammer5,np.nan)\n",
    "\n",
    "        bammer1 = np.where(mask1,bammer1, np.nan)\n",
    "        bammer2 = np.where(mask2,bammer2, np.nan)\n",
    "        bammer3 = np.where(mask3,bammer3, np.nan)\n",
    "        bammer4 = np.where(mask4,bammer4, np.nan)\n",
    "        bammer5 = np.where(mask5,bammer5, np.nan)\n",
    "\n",
    "        prop1 = np.where(mask1 == 1.0, prop1,np.nan)\n",
    "        prop2 = np.where(mask2 == 1.0, prop2,np.nan)\n",
    "        prop3 = np.where(mask3 == 1.0, prop3,np.nan)\n",
    "        prop4 = np.where(mask4 == 1.0, prop4,np.nan)\n",
    "        prop5 = np.where(mask5 == 1.0, prop5,np.nan)\n",
    "\n",
    "        prop1 = np.where(mask1,prop1, np.nan)\n",
    "        prop2 = np.where(mask2,prop2, np.nan)\n",
    "        prop3 = np.where(mask3,prop3, np.nan)\n",
    "        prop4 = np.where(mask4,prop4, np.nan)\n",
    "        prop5 = np.where(mask5,prop5, np.nan)\n",
    "\n",
    "    return uncorr1,uncorr2,uncorr3,uncorr4,uncorr5,bammer1,bammer2,bammer3,bammer4,bammer5,prop1,prop2,prop3,prop4,prop5"
   ]
  },
  {
   "cell_type": "code",
   "execution_count": 8,
   "metadata": {},
   "outputs": [],
   "source": [
    "def df_med(uncorr1,uncorr2,uncorr3,uncorr4,uncorr5,bammer1,bammer2,bammer3,bammer4,bammer5,prop1,prop2,prop3,prop4,prop5):\n",
    "    k = med_scalar(uncorr1)\n",
    "    l = med_scalar(uncorr2)\n",
    "    m = med_scalar(uncorr3)\n",
    "    n = med_scalar(uncorr4)\n",
    "    o = med_scalar(uncorr5)\n",
    "\n",
    "    a = med_scalar(bammer1)\n",
    "    b = med_scalar(bammer2)\n",
    "    c = med_scalar(bammer3)\n",
    "    d = med_scalar(bammer4)\n",
    "    e = med_scalar(bammer5)\n",
    "\n",
    "    f = med_scalar(prop1)\n",
    "    g = med_scalar(prop2)\n",
    "    h = med_scalar(prop3)\n",
    "    i = med_scalar(prop4)\n",
    "    j = med_scalar(prop5)\n",
    "\n",
    "    uncorr = [k, l, m, n, o]\n",
    "    bamm = [a, b, c, d, e]\n",
    "    prop = [f, g, h, i, j]\n",
    "    dfu = pd.DataFrame(uncorr)\n",
    "    dfu = dfu.assign(x = 'Uncorrected')\n",
    "\n",
    "    df = pd.DataFrame(bamm)\n",
    "    df = df.assign(x = 'Empirical Bammer')\n",
    "    \n",
    "    dfp = pd.DataFrame(prop)\n",
    "    dfp = dfp.assign(x = 'Proposed')\n",
    "\n",
    "    cat = pd.concat([dfu,df,dfp])\n",
    "    return cat, uncorr, bamm, prop"
   ]
  },
  {
   "cell_type": "code",
   "execution_count": 12,
   "metadata": {},
   "outputs": [],
   "source": [
    "def plot_sub(axes, cat, uncorr, bamm, prop, n, title):#, ymin, ymax):\n",
    "\n",
    "    palette= {'Uncorrected': 'black','Empirical Bammer': 'teal','Proposed': 'rebeccapurple'}\n",
    "    sns.swarmplot( ax = axes[n], x=\"x\", y=0, hue=\"x\", data=cat, palette=palette)\n",
    "    # idx0 = 0\n",
    "    # idx1 = 1\n",
    "    # locs1 = axes[n].get_children()[idx0].get_offsets()\n",
    "    # locs2 = axes[n].get_children()[idx1].get_offsets()\n",
    "    # sort_idxs1 = np.array([0, 1, 2, 3, 4])\n",
    "    # sort_idxs2 = np.array([0, 1, 2, 3, 4])#np.argsort(prop)\n",
    "    # locs2_sorted = locs2[sort_idxs2.argsort()][sort_idxs1]\n",
    "    # for i in range(locs1.shape[0]):\n",
    "    #     x = [locs1[i, 0], locs2_sorted[i, 0]]\n",
    "    #     y = [locs1[i, 1], locs2_sorted[i, 1]]\n",
    "    #     axes[n].plot(x, y, '--', color=\"black\", alpha=0.2)\n",
    "\n",
    "    idx0 = 0\n",
    "    idx1 = 1\n",
    "    idx2 = 2\n",
    "    locs1 = axes[n].get_children()[idx0].get_offsets()\n",
    "    locs2 = axes[n].get_children()[idx1].get_offsets()\n",
    "    locs3 = axes[n].get_children()[idx2].get_offsets()\n",
    "    sort_idxs1 = np.array([0, 1, 2, 3, 4])\n",
    "    sort_idxs2 = np.array([0, 1, 2, 3, 4])\n",
    "    sort_idxs3 = np.array([0, 1, 2, 3, 4])\n",
    "    locs2_sorted = locs2[sort_idxs2.argsort()][sort_idxs1]\n",
    "    locs3_sorted = locs3[sort_idxs3.argsort()][sort_idxs2]\n",
    "    for i in range(locs1.shape[0]):\n",
    "        x = [locs1[i, 0], locs2_sorted[i, 0]]\n",
    "        y = [locs1[i, 1], locs2_sorted[i, 1]]\n",
    "        axes[n].plot(x, y,'--', color=\"mediumturquoise\", alpha=0.3)\n",
    "\n",
    "    for i in range(locs1.shape[0]):\n",
    "        x = [locs1[i, 0], locs3_sorted[i, 0]]\n",
    "        z = [locs1[i, 1], locs3_sorted[i, 1]]\n",
    "        axes[n].plot(x, z, '--', color=\"mediumpurple\", alpha=0.3)\n",
    "\n",
    "    palette= {'Uncorrected': 'darkgrey','Empirical Bammer': 'mediumturquoise','Proposed': 'mediumpurple'}\n",
    "\n",
    "    bb = sns.boxplot( ax = axes[n], x=\"x\", y=0, hue=\"x\", data=cat,palette=palette, width = 0.4,dodge=False)\n",
    "\n",
    "    # for i,artist in enumerate(bb.artists):\n",
    "    # Set the linecolor on the artist to the facecolor, and set the facecolor to None\n",
    "      #  col = artist.get_facecolor()\n",
    "      #  artist.set_edgecolor(col)\n",
    "      #  artist.set_facecolor('None')\n",
    "      #  for j in range(i*6,i*6+6):\n",
    "      #      line = bb.lines[j]\n",
    "      #      line.set_color(col)\n",
    "      #      line.set_mfc(col)\n",
    "      #      line.set_mec(col)\n",
    "\n",
    "    # axes[n].set(ylim=(ymin, ymax))\n",
    "    axes[n].set_title(' ', fontsize=15)\n",
    "    axes[n].set_ylabel('Median ' + title,fontsize = 15)\n",
    "    axes[n].set_xlabel('')\n",
    "    axes[n].set_xticklabels([])\n",
    "    axes[n].tick_params(labelsize=15)\n",
    "    axes[n].grid(True,linewidth=0.5)\n",
    "    axes[n].legend([],[],frameon=False)"
   ]
  },
  {
   "cell_type": "code",
   "execution_count": 13,
   "metadata": {},
   "outputs": [
    {
     "data": {
      "image/png": "[encoded data removed]",
      "text/plain": [
       "<Figure size 1500x500 with 3 Axes>"
      ]
     },
     "metadata": {},
     "output_type": "display_data"
    }
   ],
   "source": [
    "uncorr1,uncorr2,uncorr3,uncorr4,uncorr5,bammer1,bammer2,bammer3,bammer4,bammer5,prop1,prop2,prop3,prop4,prop5 = get_data('ficvf.nii')\n",
    "cat_iVF, uncorr_iVF, bamm_iVF, prop_iVF = df_med(uncorr1,uncorr2,uncorr3,uncorr4,uncorr5,bammer1,bammer2,bammer3,bammer4,bammer5,prop1,prop2,prop3,prop4,prop5)\n",
    "uncorr1,uncorr2,uncorr3,uncorr4,uncorr5,bammer1,bammer2,bammer3,bammer4,bammer5,prop1,prop2,prop3,prop4,prop5 = get_data('fiso.nii')\n",
    "cat_cVF, uncorr_cVF, bamm_cVF, prop_cVF  = df_med(uncorr1,uncorr2,uncorr3,uncorr4,uncorr5,bammer1,bammer2,bammer3,bammer4,bammer5,prop1,prop2,prop3,prop4,prop5)\n",
    "uncorr1,uncorr2,uncorr3,uncorr4,uncorr5,bammer1,bammer2,bammer3,bammer4,bammer5,prop1,prop2,prop3,prop4,prop5 = get_data('odi.nii')\n",
    "cat_ODI, uncorr_ODI, bamm_ODI, prop_ODI  = df_med(uncorr1,uncorr2,uncorr3,uncorr4,uncorr5,bammer1,bammer2,bammer3,bammer4,bammer5,prop1,prop2,prop3,prop4,prop5)\n",
    "\n",
    "fig, axes = plt.subplots(1,3, figsize=(15,5))\n",
    "plt.rcParams.update({'font.size':15})\n",
    "plot_sub(axes, cat_iVF, uncorr_iVF, bamm_iVF, prop_iVF, 0, 'iVF')#,  0.078, 0.108)\n",
    "plot_sub(axes, cat_cVF, uncorr_cVF, bamm_cVF, prop_cVF, 1, 'cVF')#, 0.012, 0.025)\n",
    "plot_sub(axes, cat_ODI, uncorr_ODI, bamm_ODI, prop_ODI, 2, 'ODI')#, 0.073, 0.098)\n",
    "\n",
    "axes[2].yaxis.set_major_formatter(FormatStrFormatter('%.3f'))\n",
    "plt.subplots_adjust(wspace=0.35,hspace=0.1) \n",
    "plt.show()"
   ]
  },
  {
   "cell_type": "code",
   "execution_count": 14,
   "metadata": {},
   "outputs": [
    {
     "data": {
      "text/html": [
       "<div>\n",
       "<style scoped>\n",
       "    .dataframe tbody tr th:only-of-type {\n",
       "        vertical-align: middle;\n",
       "    }\n",
       "\n",
       "    .dataframe tbody tr th {\n",
       "        vertical-align: top;\n",
       "    }\n",
       "\n",
       "    .dataframe thead th {\n",
       "        text-align: right;\n",
       "    }\n",
       "</style>\n",
       "<table border=\"1\" class=\"dataframe\">\n",
       "  <thead>\n",
       "    <tr style=\"text-align: right;\">\n",
       "      <th></th>\n",
       "      <th>0</th>\n",
       "      <th>x</th>\n",
       "    </tr>\n",
       "  </thead>\n",
       "  <tbody>\n",
       "    <tr>\n",
       "      <th>0</th>\n",
       "      <td>0.425900</td>\n",
       "      <td>Uncorrected</td>\n",
       "    </tr>\n",
       "    <tr>\n",
       "      <th>1</th>\n",
       "      <td>0.436879</td>\n",
       "      <td>Uncorrected</td>\n",
       "    </tr>\n",
       "    <tr>\n",
       "      <th>2</th>\n",
       "      <td>0.425968</td>\n",
       "      <td>Uncorrected</td>\n",
       "    </tr>\n",
       "    <tr>\n",
       "      <th>3</th>\n",
       "      <td>0.418947</td>\n",
       "      <td>Uncorrected</td>\n",
       "    </tr>\n",
       "    <tr>\n",
       "      <th>4</th>\n",
       "      <td>0.445741</td>\n",
       "      <td>Uncorrected</td>\n",
       "    </tr>\n",
       "    <tr>\n",
       "      <th>0</th>\n",
       "      <td>0.420249</td>\n",
       "      <td>Empirical Bammer</td>\n",
       "    </tr>\n",
       "    <tr>\n",
       "      <th>1</th>\n",
       "      <td>0.431276</td>\n",
       "      <td>Empirical Bammer</td>\n",
       "    </tr>\n",
       "    <tr>\n",
       "      <th>2</th>\n",
       "      <td>0.415200</td>\n",
       "      <td>Empirical Bammer</td>\n",
       "    </tr>\n",
       "    <tr>\n",
       "      <th>3</th>\n",
       "      <td>0.413724</td>\n",
       "      <td>Empirical Bammer</td>\n",
       "    </tr>\n",
       "    <tr>\n",
       "      <th>4</th>\n",
       "      <td>0.439947</td>\n",
       "      <td>Empirical Bammer</td>\n",
       "    </tr>\n",
       "    <tr>\n",
       "      <th>0</th>\n",
       "      <td>0.417879</td>\n",
       "      <td>Proposed</td>\n",
       "    </tr>\n",
       "    <tr>\n",
       "      <th>1</th>\n",
       "      <td>0.429390</td>\n",
       "      <td>Proposed</td>\n",
       "    </tr>\n",
       "    <tr>\n",
       "      <th>2</th>\n",
       "      <td>0.410560</td>\n",
       "      <td>Proposed</td>\n",
       "    </tr>\n",
       "    <tr>\n",
       "      <th>3</th>\n",
       "      <td>0.415584</td>\n",
       "      <td>Proposed</td>\n",
       "    </tr>\n",
       "    <tr>\n",
       "      <th>4</th>\n",
       "      <td>0.437351</td>\n",
       "      <td>Proposed</td>\n",
       "    </tr>\n",
       "  </tbody>\n",
       "</table>\n",
       "</div>"
      ],
      "text/plain": [
       "          0                 x\n",
       "0  0.425900       Uncorrected\n",
       "1  0.436879       Uncorrected\n",
       "2  0.425968       Uncorrected\n",
       "3  0.418947       Uncorrected\n",
       "4  0.445741       Uncorrected\n",
       "0  0.420249  Empirical Bammer\n",
       "1  0.431276  Empirical Bammer\n",
       "2  0.415200  Empirical Bammer\n",
       "3  0.413724  Empirical Bammer\n",
       "4  0.439947  Empirical Bammer\n",
       "0  0.417879          Proposed\n",
       "1  0.429390          Proposed\n",
       "2  0.410560          Proposed\n",
       "3  0.415584          Proposed\n",
       "4  0.437351          Proposed"
      ]
     },
     "execution_count": 14,
     "metadata": {},
     "output_type": "execute_result"
    }
   ],
   "source": [
    "cat_iVF"
   ]
  },
  {
   "cell_type": "code",
   "execution_count": 23,
   "metadata": {},
   "outputs": [
    {
     "name": "stdout",
     "output_type": "stream",
     "text": [
      "WilcoxonResult(statistic=0.0, pvalue=0.043114446783075355) WilcoxonResult(statistic=6.0, pvalue=0.6858304344516057) WilcoxonResult(statistic=0.0, pvalue=0.043114446783075355)\n",
      "[0.12934334 1.         0.12934334]\n"
     ]
    }
   ],
   "source": [
    "from scipy import stats\n",
    "from statsmodels.sandbox.stats.multicomp import multipletests\n",
    "pivf = stats.wilcoxon(bamm_iVF, uncorr_iVF)\n",
    "pcvf = stats.wilcoxon(bamm_cVF, uncorr_cVF)\n",
    "podi = stats.wilcoxon(bamm_ODI, uncorr_ODI)\n",
    "print(pivf,pcvf,podi)\n",
    "praw = [pivf.pvalue,pcvf.pvalue,podi.pvalue]\n",
    "p_adjusted = multipletests(praw, alpha=0.008,method='bonferroni')\n",
    "print(p_adjusted[1])\n"
   ]
  },
  {
   "cell_type": "code",
   "execution_count": 24,
   "metadata": {},
   "outputs": [
    {
     "name": "stdout",
     "output_type": "stream",
     "text": [
      "WilcoxonResult(statistic=1.0, pvalue=0.07961580146011343) WilcoxonResult(statistic=0.0, pvalue=0.043114446783075355) WilcoxonResult(statistic=3.0, pvalue=0.22491588401596185)\n",
      "[0.2388474  0.12934334 0.67474765]\n"
     ]
    }
   ],
   "source": [
    "pivf = stats.wilcoxon(bamm_iVF, prop_iVF)\n",
    "pcvf = stats.wilcoxon(bamm_cVF, prop_cVF)\n",
    "podi = stats.wilcoxon(bamm_ODI, prop_ODI)\n",
    "print(pivf,pcvf,podi)\n",
    "praw = [pivf.pvalue,pcvf.pvalue,podi.pvalue]\n",
    "p_adjusted = multipletests(praw, alpha=0.008,method='bonferroni')\n",
    "print(p_adjusted[1])"
   ]
  },
  {
   "cell_type": "code",
   "execution_count": 25,
   "metadata": {},
   "outputs": [
    {
     "name": "stdout",
     "output_type": "stream",
     "text": [
      "WilcoxonResult(statistic=0.0, pvalue=0.043114446783075355) WilcoxonResult(statistic=3.0, pvalue=0.22491588401596185) WilcoxonResult(statistic=0.0, pvalue=0.043114446783075355)\n",
      "[0.12934334 0.67474765 0.12934334]\n"
     ]
    }
   ],
   "source": [
    "pivf = stats.wilcoxon(uncorr_iVF, prop_iVF)\n",
    "pcvf = stats.wilcoxon(uncorr_cVF, prop_cVF)\n",
    "podi = stats.wilcoxon(uncorr_ODI, prop_ODI)\n",
    "print(pivf,pcvf,podi)\n",
    "praw = [pivf.pvalue,pcvf.pvalue,podi.pvalue]\n",
    "p_adjusted = multipletests(praw, alpha=0.008,method='bonferroni')\n",
    "print(p_adjusted[1])"
   ]
  },
  {
   "cell_type": "code",
   "execution_count": 115,
   "metadata": {},
   "outputs": [
    {
     "name": "stdout",
     "output_type": "stream",
     "text": [
      "[0.2388474  0.12934334 0.67474765]\n"
     ]
    }
   ],
   "source": [
    "print(p_adjusted[1])"
   ]
  },
  {
   "cell_type": "code",
   "execution_count": 27,
   "metadata": {},
   "outputs": [],
   "source": [
    "def cohend(c0,c1):\n",
    "    cohens_d = (np.nanmean(c0) - np.nanmean(c1)) / (np.sqrt((np.nanstd(c0) ** 2 + np.nanstd(c1) ** 2) / 2))\n",
    "    return cohens_d"
   ]
  },
  {
   "cell_type": "code",
   "execution_count": null,
   "metadata": {},
   "outputs": [],
   "source": [
    "def get_data(scalar_file):\n",
    "    root = '/home/local/VANDERBILT/kanakap/gradtensor/src/noddi'\n",
    "    mask_root = '/nfs/masi/kanakap/projects/LR_tract/MASiVar_kids/'\n",
    "    bammer1 = nib.load(root + '/noddi_output_corr1/noddi_' + scalar_file).get_fdata()\n",
    "    bammer2 = nib.load(root + '/noddi_output_corr2/noddi_' + scalar_file).get_fdata()\n",
    "    bammer3 = nib.load(root + '/noddi_output_corr3/noddi_' + scalar_file).get_fdata()\n",
    "    bammer4 = nib.load(root + '/noddi_output_corr4/noddi_' + scalar_file).get_fdata()\n",
    "    bammer5 = nib.load(root + '/noddi_output_corr5/noddi_' + scalar_file).get_fdata()\n",
    "\n",
    "    prop1 = nib.load(root + '/noddi_output_proposed1/noddi_' + scalar_file).get_fdata()\n",
    "    prop2 = nib.load(root + '/noddi_output_proposed2/noddi_' + scalar_file).get_fdata()\n",
    "    prop3 = nib.load(root + '/noddi_output_proposed3/noddi_' + scalar_file).get_fdata()\n",
    "    prop4 = nib.load(root + '/noddi_output_proposed4/noddi_' + scalar_file).get_fdata()\n",
    "    prop5 = nib.load(root + '/noddi_output_proposed5/noddi_' + scalar_file).get_fdata()\n",
    "\n",
    "    bammer1[bammer1 == 0] = 'nan'\n",
    "    bammer2[bammer2 == 0] = 'nan'\n",
    "    bammer3[bammer3 == 0] = 'nan'\n",
    "    bammer4[bammer4 == 0] = 'nan'\n",
    "    bammer5[bammer5 == 0] = 'nan'\n",
    "    prop1[prop1 == 0] = 'nan'\n",
    "    prop2[prop2 == 0] = 'nan'\n",
    "    prop3[prop3 == 0] = 'nan'\n",
    "    prop4[prop4 == 0] = 'nan'\n",
    "    prop5[prop5 == 0] = 'nan'\n",
    "    \n",
    "    mask1 = nib.load(mask_root + 'sub-cIVs001/ses-s1Bx2/fast_reg1/LABELS_IN_DWI.nii.gz').get_fdata()\n",
    "    mask2 = nib.load(mask_root + 'sub-cIVs002/ses-s1Bx2/fast_reg1/LABELS_IN_DWI.nii.gz').get_fdata()\n",
    "    mask3 = nib.load(mask_root + 'sub-cIVs006/ses-s1Bx2/fast_reg1/LABELS_IN_DWI.nii.gz').get_fdata()\n",
    "    mask4 = nib.load(mask_root + 'sub-cIVs007/ses-s1Bx2/fast_reg1/LABELS_IN_DWI.nii.gz').get_fdata()\n",
    "    mask5 = nib.load(mask_root + 'sub-cIVs005/ses-s1Bx3/fast_reg1/LABELS_IN_DWI.nii.gz').get_fdata()\n",
    "\n",
    "    if scalar_file != 'fiso.nii':\n",
    "        bammer1 = np.where(mask1 != 1.0,bammer1, np.nan) # wm gm \n",
    "        bammer1 = np.where(mask1 != 1.0, bammer1,np.nan)\n",
    "        bammer2 = np.where(mask2 != 1.0, bammer2,np.nan)\n",
    "        bammer3 = np.where(mask3 != 1.0, bammer3,np.nan)\n",
    "        bammer4 = np.where(mask4 != 1.0, bammer4,np.nan)\n",
    "        bammer5 = np.where(mask5 != 1.0, bammer5,np.nan)\n",
    "\n",
    "        prop1 = np.where(mask1 != 1.0, prop1,np.nan)\n",
    "        prop2 = np.where(mask2 != 1.0, prop2,np.nan)\n",
    "        prop3 = np.where(mask3 != 1.0, prop3,np.nan)\n",
    "        prop4 = np.where(mask4 != 1.0, prop4,np.nan)\n",
    "        prop5 = np.where(mask5 != 1.0, prop5,np.nan)\n",
    "    else:\n",
    "        bammer1 = np.where(mask1 == 1.0, bammer1,np.nan) # csf\n",
    "        bammer2 = np.where(mask2 == 1.0, bammer2,np.nan)\n",
    "        bammer3 = np.where(mask3 == 1.0, bammer3,np.nan)\n",
    "        bammer4 = np.where(mask4 == 1.0, bammer4,np.nan)\n",
    "        bammer5 = np.where(mask5 == 1.0, bammer5,np.nan)\n",
    "\n",
    "        prop1 = np.where(mask1 == 1.0, prop1,np.nan)\n",
    "        prop2 = np.where(mask2 == 1.0, prop2,np.nan)\n",
    "        prop3 = np.where(mask3 == 1.0, prop3,np.nan)\n",
    "        prop4 = np.where(mask4 == 1.0, prop4,np.nan)\n",
    "        prop5 = np.where(mask5 == 1.0, prop5,np.nan)\n",
    "    \n",
    "    return bammer1,bammer2,bammer3,bammer4,bammer5,prop1,prop2,prop3,prop4,prop5,mask1,mask2,mask3,mask4,mask5"
   ]
  },
  {
   "cell_type": "code",
   "execution_count": 29,
   "metadata": {},
   "outputs": [
    {
     "name": "stdout",
     "output_type": "stream",
     "text": [
      "-0.02631555327784562 -0.02585554739592874 -0.06197984122070155 -0.024389362927231196 -0.022559138754946195\n"
     ]
    }
   ],
   "source": [
    "uncorr1,uncorr2,uncorr3,uncorr4,uncorr5,bammer1,bammer2,bammer3,bammer4,bammer5,prop1,prop2,prop3,prop4,prop5 = get_data('ficvf.nii')\n",
    "c1 = cohend(bammer1, uncorr1)\n",
    "c2 = cohend(bammer2, uncorr2)\n",
    "c3 = cohend(bammer3, uncorr3)\n",
    "c4 = cohend(bammer4, uncorr4)\n",
    "c5 = cohend(bammer5, uncorr5)\n",
    "print(c1, c2, c3, c4, c5)"
   ]
  },
  {
   "cell_type": "code",
   "execution_count": null,
   "metadata": {},
   "outputs": [],
   "source": [
    "# ficvf.nii\n",
    "bammer1,bammer2,bammer3,bammer4,bammer5,prop1,prop2,prop3,prop4,prop5,mask1,mask2,mask3,mask4,mask5 = get_data('ficvf.nii')\n",
    "bammer1 = np.where(mask1, bammer1,np.nan)\n",
    "bammer2 = np.where(mask2, bammer2,np.nan)\n",
    "bammer3 = np.where(mask3, bammer3,np.nan)\n",
    "bammer4 = np.where(mask4, bammer4,np.nan)\n",
    "bammer5 = np.where(mask5, bammer5,np.nan)\n",
    "\n",
    "prop1 = np.where(mask1, prop1,np.nan)\n",
    "prop2 = np.where(mask2, prop2,np.nan)\n",
    "prop3 = np.where(mask3, prop3,np.nan)\n",
    "prop4 = np.where(mask4, prop4,np.nan)\n",
    "prop5 = np.where(mask5, prop5,np.nan)\n",
    "c1 = cohend(bammer1, prop1)\n",
    "c2 = cohend(bammer2, prop2)\n",
    "c3 = cohend(bammer3, prop3)\n",
    "c4 = cohend(bammer4, prop4)\n",
    "c5 = cohend(bammer5, prop5)\n",
    "print(c1, c2, c3, c4, c5)"
   ]
  },
  {
   "cell_type": "code",
   "execution_count": 28,
   "metadata": {},
   "outputs": [
    {
     "name": "stdout",
     "output_type": "stream",
     "text": [
      "-0.010840592162186179 -0.009547074713573456 -0.01833637039005087 -0.009338672347411137 -0.004973541206085872\n"
     ]
    }
   ],
   "source": [
    "# fiso.nii\n",
    "uncorr1,uncorr2,uncorr3,uncorr4,uncorr5,bammer1,bammer2,bammer3,bammer4,bammer5,prop1,prop2,prop3,prop4,prop5 = get_data('fiso.nii')\n",
    "bammer1 = np.where(mask1, bammer1,np.nan)\n",
    "bammer2 = np.where(mask2, bammer2,np.nan)\n",
    "bammer3 = np.where(mask3, bammer3,np.nan)\n",
    "bammer4 = np.where(mask4, bammer4,np.nan)\n",
    "bammer5 = np.where(mask5, bammer5,np.nan)\n",
    "\n",
    "prop1 = np.where(mask1, prop1,np.nan)\n",
    "prop2 = np.where(mask2, prop2,np.nan)\n",
    "prop3 = np.where(mask3, prop3,np.nan)\n",
    "prop4 = np.where(mask4, prop4,np.nan)\n",
    "prop5 = np.where(mask5, prop5,np.nan)\n",
    "\n",
    "c1 = cohend(bammer1, prop1)\n",
    "c2 = cohend(bammer2, prop2)\n",
    "c3 = cohend(bammer3, prop3)\n",
    "c4 = cohend(bammer4, prop4)\n",
    "c5 = cohend(bammer5, prop5)\n",
    "print(c1, c2, c3, c4, c5)"
   ]
  },
  {
   "cell_type": "code",
   "execution_count": null,
   "metadata": {},
   "outputs": [],
   "source": [
    "# odi.nii\n",
    "bammer1,bammer2,bammer3,bammer4,bammer5,prop1,prop2,prop3,prop4,prop5,mask1,mask2,mask3,mask4,mask5 = get_data('odi.nii')\n",
    "bammer1 = np.where(mask1, bammer1,np.nan)\n",
    "bammer2 = np.where(mask2, bammer2,np.nan)\n",
    "bammer3 = np.where(mask3, bammer3,np.nan)\n",
    "bammer4 = np.where(mask4, bammer4,np.nan)\n",
    "bammer5 = np.where(mask5, bammer5,np.nan)\n",
    "\n",
    "prop1 = np.where(mask1, prop1,np.nan)\n",
    "prop2 = np.where(mask2, prop2,np.nan)\n",
    "prop3 = np.where(mask3, prop3,np.nan)\n",
    "prop4 = np.where(mask4, prop4,np.nan)\n",
    "prop5 = np.where(mask5, prop5,np.nan)\n",
    "\n",
    "c1 = cohend(bammer1, prop1)\n",
    "c2 = cohend(bammer2, prop2)\n",
    "c3 = cohend(bammer3, prop3)\n",
    "c4 = cohend(bammer4, prop4)\n",
    "c5 = cohend(bammer5, prop5)\n",
    "print(c1, c2, c3, c4, c5)"
   ]
  },
  {
   "cell_type": "code",
   "execution_count": 1,
   "metadata": {},
   "outputs": [],
   "source": [
    "import numpy as np\n",
    "from numpy import linspace\n",
    "import pandas as pd\n",
    "import seaborn as sns\n",
    "import matplotlib.pyplot as plt\n",
    "from scipy.stats import gaussian_kde\n",
    "import nibabel as nib"
   ]
  },
  {
   "cell_type": "code",
   "execution_count": null,
   "metadata": {},
   "outputs": [],
   "source": [
    "def plot_den(axes, bammer, prop, x, y):\n",
    "    # plot histogram chart for var1\n",
    "    prop = prop.flatten()\n",
    "    bammer = bammer.flatten()\n",
    "    bammer = bammer[~np.isnan(bammer)]\n",
    "    prop = prop[~np.isnan(prop)]\n",
    "    #sns.histplot(x=prop, bins=20, edgecolor='black', ax=axes[x,y])\n",
    "    sns.histplot(x=prop, stat=\"density\", bins=20, edgecolor='black', ax=axes[x,y])\n",
    "    \n",
    "\n",
    "    # plot histogram chart for var2\n",
    "    n_bins = 20\n",
    "    # get positions and heights of bars\n",
    "    heights, bins = np.histogram(bammer, density=True, bins=n_bins) \n",
    "    # heights, bins = np.histogram(bammer, density=True, bins=n_bins) \n",
    "\n",
    "    # multiply by -1 to reverse it\n",
    "    heights *= -1\n",
    "    bin_width = np.diff(bins)[0]\n",
    "    bin_pos =( bins[:-1] + bin_width / 2) * 1\n",
    "\n",
    "    # plot\n",
    "    axes[x,y].bar(bin_pos, heights, width=bin_width, edgecolor='black')\n"
   ]
  },
  {
   "cell_type": "code",
   "execution_count": null,
   "metadata": {},
   "outputs": [],
   "source": [
    "fig, axes = plt.subplots(5,3, figsize=(12,18))\n",
    "plt.rcParams.update({'font.size':15})\n",
    "s = ['ficvf.nii', 'fiso.nii', 'odi.nii']\n",
    "for i in range(3):\n",
    "    bammer1,bammer2,bammer3,bammer4,bammer5,prop1,prop2,prop3,prop4,prop5,mask1,mask2,mask3,mask4,mask5 = get_data(s[i])\n",
    "    \n",
    "    plot_den(axes, bammer1, prop1,  0, i)\n",
    "    plot_den(axes, bammer2, prop2,  1, i)\n",
    "    plot_den(axes, bammer3, prop3,  2, i)\n",
    "    plot_den(axes, bammer4, prop4,  3, i)\n",
    "    plot_den(axes, bammer5, prop5,  4, i)\n",
    "\n",
    "plt.subplots_adjust(wspace=0.5,hspace=0.15) \n"
   ]
  },
  {
   "cell_type": "code",
   "execution_count": null,
   "metadata": {},
   "outputs": [],
   "source": [
    "def plot_slice(image,i, mask):\n",
    "    slice_idx = 60\n",
    "    image = np.where(mask, image,0)\n",
    "    slice = image[slice_idx, :,:]\n",
    "    slice = np.flip(np.rot90(slice,3))\n",
    "    slice = np.nan_to_num(slice)\n",
    "    plt.subplot(3,5,i)\n",
    "    plt.axis('off')\n",
    "    cmap = plt.get_cmap('gray')\n",
    "    m = 0\n",
    "    M = 1\n",
    "    im = plt.imshow(slice, vmin=m, vmax=M, cmap=cmap)\n",
    "    divider = make_axes_locatable(plt.gca())\n",
    "    cax = divider.append_axes(\"right\", size=\"3%\", pad=0.10)\n",
    "    a = plt.colorbar(im, cax=cax)"
   ]
  },
  {
   "cell_type": "code",
   "execution_count": null,
   "metadata": {},
   "outputs": [],
   "source": [
    "# for colorbar\n",
    "fig = plt.figure(figsize=(15,10))\n",
    "for i in range(1):\n",
    "    plot_slice(d[i], i+1, m[i])"
   ]
  },
  {
   "cell_type": "code",
   "execution_count": null,
   "metadata": {},
   "outputs": [],
   "source": []
  },
  {
   "cell_type": "code",
   "execution_count": null,
   "metadata": {},
   "outputs": [],
   "source": [
    "fig, axes = plt.subplots(3,5, figsize=(16,5))\n",
    "plt.rcParams.update({'font.size':15})\n",
    "bammer1,bammer2,bammer3,bammer4,bammer5,prop1,prop2,prop3,prop4,prop5,mask1,mask2,mask3,mask4,mask5 = get_data('ficvf.nii')\n",
    "\n",
    "# d = [bammer1,prop1, np.abs(bammer1 - prop1), \n",
    "#     bammer2,prop2, np.abs(bammer2 - prop2), \n",
    "#     bammer3,prop3, np.abs(bammer3 - prop3),\n",
    "#     bammer4,prop4, np.abs(bammer4 - prop4),\n",
    "#     bammer5,prop5, np.abs(bammer5 - prop5)]\n",
    "\n",
    "# m = [mask1, mask1, mask1,\n",
    "#     mask2, mask2, mask2,\n",
    "#     mask3, mask3, mask3,\n",
    "#     mask4, mask4, mask4,\n",
    "#     mask5, mask5, mask5]\n",
    "\n",
    "d = [bammer1,bammer2,bammer3,bammer4,bammer5,\n",
    "    prop1,prop2,prop3,prop4,prop5,\n",
    "    np.abs(bammer1 - prop1), np.abs(bammer2 - prop2), np.abs(bammer3 - prop3), np.abs(bammer4 - prop4),  np.abs(bammer5 - prop5)]\n",
    "\n",
    "m = [mask1,mask2,mask3,mask4,mask5,\n",
    "    mask1,mask2,mask3,mask4,mask5,\n",
    "    mask1,mask2,mask3,mask4,mask5]\n",
    "    \n",
    "for i in range(15):\n",
    "    plot_slice(d[i], i+1, m[i])\n",
    "\n",
    "plt.subplots_adjust(wspace=0.01,hspace=0.001) "
   ]
  },
  {
   "cell_type": "code",
   "execution_count": null,
   "metadata": {},
   "outputs": [],
   "source": [
    "fig, axes = plt.subplots(3,5, figsize=(16,5))\n",
    "plt.rcParams.update({'font.size':15})\n",
    "bammer1,bammer2,bammer3,bammer4,bammer5,prop1,prop2,prop3,prop4,prop5,mask1,mask2,mask3,mask4,mask5 = get_data('fiso.nii')\n",
    "\n",
    "d = [bammer1,bammer2,bammer3,bammer4,bammer5,\n",
    "    prop1,prop2,prop3,prop4,prop5,\n",
    "    np.abs(bammer1 - prop1), np.abs(bammer2 - prop2), np.abs(bammer3 - prop3), np.abs(bammer4 - prop4),  np.abs(bammer5 - prop5)]\n",
    "\n",
    "m = [mask1,mask2,mask3,mask4,mask5,\n",
    "    mask1,mask2,mask3,mask4,mask5,\n",
    "    mask1,mask2,mask3,mask4,mask5]\n",
    "\n",
    "    \n",
    "for i in range(15):\n",
    "    plot_slice(d[i], i+1, m[i])\n",
    "\n",
    "plt.subplots_adjust(wspace=0.01,hspace=0.001) "
   ]
  },
  {
   "cell_type": "code",
   "execution_count": null,
   "metadata": {},
   "outputs": [],
   "source": [
    "fig, axes = plt.subplots(3,5, figsize=(16,5))\n",
    "plt.rcParams.update({'font.size':15})\n",
    "bammer1,bammer2,bammer3,bammer4,bammer5,prop1,prop2,prop3,prop4,prop5,mask1,mask2,mask3,mask4,mask5 = get_data('odi.nii')\n",
    "\n",
    "d = [bammer1,bammer2,bammer3,bammer4,bammer5,\n",
    "    prop1,prop2,prop3,prop4,prop5,\n",
    "    np.abs(bammer1 - prop1), np.abs(bammer2 - prop2), np.abs(bammer3 - prop3), np.abs(bammer4 - prop4),  np.abs(bammer5 - prop5)]\n",
    "\n",
    "m = [mask1,mask2,mask3,mask4,mask5,\n",
    "    mask1,mask2,mask3,mask4,mask5,\n",
    "    mask1,mask2,mask3,mask4,mask5]\n",
    "    \n",
    "for i in range(15):\n",
    "    plot_slice(d[i], i+1, m[i])\n",
    "\n",
    "plt.subplots_adjust(wspace=0.01,hspace=0.001) "
   ]
  },
  {
   "cell_type": "code",
   "execution_count": null,
   "metadata": {},
   "outputs": [],
   "source": []
  }
 ],
 "metadata": {
  "kernelspec": {
   "display_name": "Python 3.8.10 ('py38-venv')",
   "language": "python",
   "name": "python3"
  },
  "language_info": {
   "codemirror_mode": {
    "name": "ipython",
    "version": 3
   },
   "file_extension": ".py",
   "mimetype": "text/x-python",
   "name": "python",
   "nbconvert_exporter": "python",
   "pygments_lexer": "ipython3",
   "version": "3.8.10"
  },
  "orig_nbformat": 4,
  "vscode": {
   "interpreter": {
    "hash": "d9749a4265c87f72774543240441c51fd1bb64f2f820d264106490f8b1f503d5"
   }
  }
 },
 "nbformat": 4,
 "nbformat_minor": 2
}
