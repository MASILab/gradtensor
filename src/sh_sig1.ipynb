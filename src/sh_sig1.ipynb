{
 "cells": [
  {
   "cell_type": "code",
   "execution_count": 2,
   "metadata": {},
   "outputs": [
    {
     "name": "stderr",
     "output_type": "stream",
     "text": [
      "/home/local/VANDERBILT/kanakap/py38-venv/lib/python3.8/site-packages/tqdm/auto.py:22: TqdmWarning: IProgress not found. Please update jupyter and ipywidgets. See https://ipywidgets.readthedocs.io/en/stable/user_install.html\n",
      "  from .autonotebook import tqdm as notebook_tqdm\n"
     ]
    }
   ],
   "source": [
    "import os\n",
    "import scipy\n",
    "import logging\n",
    "import tempfile\n",
    "import numpy as np\n",
    "import nibabel as nib\n",
    "import multiprocessing\n",
    "from dipy.data import get_sphere\n",
    "from dipy.io import read_bvals_bvecs\n",
    "from joblib import Parallel, delayed\n",
    "from dipy.core.sphere import Sphere\n",
    "from dipy.reconst.shm import sf_to_sh\n",
    "from dipy.core.gradients import gradient_table_from_bvals_bvecs\n",
    "from scilpy.reconst.multi_processes import fit_from_model, convert_sh_basis\n",
    "from scilpy.reconst.raw_signal import compute_sh_coefficients\n",
    "from dipy.reconst.csdeconv import ConstrainedSphericalDeconvModel\n",
    "from dipy.reconst.shm import real_sh_descoteaux_from_index, sh_to_sf\n",
    "from scilpy.utils.bvec_bval_tools import (DEFAULT_B0_THRESHOLD,\n",
    "                                          check_b0_threshold, identify_shells,\n",
    "                                          is_normalized_bvecs, normalize_bvecs)"
   ]
  },
  {
   "cell_type": "code",
   "execution_count": 2,
   "metadata": {},
   "outputs": [],
   "source": [
    "n = nib.load('/nfs/masi/kanakap/projects/LR_tract/MASiVar_kids/sub-cIVs001/ses-s1Bx2/prequal_dwi_cat/dwi_fodf.nii.gz').get_fdata()\n",
    "vol = nib.load('/nfs/masi/kanakap/projects/LR_tract/MASiVar_kids/sub-cIVs001/ses-s1Bx2/prequal_dwi_cat/dwi_fodf.nii.gz')\n",
    "og_file = '/nfs/masi/kanakap/projects/LR_tract/MASiVar_kids/sub-cIVs001/ses-s1Bx2/prequal_dwi_cat/bvec_fodf.bvec'\n",
    "ob_file = '/nfs/masi/kanakap/projects/LR_tract/MASiVar_kids/sub-cIVs001/ses-s1Bx2/prequal_dwi_cat/bval_fodf.bval'\n",
    "vec_folder = '/home/local/VANDERBILT/kanakap/try_fx_emp/bvec'\n",
    "val_folder = '/home/local/VANDERBILT/kanakap/try_fx_emp/bval'\n",
    "mask = nib.load('/nfs/masi/kanakap/projects/LR_tract/MASiVar_kids/sub-cIVs001/ses-s1Bx2/prequal_dwi_cat/mask.nii.gz').get_fdata()\n",
    "mean_b0_vol = nib.load('/nfs/masi/kanakap/projects/LR_tract/MASiVar_kids/sub-cIVs001/ses-s1Bx2/prequal_dwi_cat/b0_mean.nii.gz').get_fdata()"
   ]
  },
  {
   "cell_type": "code",
   "execution_count": 3,
   "metadata": {},
   "outputs": [],
   "source": [
    "n = nib.load('/nfs/masi/kanakap/projects/LR_tract/MASiVar_kids/sub-cIVs001/ses-s1Bx2/prequal_dwi_cat/sub-cIVs001_ses-s1Bx2_acq-b1000b2000n96r21x21x22peAPP_run-1_dwi.nii.gz').get_fdata()\n",
    "vol = nib.load('/nfs/masi/kanakap/projects/LR_tract/MASiVar_kids/sub-cIVs001/ses-s1Bx2/prequal_dwi_cat/sub-cIVs001_ses-s1Bx2_acq-b1000b2000n96r21x21x22peAPP_run-1_dwi.nii.gz')\n",
    "og_file = '/nfs/masi/kanakap/projects/LR_tract/MASiVar_kids/sub-cIVs001/ses-s1Bx2/prequal_dwi_cat/sub-cIVs001_ses-s1Bx2_acq-b1000b2000n96r21x21x22peAPP_run-1_dwi.bvec'\n",
    "ob_file = '/nfs/masi/kanakap/projects/LR_tract/MASiVar_kids/sub-cIVs001/ses-s1Bx2/prequal_dwi_cat/sub-cIVs001_ses-s1Bx2_acq-b1000b2000n96r21x21x22peAPP_run-1_dwi.bval'\n",
    "vec_folder = '/home/local/VANDERBILT/kanakap/try_fx_emp/bvec_tensor'\n",
    "val_folder = '/home/local/VANDERBILT/kanakap/try_fx_emp/bval_tensor'\n",
    "mask = nib.load('/nfs/masi/kanakap/projects/LR_tract/MASiVar_kids/sub-cIVs001/ses-s1Bx2/prequal_dwi_cat/mask.nii.gz').get_fdata()\n",
    "# mean_b0_vol = nib.load('/nfs/masi/kanakap/projects/LR_tract/MASiVar_kids/sub-cIVs001/ses-s1Bx2/prequal_dwi_cat/b0_mean.nii.gz').get_fdata()"
   ]
  },
  {
   "cell_type": "code",
   "execution_count": 28,
   "metadata": {},
   "outputs": [],
   "source": [
    "def compute_dwi_attenuation(dwi_weights: np.ndarray, b0: np.ndarray):\n",
    "    \"\"\" Compute signal attenuation by dividing the dwi signal with the b0.\n",
    "    Parameters:\n",
    "    -----------\n",
    "    dwi_weights : np.ndarray of shape (X, Y, Z, #gradients)\n",
    "        Diffusion weighted images.\n",
    "    b0 : np.ndarray of shape (X, Y, Z)\n",
    "        B0 image.\n",
    "    Returns\n",
    "    -------\n",
    "    dwi_attenuation : np.ndarray\n",
    "        Signal attenuation (Diffusion weights normalized by the B0).\n",
    "    \"\"\"\n",
    "    b0 = b0[..., None]  # Easier to work if it is a 4D array.\n",
    "\n",
    "    # Make sure that, in every voxels, weights are lower in the b0. Should\n",
    "    # always be the case, but with the noise we never know!\n",
    "    erroneous_voxels = np.any(dwi_weights > b0, axis=3)\n",
    "    nb_erroneous_voxels = np.sum(erroneous_voxels)\n",
    "    if nb_erroneous_voxels != 0:\n",
    "        logging.info(\"# of voxels where `dwi_signal > b0` in any direction: \"\n",
    "                     \"{}\".format(nb_erroneous_voxels))\n",
    "        dwi_weights = np.minimum(dwi_weights, b0)\n",
    "\n",
    "    # Compute attenuation\n",
    "    dwi_attenuation = dwi_weights / b0\n",
    "\n",
    "    # Make sure we didn't divide by 0.\n",
    "    dwi_attenuation[np.logical_not(np.isfinite(dwi_attenuation))] = 0.\n",
    "\n",
    "    return dwi_attenuation"
   ]
  },
  {
   "cell_type": "code",
   "execution_count": 23,
   "metadata": {},
   "outputs": [],
   "source": [
    "# DWI TO SF (With the voxelwise bvec and bval)\n",
    "def reconstruct_signal_at_voxel(i,j,k,n,og_bval,og_bvec,bvec_stack,bval_stack,dwi_hat):\n",
    "        dwi = n[i][j][k]\n",
    "        og_gradient_table = gradient_table_from_bvals_bvecs(og_bval, og_bvec)\n",
    "        vec = bvec_stack[i,j,k,:,:]\n",
    "        val = bval_stack[i,j,k,:]\n",
    "        gradient_table = gradient_table_from_bvals_bvecs(val, vec)\n",
    "        sh_order=10\n",
    "        basis_type='tournier07'\n",
    "        smooth=0.00\n",
    "        use_attenuation=True\n",
    "        force_b0_threshold=False\n",
    "        mask=None\n",
    "        sphere=None\n",
    "\n",
    "        # Extracting infos\n",
    "        b0_mask = gradient_table.b0s_mask\n",
    "        bvecs = gradient_table.bvecs\n",
    "        bvals = gradient_table.bvals\n",
    "        print(bvals.shape[0])\n",
    "        dwi = np.reshape(dwi,[1,1,1,bvals.shape[0]])\n",
    "\n",
    "        if not is_normalized_bvecs(bvecs):\n",
    "                logging.warning(\"Your b-vectors do not seem normalized...\")\n",
    "                bvecs = normalize_bvecs(bvecs)\n",
    "\n",
    "        b0_threshold = check_b0_threshold(force_b0_threshold, bvals.min())\n",
    "\n",
    "        # Ensure that this is on a single shell.\n",
    "        shell_values, _ = identify_shells(bvals)\n",
    "        shell_values.sort()\n",
    "        # if shell_values.shape[0] != 2 or shell_values[0] > b0_threshold:\n",
    "        #     raise ValueError(\"Can only work on single shell signals.\")\n",
    "\n",
    "        # Keeping b0-based infos\n",
    "        bvecs = bvecs[np.logical_not(b0_mask)]\n",
    "        weights = dwi[..., np.logical_not(b0_mask)]\n",
    "\n",
    "        # scale singal with bval correction \n",
    "        b0 = dwi[..., b0_mask].mean(axis=3)\n",
    "        norm_gg = np.divide(bvals[np.logical_not(b0_mask)] , og_bval[np.logical_not(b0_mask)])\n",
    "        weights_scaled = b0 * np.exp (np.divide( (np.log (np.divide(weights,b0)) ) , norm_gg))\n",
    "\n",
    "        # Compute attenuation using the b0.\n",
    "        if use_attenuation:\n",
    "                weights_scaled = compute_dwi_attenuation(weights_scaled, b0)\n",
    "\n",
    "        # # Get cartesian coords from bvecs\n",
    "        sphere = Sphere(xyz=bvecs)\n",
    "\n",
    "        # SF TO SH\n",
    "        # Fit SH\n",
    "        sh = sf_to_sh(weights_scaled, sphere, sh_order, basis_type, smooth=smooth)\n",
    "\n",
    "        # Apply mask\n",
    "        if mask is not None:\n",
    "                sh *= mask[..., None]\n",
    "\n",
    "        # Reconstructing DWI\n",
    "        # SH to SF \n",
    "        og_bvecs = og_gradient_table.bvecs\n",
    "\n",
    "        if not is_normalized_bvecs(og_bvecs):\n",
    "                logging.warning(\"Your b-vectors do not seem normalized...\")\n",
    "                og_bvecs = normalize_bvecs(og_bvecs)\n",
    "\n",
    "        og_bvecs = og_bvecs[np.logical_not(b0_mask)]\n",
    "\n",
    "        og_sphere = Sphere(xyz=og_bvecs)\n",
    "\n",
    "        sf = sh_to_sf(sh, og_sphere, sh_order=sh_order, basis_type=basis_type)\n",
    "\n",
    "        # SF TO DWI (inverse of compute_dwi_attenuation) here weights_hat is DWI with bvec corrected\n",
    "        b0 = b0[..., None]\n",
    "        weights_hat = sf * b0 \n",
    "        dwi_hat[i,j,k,:] = weights_hat\n"
   ]
  },
  {
   "cell_type": "code",
   "execution_count": 18,
   "metadata": {},
   "outputs": [],
   "source": [
    "# TO RUN FOR SHELLS SEPARATELY \n",
    "og_bval, og_bvec = read_bvals_bvecs(ob_file,og_file)\n",
    "ind_1000 = np.where(og_bval == 1000)\n",
    "ind_2000 = np.where(og_bval == 2000)\n",
    "ind_b0 = np.nonzero(og_bval==0)\n",
    "ind_b0 = np.squeeze(ind_b0)\n",
    "ind_0_1000 = np.where((og_bval == 0) | (og_bval == 1000))\n",
    "ind_0_2000 = np.where((og_bval == 0) | (og_bval == 2000))\n",
    "\n",
    "# LOAD THE VOXELWISE BVALS AND BVECS\n",
    "bvec_vols = []\n",
    "for i in sorted(os.listdir(vec_folder)):\n",
    "    if i.endswith('.nii.gz'):\n",
    "        bvec_vol = nib.load(vec_folder + '/' + i).get_fdata()\n",
    "        bvec_vol = np.expand_dims(bvec_vol,4)\n",
    "        bvec_vol = np.transpose(bvec_vol,(0,1,2,4,3))\n",
    "        bvec_vols.append(bvec_vol)\n",
    "bvec_stack = np.stack(bvec_vols,3)\n",
    "bvec_stack = bvec_stack.squeeze()\n",
    "\n",
    "bval_vols = []\n",
    "for i in sorted(os.listdir(val_folder)):\n",
    "    if i.endswith('.nii.gz'):\n",
    "        bval_vol = nib.load(val_folder + '/' + i).get_fdata()\n",
    "        bval_vols.append(bval_vol)\n",
    "bval_stack = np.stack(bval_vols,3)"
   ]
  },
  {
   "cell_type": "code",
   "execution_count": 33,
   "metadata": {},
   "outputs": [
    {
     "data": {
      "text/plain": [
       "1"
      ]
     },
     "execution_count": 33,
     "metadata": {},
     "output_type": "execute_result"
    }
   ],
   "source": [
    "[ind_1000[0].shape]"
   ]
  },
  {
   "cell_type": "code",
   "execution_count": 34,
   "metadata": {},
   "outputs": [
    {
     "name": "stdout",
     "output_type": "stream",
     "text": [
      "56\n"
     ]
    },
    {
     "name": "stderr",
     "output_type": "stream",
     "text": [
      "/tmp/ipykernel_4185594/3737322730.py:42: RuntimeWarning: invalid value encountered in true_divide\n"
     ]
    }
   ],
   "source": [
    "\n",
    "num_cores = 10\n",
    "path = tempfile.mkdtemp()\n",
    "xaxis = range(n.shape[0])\n",
    "yaxis = range(n.shape[1])\n",
    "zaxis = range(n.shape[2]) \n",
    "xaxis = range(1)\n",
    "yaxis = range(1)\n",
    "zaxis = range(1)\n",
    "# for dwi with 0 1000\n",
    "len1 = ind_0_1000[0]\n",
    "dwi_hat_path1 = os.path.join(path,'dwi_hat1.mmap')\n",
    "dwi_hat1 = np.memmap(dwi_hat_path1, dtype=float, shape=(n.shape[0],n.shape[1],n.shape[2],ind_1000[0].shape[0]), mode='w+')\n",
    "results = Parallel(n_jobs=num_cores)(delayed(reconstruct_signal_at_voxel)(i,j,k,n[:,:,:,len1],og_bval[len1],og_bvec[len1,:],bvec_stack[:,:,:,len1,:],bval_stack[:,:,:,len1],dwi_hat1) for k in zaxis for j in yaxis for i in xaxis)"
   ]
  },
  {
   "cell_type": "code",
   "execution_count": 27,
   "metadata": {},
   "outputs": [
    {
     "ename": "NameError",
     "evalue": "name 'len2' is not defined",
     "output_type": "error",
     "traceback": [
      "\u001b[0;31m---------------------------------------------------------------------------\u001b[0m",
      "\u001b[0;31mNameError\u001b[0m                                 Traceback (most recent call last)",
      "\u001b[1;32m/home/local/VANDERBILT/kanakap/gradtensor/src/sh_sig1.ipynb Cell 9'\u001b[0m in \u001b[0;36m<cell line: 1>\u001b[0;34m()\u001b[0m\n\u001b[0;32m----> <a href='vscode-notebook-cell://ssh-remote%2Bmasi-50/home/local/VANDERBILT/kanakap/gradtensor/src/sh_sig1.ipynb#ch0000031vscode-remote?line=0'>1</a>\u001b[0m bvec_stack[:,:,:,len2,:]\u001b[39m.\u001b[39mshape\n",
      "\u001b[0;31mNameError\u001b[0m: name 'len2' is not defined"
     ]
    }
   ],
   "source": [
    "bvec_stack[:,:,:,len2,:].shape"
   ]
  },
  {
   "cell_type": "code",
   "execution_count": null,
   "metadata": {},
   "outputs": [],
   "source": [
    "# for dwi with 0 2000\n",
    "len2 = ind_0_2000[0]\n",
    "dwi_hat_path2 = os.path.join(path,'dwi_hat2.mmap')\n",
    "dwi_hat2 = np.memmap(dwi_hat_path2, dtype=float, shape=(n.shape[0],n.shape[1],n.shape[2],ind_2000[0].shape[0]), mode='w+')\n",
    "results = Parallel(n_jobs=num_cores)(delayed(reconstruct_signal_at_voxel)(i,j,k,n[:,:,:,len2],og_bval[len2],og_bvec[len2,:],bvec_stack[:,:,:,len2,:],bval_stack[:,:,:,len2],dwi_hat2) for k in zaxis for j in yaxis for i in xaxis)"
   ]
  },
  {
   "cell_type": "code",
   "execution_count": 21,
   "metadata": {},
   "outputs": [
    {
     "data": {
      "text/plain": [
       "(112, 112, 54, 56)"
      ]
     },
     "execution_count": 21,
     "metadata": {},
     "output_type": "execute_result"
    }
   ],
   "source": [
    "bval_stack[:,:,:,len1].shape"
   ]
  },
  {
   "cell_type": "code",
   "execution_count": 71,
   "metadata": {},
   "outputs": [
    {
     "data": {
      "text/plain": [
       "(112, 3)"
      ]
     },
     "execution_count": 71,
     "metadata": {},
     "output_type": "execute_result"
    }
   ],
   "source": [
    "og_bvec.shape"
   ]
  },
  {
   "cell_type": "code",
   "execution_count": 75,
   "metadata": {},
   "outputs": [
    {
     "data": {
      "text/plain": [
       "array([  0,   8,  17,  26,  35,  44,  46,  47,  55,  64,  73,  82,  91,\n",
       "       100, 109, 111])"
      ]
     },
     "execution_count": 75,
     "metadata": {},
     "output_type": "execute_result"
    }
   ],
   "source": [
    "ind_b0 = np.nonzero(og_bval==0)\n",
    "ind_b0 = np.squeeze(ind_b0)\n",
    "ind_b0"
   ]
  },
  {
   "cell_type": "code",
   "execution_count": null,
   "metadata": {},
   "outputs": [],
   "source": [
    "n[28][38][23]#[..., np.logical_not(b0_mask)]"
   ]
  },
  {
   "cell_type": "code",
   "execution_count": null,
   "metadata": {},
   "outputs": [],
   "source": [
    "dwi_hat[28][38][23]"
   ]
  },
  {
   "cell_type": "code",
   "execution_count": null,
   "metadata": {},
   "outputs": [],
   "source": [
    "dwmri_corrected = np.zeros((n.shape[0],n.shape[1],n.shape[2],n.shape[3]))\n",
    "\n",
    "dwmri_corrected[:,:,:,ind_b0] = n[:,:,:,ind_b0] \n",
    "dwmri_corrected[:,:,:,ind_1000[0]] = dwi_hat1\n",
    "dwmri_corrected[:,:,:,ind_2000[0]] = dwi_hat2\n",
    "\n",
    "\n",
    "nib.save(nib.Nifti1Image(dwmri_corrected.astype(np.float32),vol.affine),\"dwi_hat_whole_img8.nii\" )"
   ]
  },
  {
   "cell_type": "code",
   "execution_count": null,
   "metadata": {},
   "outputs": [],
   "source": [
    "bvec_stack.shape"
   ]
  },
  {
   "cell_type": "code",
   "execution_count": null,
   "metadata": {},
   "outputs": [],
   "source": [
    "# DWI TO SF\n",
    "def reconstruct_signal_at_voxel_bval(i,j,k,mask,dwi_hat,mean_b0_vol,ind_non_b0_shape,og_bval,bval_stack,dwi_hat_bval):\n",
    "    #if mask[i,j,k] == 1:\n",
    "    dwi = dwi_hat[i][j][k]\n",
    "    b0 = mean_b0_vol[i][j][k]\n",
    "    val = bval_stack[i,j,k,:]\n",
    "    vec = bvec_stack[i,j,k,:,:]\n",
    "    gradient_table = gradient_table_from_bvals_bvecs(val, vec)\n",
    "\n",
    "    # Extracting infos\n",
    "    b0_mask = gradient_table.b0s_mask\n",
    "    bvecs = gradient_table.bvecs\n",
    "    bvals = gradient_table.bvals\n",
    "    dwi = np.reshape(dwi,[1,1,1,ind_non_b0_shape])\n",
    "\n",
    "    norm_gg = np.divide(bvals[np.logical_not(b0_mask)] , og_bval[np.logical_not(b0_mask)])\n",
    "\n",
    "\n",
    "    dwi_hat_bval[i,j,k,:] = b0 * np.exp (np.divide( (np.log (np.divide(dwi,b0)) ) , norm_gg))\n"
   ]
  },
  {
   "cell_type": "code",
   "execution_count": null,
   "metadata": {},
   "outputs": [],
   "source": [
    "num_cores = 10\n",
    "\n",
    "dwi_hat_bval_path = os.path.join(path,'dwi_hat_bval.mmap')\n",
    "dwi_hat_bval = np.memmap(dwi_hat_bval_path, dtype=float, shape=(n.shape[0],n.shape[1],n.shape[2],ind_non_b0.shape[0]), mode='w+')\n",
    "xaxis = range(n.shape[0])\n",
    "yaxis = range(n.shape[1])\n",
    "zaxis = range(n.shape[2]) \n",
    "mean_b0 = np.mean(n[:,:,:,ind_b0] , 3)\n",
    "# get info \n",
    "results = Parallel(n_jobs=num_cores)(delayed(reconstruct_signal_at_voxel_bval)(i,j,k,mask,dwi_hat,mean_b0,ind_non_b0.shape[0],og_bval,bval_stack,dwi_hat_bval) for k in zaxis for j in yaxis for i in xaxis)"
   ]
  },
  {
   "cell_type": "code",
   "execution_count": null,
   "metadata": {},
   "outputs": [],
   "source": [
    "# Add the b0 volume back \n",
    "ind_b0 = np.nonzero(og_bval==0)\n",
    "ind_non_b0 = np.nonzero(og_bval)\n",
    "ind_b0 = np.squeeze(ind_b0)\n",
    "ind_non_b0 = np.squeeze(ind_non_b0)\n",
    "\n",
    "dwmri_corrected_bval = np.zeros((n.shape[0],n.shape[1],n.shape[2],n.shape[3]))\n",
    "\n",
    "dwmri_corrected_bval[:,:,:,ind_b0] = n[:,:,:,ind_b0] \n",
    "dwmri_corrected_bval[:,:,:,ind_non_b0] = dwi_hat_bval \n",
    "dwmri_corrected_bval = np.nan_to_num(dwmri_corrected_bval)\n",
    "\n",
    "nib.save(nib.Nifti1Image(dwmri_corrected_bval.astype(np.float32),vol.affine),\"dwi_hat_bval_whole_img.nii\" )\n"
   ]
  },
  {
   "cell_type": "code",
   "execution_count": null,
   "metadata": {},
   "outputs": [],
   "source": [
    "import shutil\n",
    "try:\n",
    "    shutil.rmtree(path)\n",
    "except:\n",
    "    print(\"Couldn't delete folder\")"
   ]
  },
  {
   "cell_type": "code",
   "execution_count": null,
   "metadata": {},
   "outputs": [],
   "source": [
    "dwmri_corrected[:,:,:,ind_b0].shape"
   ]
  },
  {
   "cell_type": "code",
   "execution_count": null,
   "metadata": {},
   "outputs": [],
   "source": [
    "from mpl_toolkits import mplot3d\n",
    "import numpy as np\n",
    "import matplotlib.pyplot as plt"
   ]
  },
  {
   "cell_type": "markdown",
   "metadata": {},
   "source": [
    "fig = plt.figure(figsize = (7, 7))\n",
    "ax = plt.axes(projection =\"3d\")\n",
    "for i in range(72):\n",
    "    ax.scatter3D(vec[i][0], vec[i][1], vec[i][2], color ='b')"
   ]
  },
  {
   "cell_type": "code",
   "execution_count": null,
   "metadata": {
    "scrolled": true
   },
   "outputs": [],
   "source": []
  },
  {
   "cell_type": "code",
   "execution_count": null,
   "metadata": {},
   "outputs": [],
   "source": []
  }
 ],
 "metadata": {
  "kernelspec": {
   "display_name": "Python 3.8.10 ('py38-venv')",
   "language": "python",
   "name": "python3"
  },
  "language_info": {
   "codemirror_mode": {
    "name": "ipython",
    "version": 3
   },
   "file_extension": ".py",
   "mimetype": "text/x-python",
   "name": "python",
   "nbconvert_exporter": "python",
   "pygments_lexer": "ipython3",
   "version": "3.8.10"
  },
  "vscode": {
   "interpreter": {
    "hash": "d9749a4265c87f72774543240441c51fd1bb64f2f820d264106490f8b1f503d5"
   }
  }
 },
 "nbformat": 4,
 "nbformat_minor": 2
}
