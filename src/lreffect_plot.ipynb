{
 "cells": [
  {
   "cell_type": "code",
   "execution_count": 4,
   "id": "8b298770",
   "metadata": {},
   "outputs": [],
   "source": [
    "import numpy as np\n",
    "import os\n",
    "import glob\n",
    "import matlab.engine\n",
    "import matplotlib.pyplot as plt\n",
    "\n",
    "eng = matlab.engine.start_matlab()\n",
    "eng.addpath('/home/local/VANDERBILT/kanakap/gradtensor/npy-matlab/')\n",
    "p = []\n",
    "for path in glob.glob('/nfs/masi/kanakap/projects/LR_tract/MASiVar_kids/*/*'):\n",
    "    p.append(path)\n",
    "p.sort()\n",
    "d = {}\n",
    "for i in range(len(p)):\n",
    "    a = [p[i]+'/tracto_op_1_Lest/connectivity_matrices/',p[i]+'/tracto_op_2_Lest/connectivity_matrices/']\n",
    "    d[i] = a\n",
    "\n",
    "all_mod = {}\n",
    "all_gb = {}\n",
    "all_cpl = {}\n",
    "data1mod = []\n",
    "data2mod = []\n",
    "data1ge = []\n",
    "data2ge = []\n",
    "data1cpl = []\n",
    "data2cpl = []\n",
    "for i in d:\n",
    "    for f in os.listdir(d[i][0]):\n",
    "        if f.endswith('__tot_commit2_weights.npy'):\n",
    "            tot = d[i][0] + f \n",
    "            if os.path.exists(tot):\n",
    "                mod = eng.compute_mod(tot)\n",
    "                gb = eng.compute_gb(tot)\n",
    "        if f.endswith('__len.npy'):\n",
    "            clen = d[i][0] + f\n",
    "            if os.path.exists(clen):\n",
    "                cpl = eng.compute_cpl(clen)\n",
    "    \n",
    "    for l in os.listdir(d[i][1]):\n",
    "        if l.endswith('__tot_commit2_weights.npy'):\n",
    "            tot1 = d[i][1]  + l\n",
    "            if os.path.exists(tot1):\n",
    "                mod1 = eng.compute_mod(tot1)\n",
    "                gb1 = eng.compute_gb(tot1)\n",
    "        if l.endswith('__len.npy'):\n",
    "            clen1 = d[i][1] + l\n",
    "            if os.path.exists(clen1):\n",
    "                cpl1 = eng.compute_cpl(clen1)\n",
    "                \n",
    "    data1mod.append(mod)\n",
    "    data2mod.append(mod1)\n",
    "    data1ge.append(gb)\n",
    "    data2ge.append(gb1)\n",
    "    data1cpl.append(cpl)\n",
    "    data2cpl.append(cpl1)\n",
    "    all_mod[i] = [mod, mod1]\n",
    "    all_gb[i] = [gb, gb1]\n",
    "    all_cpl[i] = [cpl, cpl1]\n",
    "    mod = np.nan\n",
    "    mod1 = np.nan\n",
    "    gb = np.nan\n",
    "    gb1 = np.nan\n",
    "    cpl = np.nan\n",
    "    cpl1 = np.nan\n",
    "eng.quit()"
   ]
  },
  {
   "cell_type": "code",
   "execution_count": null,
   "id": "c8c0f5e2",
   "metadata": {},
   "outputs": [],
   "source": [
    "Ldata2mod"
   ]
  },
  {
   "cell_type": "code",
   "execution_count": null,
   "id": "2d81a48c",
   "metadata": {},
   "outputs": [],
   "source": [
    "def cov_cal(data1, data2, *args, **kwargs):\n",
    "    data1     = np.asarray(data1)\n",
    "    data2     = np.asarray(data2)\n",
    "    mean      = np.nanmean([data1, data2], axis=0)\n",
    "    std       = np.nanstd([data1, data2], axis=0)                  # Difference between data1 and data2\n",
    "    cov        = (std / mean)  * 100                # Mean of the difference\n",
    "    return cov"
   ]
  },
  {
   "cell_type": "code",
   "execution_count": null,
   "id": "e80c1d0e",
   "metadata": {},
   "outputs": [],
   "source": [
    "Lcov_mod = cov_cal(data1mod,data2mod)\n",
    "Lcov_ge = cov_cal(data1ge,data2ge)\n",
    "Lcov_cpl = cov_cal(data1cpl,data2cpl)"
   ]
  },
  {
   "cell_type": "code",
   "execution_count": 2,
   "id": "4089b146",
   "metadata": {},
   "outputs": [],
   "source": [
    "def diff_cal(data1, data2, *args, **kwargs):\n",
    "    data1     = np.asarray(data1)\n",
    "    data2     = np.asarray(data2)\n",
    "    diff      = np.abs(data1 - data2)\n",
    "    return diff"
   ]
  },
  {
   "cell_type": "code",
   "execution_count": 5,
   "id": "5dcaf4bb",
   "metadata": {},
   "outputs": [],
   "source": [
    "Ldiff_mod = diff_cal(data1mod,data2mod)\n",
    "Ldiff_ge = diff_cal(data1ge,data2ge)\n",
    "Ldiff_cpl = diff_cal(data1cpl,data2cpl)"
   ]
  },
  {
   "cell_type": "code",
   "execution_count": null,
   "id": "da862e82",
   "metadata": {},
   "outputs": [],
   "source": [
    "Ldiff_mod"
   ]
  },
  {
   "cell_type": "code",
   "execution_count": null,
   "id": "325ebffe",
   "metadata": {},
   "outputs": [],
   "source": [
    "pe1_mod = []\n",
    "for i in all_mod:\n",
    "    pe1_mod.append( abs( ( (all_mod[i][0] - all_mod[i][1]) / all_mod[i][1] ) * 100 ) )\n",
    "    \n",
    "pe1_ge = []\n",
    "for i in all_gb:\n",
    "    pe1_ge.append( abs ( ( (all_gb[i][0] - all_gb[i][1]) / all_gb[i][1] ) * 100 ) ) \n",
    "    \n",
    "pe1_cpl = []\n",
    "for i in all_cpl:\n",
    "    pe1_cpl.append( abs( ( (all_cpl[i][0] - all_cpl[i][1]) / all_cpl[i][1] ) * 100) )\n",
    "pe2_mod = []\n",
    "for i in all_mod:\n",
    "    pe2_mod.append( abs( ( (all_mod[i][0] - all_mod[i][1]) / all_mod[i][1] ) * 100 ) )\n",
    "    \n",
    "pe2_ge = []\n",
    "for i in all_gb:\n",
    "    pe1_ge.append( abs ( ( (all_gb[i][0] - all_gb[i][1]) / all_gb[i][1] ) * 100 ) ) \n",
    "    \n",
    "pe2_cpl = []\n",
    "for i in all_cpl:\n",
    "    pe1_cpl.append( abs( ( (all_cpl[i][0] - all_cpl[i][1]) / all_cpl[i][1] ) * 100) )    "
   ]
  },
  {
   "cell_type": "code",
   "execution_count": null,
   "id": "5ab10925",
   "metadata": {},
   "outputs": [],
   "source": [
    "import numpy as np\n",
    "import os\n",
    "import glob\n",
    "import json \n",
    "\n",
    "p = []\n",
    "for path in glob.glob('/nfs/masi/kanakap/projects/LR_tract/MASiVar_kids/*/*'):\n",
    "    p.append(path)\n",
    "p.sort()\n",
    "d = {}\n",
    "for i in range(len(p)):\n",
    "    a = [p[i]+'/tracto_op_1_Lest/stats_json/length_stats.json',p[i]+'/tracto_op_2_Lest/stats_json/length_stats.json']\n",
    "    d[i] = a\n",
    "\n",
    "Lallcov_len = []\n",
    "for i in d:\n",
    "\n",
    "    if os.path.exists(d[i][0]):\n",
    "        f = open(d[i][0])\n",
    "        data = json.load(f)\n",
    "\n",
    "    if os.path.exists(d[i][1]):\n",
    "        f = open(d[i][1])\n",
    "        data1 = json.load(f)\n",
    "    \n",
    "    k = list(data.keys())[0] \n",
    "    k1 = list(data1.keys())[0]\n",
    "    if k == k1: \n",
    "        \n",
    "        v = list(data[k].values()) # get the value of the subj dict\n",
    "        v1 = list(data1[k1].values())\n",
    "\n",
    "    \n",
    "        if len(v) == len(v1): # if the number of bundles generated is same\n",
    "            cov_list = []\n",
    "            for j in range(len(v)): # compute pe\n",
    "            #diff = abs ( (v[j]['mean_length'] - v1[j]['mean_length']) / v1[j]['mean_length'] ) * 100\n",
    "                vlen = (v[j]['mean_length'])\n",
    "                vlen1 = (v1[j]['mean_length'])\n",
    "                mean = np.mean([vlen, vlen1], axis=0)\n",
    "                std = np.std([vlen, vlen1], axis=0)\n",
    "                cov = (std / mean) * 100\n",
    "                cov_list.append(cov)\n",
    "            mean_cov = np.mean(cov_list)\n",
    "        else:\n",
    "            mean_cov = np.nan\n",
    "            \n",
    "\n",
    "    Lallcov_len.append(mean_cov)\n",
    "#     all_len[i] = [mean, mean1]"
   ]
  },
  {
   "cell_type": "code",
   "execution_count": null,
   "id": "66c1cb16",
   "metadata": {},
   "outputs": [],
   "source": [
    "Lallcov_len"
   ]
  },
  {
   "cell_type": "code",
   "execution_count": null,
   "id": "11f1fcf8",
   "metadata": {},
   "outputs": [],
   "source": [
    "d = {}\n",
    "for i in range(len(p)):\n",
    "    a = [p[i]+'/tracto_op_1_Lest/stats_json/volumes.json',p[i]+'/tracto_op_2_Lest/stats_json/volumes.json']\n",
    "    d[i] = a\n",
    "\n",
    "Lallcov_vol = []\n",
    "\n",
    "for i in d:\n",
    "    if os.path.exists(d[i][0]):\n",
    "        f = open(d[i][0])\n",
    "        data = json.load(f)\n",
    "\n",
    "    if os.path.exists(d[i][1]):\n",
    "        f = open(d[i][1])\n",
    "        data1 = json.load(f)\n",
    "    \n",
    "    k = list(data.keys())[0]\n",
    "    k1 = list(data1.keys())[0]\n",
    "    if k == k1:\n",
    "        v = list(data[k].values())\n",
    "        v1 = list(data1[k1].values())\n",
    "        \n",
    "        if len(v) == len(v1): # if the number of bundles generated is same\n",
    "            cov_list = []\n",
    "            for j in range(len(v)): # compute pe\n",
    "            #diff = abs ( (v[j]['mean_length'] - v1[j]['mean_length']) / v1[j]['mean_length'] ) * 100\n",
    "                vol = (v[j]['volume'])\n",
    "                vol1 = (v1[j]['volume'])\n",
    "                mean = np.mean([vol, vol1], axis=0)\n",
    "                std = np.std([vol, vol1], axis=0)\n",
    "                cov = (std / mean) * 100\n",
    "                cov_list.append(cov)\n",
    "            mean_cov = np.mean(cov_list)\n",
    "        else:\n",
    "            mean_cov = np.nan\n",
    "            \n",
    "\n",
    "    Lallcov_vol.append(mean_cov)"
   ]
  },
  {
   "cell_type": "code",
   "execution_count": 6,
   "id": "f347785f",
   "metadata": {},
   "outputs": [],
   "source": [
    "import pandas as pd\n",
    "df1 = pd.DataFrame(diff_mod).assign(x='Without L(r)').dropna()\n",
    "df2 = pd.DataFrame(Ldiff_mod).assign(x='With L(r)').dropna()\n",
    "\n",
    "df3 = pd.DataFrame(diff_ge).assign(x='Without L(r)').dropna()\n",
    "df4 = pd.DataFrame(Ldiff_ge).assign(x='With L(r)').dropna()\n",
    "\n",
    "df5 = pd.DataFrame(diff_cpl).assign(x='Without L(r)').dropna()\n",
    "df6 = pd.DataFrame(Ldiff_cpl).assign(x='With L(r)').dropna()\n",
    "\n",
    "dfmod = pd.concat([df1,df2])\n",
    "dfge = pd.concat([df3,df4])\n",
    "dfcpl = pd.concat([df5,df6])"
   ]
  },
  {
   "cell_type": "code",
   "execution_count": null,
   "id": "b2dc9418",
   "metadata": {},
   "outputs": [],
   "source": [
    "import pandas as pd\n",
    "df1 = pd.DataFrame(cov_mod).assign(x='Without L(r)').dropna()\n",
    "df2 = pd.DataFrame(Lcov_mod).assign(x='With L(r)').dropna()\n",
    "\n",
    "df3 = pd.DataFrame(cov_ge).assign(x='Without L(r)').dropna()\n",
    "df4 = pd.DataFrame(Lcov_ge).assign(x='With L(r)').dropna()\n",
    "\n",
    "df5 = pd.DataFrame(cov_cpl).assign(x='Without L(r)').dropna()\n",
    "df6 = pd.DataFrame(Lcov_cpl).assign(x='With L(r)').dropna()\n",
    "\n",
    "dfmod = pd.concat([df1,df2])\n",
    "dfge = pd.concat([df3,df4])\n",
    "dfcpl = pd.concat([df5,df6])"
   ]
  },
  {
   "cell_type": "code",
   "execution_count": 16,
   "id": "775bd91e",
   "metadata": {},
   "outputs": [
    {
     "data": {
      "text/html": [
       "<div>\n",
       "<style scoped>\n",
       "    .dataframe tbody tr th:only-of-type {\n",
       "        vertical-align: middle;\n",
       "    }\n",
       "\n",
       "    .dataframe tbody tr th {\n",
       "        vertical-align: top;\n",
       "    }\n",
       "\n",
       "    .dataframe thead th {\n",
       "        text-align: right;\n",
       "    }\n",
       "</style>\n",
       "<table border=\"1\" class=\"dataframe\">\n",
       "  <thead>\n",
       "    <tr style=\"text-align: right;\">\n",
       "      <th></th>\n",
       "      <th>0</th>\n",
       "      <th>x</th>\n",
       "    </tr>\n",
       "  </thead>\n",
       "  <tbody>\n",
       "    <tr>\n",
       "      <th>0</th>\n",
       "      <td>0.019541</td>\n",
       "      <td>Without L(r)</td>\n",
       "    </tr>\n",
       "    <tr>\n",
       "      <th>1</th>\n",
       "      <td>0.000668</td>\n",
       "      <td>Without L(r)</td>\n",
       "    </tr>\n",
       "    <tr>\n",
       "      <th>2</th>\n",
       "      <td>0.009220</td>\n",
       "      <td>Without L(r)</td>\n",
       "    </tr>\n",
       "    <tr>\n",
       "      <th>3</th>\n",
       "      <td>0.007380</td>\n",
       "      <td>Without L(r)</td>\n",
       "    </tr>\n",
       "    <tr>\n",
       "      <th>4</th>\n",
       "      <td>0.014504</td>\n",
       "      <td>Without L(r)</td>\n",
       "    </tr>\n",
       "    <tr>\n",
       "      <th>...</th>\n",
       "      <td>...</td>\n",
       "      <td>...</td>\n",
       "    </tr>\n",
       "    <tr>\n",
       "      <th>113</th>\n",
       "      <td>0.006394</td>\n",
       "      <td>Without L(r)</td>\n",
       "    </tr>\n",
       "    <tr>\n",
       "      <th>114</th>\n",
       "      <td>0.011821</td>\n",
       "      <td>Without L(r)</td>\n",
       "    </tr>\n",
       "    <tr>\n",
       "      <th>115</th>\n",
       "      <td>0.001651</td>\n",
       "      <td>Without L(r)</td>\n",
       "    </tr>\n",
       "    <tr>\n",
       "      <th>116</th>\n",
       "      <td>0.001025</td>\n",
       "      <td>Without L(r)</td>\n",
       "    </tr>\n",
       "    <tr>\n",
       "      <th>117</th>\n",
       "      <td>0.024847</td>\n",
       "      <td>Without L(r)</td>\n",
       "    </tr>\n",
       "  </tbody>\n",
       "</table>\n",
       "<p>116 rows × 2 columns</p>\n",
       "</div>"
      ],
      "text/plain": [
       "            0             x\n",
       "0    0.019541  Without L(r)\n",
       "1    0.000668  Without L(r)\n",
       "2    0.009220  Without L(r)\n",
       "3    0.007380  Without L(r)\n",
       "4    0.014504  Without L(r)\n",
       "..        ...           ...\n",
       "113  0.006394  Without L(r)\n",
       "114  0.011821  Without L(r)\n",
       "115  0.001651  Without L(r)\n",
       "116  0.001025  Without L(r)\n",
       "117  0.024847  Without L(r)\n",
       "\n",
       "[116 rows x 2 columns]"
      ]
     },
     "execution_count": 16,
     "metadata": {},
     "output_type": "execute_result"
    }
   ],
   "source": [
    "df1"
   ]
  },
  {
   "cell_type": "code",
   "execution_count": 8,
   "id": "7835605f",
   "metadata": {},
   "outputs": [
    {
     "data": {
      "image/png": "[encoded data removed]",
      "text/plain": [
       "<Figure size 576x864 with 1 Axes>"
      ]
     },
     "metadata": {
      "needs_background": "light"
     },
     "output_type": "display_data"
    }
   ],
   "source": [
    "import seaborn as sns\n",
    "plt.figure(figsize=(8,12))\n",
    "flierprops = dict(markerfacecolor='0.75', markersize=5, marker='.',\n",
    "              linestyle='none')\n",
    "sns.boxplot(x=\"x\",y=0,data=dfmod,flierprops=flierprops, width=0.7 )\n",
    "plt.title('Abs. change in Modularity without and \\n with L(r) corruption', fontsize=25)\n",
    "plt.ylabel('Abs. change in Modularity',fontsize = 25)\n",
    "plt.rcParams.update({'font.size':25})"
   ]
  },
  {
   "cell_type": "code",
   "execution_count": 9,
   "id": "079ff8d1",
   "metadata": {},
   "outputs": [
    {
     "data": {
      "image/png": "[encoded data removed]",
      "text/plain": [
       "<Figure size 576x864 with 1 Axes>"
      ]
     },
     "metadata": {
      "needs_background": "light"
     },
     "output_type": "display_data"
    }
   ],
   "source": [
    "plt.figure(figsize=(8,12))\n",
    "flierprops = dict(markerfacecolor='0.75', markersize=5, marker='.',\n",
    "              linestyle='none')\n",
    "sns.boxplot(x=\"x\",y=0,data=dfge,flierprops=flierprops, width=0.7 )\n",
    "plt.title('Abs. change in GE without and \\n with L(r) corruption', fontsize=25)\n",
    "plt.ylabel('Abs. change in GE',fontsize = 25)\n",
    "plt.rcParams.update({'font.size':25})"
   ]
  },
  {
   "cell_type": "code",
   "execution_count": 10,
   "id": "5ea3434c",
   "metadata": {},
   "outputs": [
    {
     "data": {
      "image/png": "[encoded data removed]",
      "text/plain": [
       "<Figure size 576x864 with 1 Axes>"
      ]
     },
     "metadata": {
      "needs_background": "light"
     },
     "output_type": "display_data"
    }
   ],
   "source": [
    "plt.figure(figsize=(8,12))\n",
    "flierprops = dict(markerfacecolor='0.75', markersize=5, marker='.',\n",
    "              linestyle='none')\n",
    "sns.boxplot(x=\"x\",y=0,data=dfcpl,flierprops=flierprops, width=0.7 )\n",
    "plt.title('Abs. change in CPL without and \\n with L(r) corruption', fontsize=25)\n",
    "plt.ylabel('Abs. change in CPL',fontsize = 25)\n",
    "plt.rcParams.update({'font.size':25})"
   ]
  },
  {
   "cell_type": "code",
   "execution_count": 19,
   "id": "e93ddc09",
   "metadata": {},
   "outputs": [],
   "source": [
    "from scipy import stats\n",
    "sdf1 = pd.DataFrame(diff_mod).assign(x='Without L(r)')\n",
    "sdf2 = pd.DataFrame(Ldiff_mod).assign(x='With L(r)')\n",
    "\n",
    "sdf3 = pd.DataFrame(diff_ge).assign(x='Without L(r)')\n",
    "sdf4 = pd.DataFrame(Ldiff_ge).assign(x='With L(r)')\n",
    "\n",
    "sdf5 = pd.DataFrame(diff_cpl).assign(x='Without L(r)')\n",
    "sdf6 = pd.DataFrame(Ldiff_cpl).assign(x='With L(r)')\n",
    "\n",
    "pmod = stats.wilcoxon(sdf1[0], sdf2[0])\n",
    "pge = stats.wilcoxon(sdf3[0], sdf4[0])\n",
    "pcpl = stats.wilcoxon(sdf5[0], sdf6[0])"
   ]
  },
  {
   "cell_type": "code",
   "execution_count": 23,
   "id": "c6735e3d",
   "metadata": {},
   "outputs": [
    {
     "name": "stdout",
     "output_type": "stream",
     "text": [
      "WilcoxonResult(statistic=1479.0, pvalue=4.883789007129706e-08) WilcoxonResult(statistic=2009.0, pvalue=5.5256617248754625e-05) WilcoxonResult(statistic=1797.0, pvalue=4.19424033168447e-06)\n"
     ]
    }
   ],
   "source": [
    "print(pmod,pge,pcpl)\n",
    "praw = [pmod.pvalue,pge.pvalue,pcpl.pvalue]"
   ]
  },
  {
   "cell_type": "code",
   "execution_count": 24,
   "id": "6a1da398",
   "metadata": {},
   "outputs": [
    {
     "data": {
      "text/plain": [
       "(array([ True,  True,  True]),\n",
       " array([1.46513670e-07, 1.65769852e-04, 1.25827210e-05]),\n",
       " 0.0016694521863086509,\n",
       " 0.0016666666666666668)"
      ]
     },
     "execution_count": 24,
     "metadata": {},
     "output_type": "execute_result"
    }
   ],
   "source": [
    "from statsmodels.sandbox.stats.multicomp import multipletests\n",
    "p_adjusted = multipletests(praw, alpha=0.005,method='bonferroni')\n",
    "p_adjusted"
   ]
  },
  {
   "cell_type": "code",
   "execution_count": 12,
   "id": "e0cbdd49",
   "metadata": {},
   "outputs": [],
   "source": [
    "def cohend(c0,c1):\n",
    "    cohens_d = (np.nanmean(c0) - np.nanmean(c1)) / (np.sqrt((np.nanstd(c0) ** 2 + np.nanstd(c1) ** 2) / 2))\n",
    "    return cohens_d"
   ]
  },
  {
   "cell_type": "code",
   "execution_count": 13,
   "id": "f2266d16",
   "metadata": {},
   "outputs": [
    {
     "name": "stdout",
     "output_type": "stream",
     "text": [
      "-0.9426308866881632 -0.5505900326447798 -0.5820925797712337\n"
     ]
    }
   ],
   "source": [
    "dmod = cohend(df1[0], df2[0])\n",
    "dge = cohend(df3[0], df4[0])\n",
    "dcpl = cohend(df5[0], df6[0])\n",
    "print(dmod,dge,dcpl)"
   ]
  },
  {
   "cell_type": "code",
   "execution_count": null,
   "id": "7a6914eb",
   "metadata": {},
   "outputs": [],
   "source": []
  }
 ],
 "metadata": {
  "kernelspec": {
   "display_name": "Python 3 (ipykernel)",
   "language": "python",
   "name": "python3"
  },
  "language_info": {
   "codemirror_mode": {
    "name": "ipython",
    "version": 3
   },
   "file_extension": ".py",
   "mimetype": "text/x-python",
   "name": "python",
   "nbconvert_exporter": "python",
   "pygments_lexer": "ipython3",
   "version": "3.6.13"
  }
 },
 "nbformat": 4,
 "nbformat_minor": 5
}
